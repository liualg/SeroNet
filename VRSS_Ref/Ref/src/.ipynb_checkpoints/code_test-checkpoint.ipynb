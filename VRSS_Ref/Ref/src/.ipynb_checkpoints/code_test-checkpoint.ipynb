{
 "cells": [
  {
   "cell_type": "code",
   "execution_count": 1,
   "id": "a0afc860-b6d0-44c9-b5b7-5daacbff57fa",
   "metadata": {},
   "outputs": [],
   "source": [
    "import pandas as pd\n",
    "import cbc_functions as cbcFxn\n",
    "from os import path\n"
   ]
  },
  {
   "cell_type": "code",
   "execution_count": 2,
   "id": "0cb62d8f-a928-4a08-905a-0d937d365144",
   "metadata": {},
   "outputs": [],
   "source": [
    "################# Set Paths #################\n",
    "\n",
    "\n",
    "base_path='/Users/liualg/Documents/GitHub/SeroNet/VRSS_Ref'\n",
    "reference_study = path.join(base_path,'Ref')\n",
    "\n",
    "data_path=path.join(reference_study,'data')\n",
    "immport_templates='/Users/liualg/Documents/GitHub/SeroNet/seronetTemplates/template/v.50/ImmPortTemplates.6661.2023-12-04.11-24-40/excel-templates'\n",
    "\n",
    "map_folder = path.join(reference_study,'mapping')\n",
    "vrss_study = path.join(reference_study,'vrss')\n",
    "final_ref = path.join(reference_study,'final')\n",
    "final_txt=path.join(final_ref,'text')"
   ]
  },
  {
   "cell_type": "code",
   "execution_count": 3,
   "id": "0e64b63d-1ad5-436f-99be-c7571720d23d",
   "metadata": {},
   "outputs": [],
   "source": [
    "CBC_assay_data = cbcFxn.obtain_data('testing_data_2.2.0','Primary_Testing_Resutls( CBC)')\n",
    "FNL_assay_data = cbcFxn.obtain_data('testing_data_2.2.0','Secondary_Testing_Results(FNL)')\n",
    "IDK_assay_data = cbcFxn.obtain_data('testing_data_2.2.0','Tertitary_Testing_Results')\n",
    "serology_data = cbcFxn.obtain_data('serology_results_data_2.0.0','Raw Data')\n",
    "\n"
   ]
  },
  {
   "cell_type": "code",
   "execution_count": 4,
   "id": "11dc6be2-578e-4c66-9f51-ccf9bacd6030",
   "metadata": {},
   "outputs": [],
   "source": [
    "from itertools import chain\n",
    "testing = [CBC_assay_data['Assay ID'].values, FNL_assay_data['Assay ID'].values, IDK_assay_data['Assay ID'].values]\n",
    "# list(set(list(chain.from_iterable(testing))))"
   ]
  },
  {
   "cell_type": "code",
   "execution_count": 5,
   "id": "90ae3460-41d5-44a5-a012-d99e5876751c",
   "metadata": {},
   "outputs": [],
   "source": [
    "# list(set(serology_data['Assay_ID']))"
   ]
  },
  {
   "cell_type": "code",
   "execution_count": 8,
   "id": "84455c8c-9612-4098-953f-561e60fbd5a8",
   "metadata": {},
   "outputs": [],
   "source": [
    "s_data = pd.read_csv(path.join(final_ref,'updates_v2','refr_experimentSamples.serology.txt'),sep='\\t')\n",
    "test_data = pd.read_csv(path.join(final_ref,'updates_v2','refr_experimentSamples.ELISA.v2.txt'),sep='\\t')"
   ]
  },
  {
   "cell_type": "code",
   "execution_count": 11,
   "id": "546ef5bc-94c1-4b5f-a56d-444e5e39650a",
   "metadata": {},
   "outputs": [
    {
     "data": {
      "text/plain": [
       "Experiment ID\n",
       "41_483    343\n",
       "41_481    343\n",
       "41_476    343\n",
       "41_474    343\n",
       "41_472    343\n",
       "41_470    343\n",
       "41_468    341\n",
       "14_010    311\n",
       "32_047    304\n",
       "32_048    304\n",
       "41_485    278\n",
       "41_486    200\n",
       "14_020    190\n",
       "14_090    156\n",
       "27_501     72\n",
       "14_070     69\n",
       "14_080     69\n",
       "27_511     60\n",
       "27_503     52\n",
       "27_502     52\n",
       "14_050     44\n",
       "32_040     39\n",
       "27_507     20\n",
       "27_506     20\n",
       "27_504     16\n",
       "27_505     16\n",
       "32_035     15\n",
       "27_508      4\n",
       "27_509      4\n",
       "27_510      4\n",
       "Name: count, dtype: int64"
      ]
     },
     "execution_count": 11,
     "metadata": {},
     "output_type": "execute_result"
    }
   ],
   "source": [
    "serology_data.head()\n",
    "s_data['Experiment ID'].value_counts()"
   ]
  },
  {
   "cell_type": "code",
   "execution_count": 12,
   "id": "51a15648-89bf-43f2-b33b-b7a7ea580967",
   "metadata": {},
   "outputs": [
    {
     "data": {
      "text/plain": [
       "Experiment ID\n",
       "41_481    1257\n",
       "41_483    1090\n",
       "12_101     911\n",
       "12_102     911\n",
       "12_103     911\n",
       "12_104     911\n",
       "41_488     840\n",
       "41_487     839\n",
       "32_047     304\n",
       "32_048     304\n",
       "41_491     221\n",
       "14_010     190\n",
       "14_020     190\n",
       "27_501      72\n",
       "27_503      52\n",
       "27_502      52\n",
       "Name: count, dtype: int64"
      ]
     },
     "execution_count": 12,
     "metadata": {},
     "output_type": "execute_result"
    }
   ],
   "source": [
    "test_data['Experiment ID'].value_counts()"
   ]
  },
  {
   "cell_type": "code",
   "execution_count": null,
   "id": "46d79eed-f143-4608-bfa0-a1462d7c4f62",
   "metadata": {},
   "outputs": [],
   "source": []
  }
 ],
 "metadata": {
  "kernelspec": {
   "display_name": "Python 3 (ipykernel)",
   "language": "python",
   "name": "python3"
  },
  "language_info": {
   "codemirror_mode": {
    "name": "ipython",
    "version": 3
   },
   "file_extension": ".py",
   "mimetype": "text/x-python",
   "name": "python",
   "nbconvert_exporter": "python",
   "pygments_lexer": "ipython3",
   "version": "3.12.2"
  }
 },
 "nbformat": 4,
 "nbformat_minor": 5
}
