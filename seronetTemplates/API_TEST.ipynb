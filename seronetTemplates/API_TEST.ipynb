{
 "cells": [
  {
   "cell_type": "code",
   "execution_count": 4,
   "id": "ed2fb0b5-6374-4388-ac0c-86b8d5dcec46",
   "metadata": {},
   "outputs": [],
   "source": [
    "import pandas as pd\n",
    "import requests\n",
    "import json\n",
    "\n",
    "\n",
    "\n"
   ]
  },
  {
   "cell_type": "code",
   "execution_count": 5,
   "id": "9993cb03-e403-463b-9b4c-f38db287f1f0",
   "metadata": {},
   "outputs": [],
   "source": [
    "BASE_URL = 'https://www.immport.org/data/query/api/study/'\n",
    "SDY='SDY2041'"
   ]
  },
  {
   "cell_type": "code",
   "execution_count": 7,
   "id": "a1e91607-3336-4059-a8aa-a4253bc851fa",
   "metadata": {},
   "outputs": [
    {
     "data": {
      "text/plain": [
       "401"
      ]
     },
     "execution_count": 7,
     "metadata": {},
     "output_type": "execute_result"
    }
   ],
   "source": [
    "response = requests.get(f\"{BASE_URL}{SDY}\")\n",
    "response.status_code"
   ]
  },
  {
   "cell_type": "code",
   "execution_count": null,
   "id": "3b3d47c6-cc4a-46e9-912f-90ea33fdb4ce",
   "metadata": {},
   "outputs": [],
   "source": [
    "def pull_data(API_URL,SDY):\n",
    "    response = requests.get(API_URL)\n",
    "\n",
    "    # Parameters for the API request\n",
    "    params = {\n",
    "        \"country\": \"us\",\n",
    "        \"apiKey\": SDY\n",
    "    }\n",
    "    BASE URL = https://www.immport.org/data/query/api/study/\n",
    "\n",
    "\n",
    "    # Making the API request\n",
    "    response = requests.get(API_URL, params=params)\n",
    "    \n",
    "    # Checking if the request was successful\n",
    "    if response.status_code == 200:\n",
    "        # Printing the JSON response\n",
    "        print(response.json())\n",
    "    else:\n",
    "        print(f\"Error: {response.status_code}\")\n",
    "\n",
    "def jprint(obj):\n",
    "    print(json.dumps(obj, sort_keys=True, indent=4))\n",
    "\n",
    "# Example usage:\n",
    "# jprint(response.json())"
   ]
  }
 ],
 "metadata": {
  "kernelspec": {
   "display_name": "Python 3 (ipykernel)",
   "language": "python",
   "name": "python3"
  },
  "language_info": {
   "codemirror_mode": {
    "name": "ipython",
    "version": 3
   },
   "file_extension": ".py",
   "mimetype": "text/x-python",
   "name": "python",
   "nbconvert_exporter": "python",
   "pygments_lexer": "ipython3",
   "version": "3.12.2"
  }
 },
 "nbformat": 4,
 "nbformat_minor": 5
}
