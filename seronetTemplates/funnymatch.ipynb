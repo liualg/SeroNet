{
 "cells": [
  {
   "cell_type": "code",
   "execution_count": 1,
   "id": "d3aa903d",
   "metadata": {},
   "outputs": [],
   "source": [
    "import pandas as pd"
   ]
  },
  {
   "cell_type": "code",
   "execution_count": 44,
   "id": "71b6f25a",
   "metadata": {},
   "outputs": [],
   "source": [
    "immport = pd.read_excel(\"/Users/liualg/Documents/GitHub/SeroNet/seronetTemplates/template/experimentSamples.Other.xlsx\",\n",
    "              sheet_name=\"lookup\",\n",
    "              header=None\n",
    "        \n",
    "            )[0].values.tolist()"
   ]
  },
  {
   "cell_type": "code",
   "execution_count": 45,
   "id": "bac0be4f",
   "metadata": {},
   "outputs": [
    {
     "data": {
      "text/plain": [
       "True"
      ]
     },
     "execution_count": 45,
     "metadata": {},
     "output_type": "execute_result"
    }
   ],
   "source": [
    "'Plasma' in immport"
   ]
  },
  {
   "cell_type": "code",
   "execution_count": 42,
   "id": "639f6d7e",
   "metadata": {},
   "outputs": [
    {
     "data": {
      "text/plain": [
       "'Western blot'"
      ]
     },
     "execution_count": 42,
     "metadata": {},
     "output_type": "execute_result"
    }
   ],
   "source": [
    "a = 'Western blot'\n",
    "b = [a]*56\n",
    "list(set(b))[0]"
   ]
  },
  {
   "cell_type": "code",
   "execution_count": null,
   "id": "51d416fb",
   "metadata": {},
   "outputs": [],
   "source": []
  }
 ],
 "metadata": {
  "kernelspec": {
   "display_name": "Python 3 (ipykernel)",
   "language": "python",
   "name": "python3"
  },
  "language_info": {
   "codemirror_mode": {
    "name": "ipython",
    "version": 3
   },
   "file_extension": ".py",
   "mimetype": "text/x-python",
   "name": "python",
   "nbconvert_exporter": "python",
   "pygments_lexer": "ipython3",
   "version": "3.9.13"
  }
 },
 "nbformat": 4,
 "nbformat_minor": 5
}
