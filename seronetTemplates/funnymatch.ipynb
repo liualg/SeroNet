{
 "cells": [
  {
   "cell_type": "code",
   "execution_count": 17,
   "id": "bc28cb52",
   "metadata": {},
   "outputs": [],
   "source": [
    "import pandas as pd\n",
    "import glob\n",
    "import numpy as np\n",
    "from fuzzywuzzy import fuzz\n",
    "from openpyxl import load_workbook"
   ]
  },
  {
   "cell_type": "code",
   "execution_count": 18,
   "id": "b7789179",
   "metadata": {},
   "outputs": [],
   "source": [
    "immport = pd.read_excel(\"/Users/liualg/Documents/GitHub/SeroNet/seronetTemplates/template/experimentSamples.Other.xlsx\",\n",
    "              sheet_name=\"lookup\",\n",
    "              header=None\n",
    "        \n",
    "            )[0].values.tolist()"
   ]
  },
  {
   "cell_type": "code",
   "execution_count": 19,
   "id": "1809fd58",
   "metadata": {},
   "outputs": [],
   "source": [
    "seronet = pd.read_excel(\n",
    "    glob.glob(\"/Users/liualg/Library/CloudStorage/OneDrive-NationalInstitutesofHealth/Curation channel/*.xlsm\")[0],\n",
    "                        sheet_name=1,\n",
    "                        header=None).to_numpy()\n",
    "\n",
    "json_seronet_dict = pd.read_excel(\"./dictionary/Facetdict.xlsx\",\n",
    "                                 header=None)\n",
    "json_seronet_dict = dict(\n",
    "    zip(json_seronet_dict.loc[:][0],json_seronet_dict.loc[:][1])\n",
    ")"
   ]
  },
  {
   "cell_type": "code",
   "execution_count": 20,
   "id": "66bcf838",
   "metadata": {},
   "outputs": [],
   "source": [
    "# creating a dictionary with each look up table\n",
    "wb = load_workbook(\n",
    "    glob.glob(\"/Users/liualg/Library/CloudStorage/\" \\\n",
    "              \"OneDrive-NationalInstitutesofHealth/Curation channel/*.xlsm\")[0],\n",
    "                  )\n",
    "sheet = wb['Cntrl\\'d Vocab']\n",
    "immport_dict = dict()\n",
    "\n",
    "for column in sheet.iter_cols( #sheet.max_column, \n",
    "                              max_row=sheet.max_row, \n",
    "                              min_row=4):\n",
    "#     try:\n",
    "    name = []\n",
    "    start_index = []\n",
    "    for icol, cell in enumerate(column):\n",
    "        if icol == 0:\n",
    "            name.append(cell.value)\n",
    "            start_index.append(icol)\n",
    "        else:\n",
    "            if (cell.value is not None and column[icol-1].value is None):\n",
    "                name.append(cell.value)\n",
    "                start_index.append(icol)\n",
    "    # FIGURE THIS SHIT OUT\n",
    "    try:\n",
    "        for i in range(len(start_index)-1):\n",
    "            immport_dict[name[i]] = [k.value for k in column[start_index[i] : start_index[i+1]] if k.value is not None]\n",
    "        \n",
    "        immport_dict[name[-1]] = [k.value for k in column[start_index[i-1] :] if k.value is not None]\n",
    "    \n",
    "    except:\n",
    "        immport_dict[name[-1]] = [k.value for k in column[start_index[i] :] if k.value is not None]\n",
    "        pass\n",
    "    \n",
    "    \n",
    "#     except:\n",
    "#         print(column[0])\n",
    "    \n",
    "\n",
    "               "
   ]
  },
  {
   "cell_type": "code",
   "execution_count": 21,
   "id": "666f0755",
   "metadata": {
    "scrolled": true
   },
   "outputs": [
    {
     "data": {
      "text/plain": [
       "'Assay Type'"
      ]
     },
     "execution_count": 21,
     "metadata": {},
     "output_type": "execute_result"
    }
   ],
   "source": [
    "json_seronet_dict.get('assay_type')"
   ]
  },
  {
   "cell_type": "code",
   "execution_count": 22,
   "id": "4ebbce33",
   "metadata": {},
   "outputs": [],
   "source": [
    "def get_closest_lookup(word, lookup_table):\n",
    "    correct_word = ''\n",
    "    closest_lookup = ''\n",
    "    check_list = []\n",
    "    \n",
    "    if word in lookup_table:\n",
    "        closest_lookup = word\n",
    "\n",
    "    else:\n",
    "        for potential in lookup_table:\n",
    "            if fuzz.ratio(word, potential) > 70: ##use math for this\n",
    "                check_list.append((potential, \n",
    "                                  fuzz.ratio(word, potential))\n",
    "                                 )\n",
    "            else: \n",
    "                pass\n",
    "\n",
    "            # this is a little weird \n",
    "        if len(check_list) == 1:\n",
    "            print(f\"[FYI] fuzzywuzzy:: {word} => {check_list[0][0]} : score {check_list[0][1]}\")\n",
    "            closest_lookup = check_list[0][0]\n",
    "\n",
    "        elif len(check_list) > 1:\n",
    "            check_list.sort(key=lambda a: a[0])\n",
    "            print(f'Top three choices:')\n",
    "            print(check_list[:3],sep='\\n')\n",
    "            closest_lookup = check_list[int(input('Designate which choice to use: '))-1][0]\n",
    "\n",
    "        else:\n",
    "            print(f\"ERROR:: Please check spelling for: {word}\")\n",
    "            \n",
    "    return closest_lookup\n",
    "            \n",
    "\n",
    "        \n"
   ]
  },
  {
   "cell_type": "code",
   "execution_count": 23,
   "id": "de7f41ca",
   "metadata": {},
   "outputs": [],
   "source": [
    "def get_closest_lookup(word, lookup_table):\n",
    "    correct_word = ''\n",
    "    closest_lookup = ''\n",
    "    check_list = []\n",
    "    \n",
    "    if word in lookup_table:\n",
    "        closest_lookup = word\n",
    "\n",
    "    else:\n",
    "        for potential in lookup_table:\n",
    "            if fuzz.ratio(word, potential) >= 70: ##use math for this\n",
    "                check_list.append((potential, \n",
    "                                  fuzz.ratio(word, potential))\n",
    "                                 )\n",
    "\n",
    "            elif 50 <= fuzz.ratio(word, potential) < 70: ##use math for this\n",
    "                check_list.append((potential, \n",
    "                                  fuzz.ratio(word, potential))\n",
    "                                 )\n",
    "            else: \n",
    "                pass\n",
    "\n",
    "            # this is a little weird \n",
    "        if len(check_list) == 1:\n",
    "            print(f\"[FYI] fuzzywuzzy:: {word} => {check_list[0][0]} : score {check_list[0][1]}\")\n",
    "            closest_lookup = check_list[0][0]\n",
    "\n",
    "        elif len(check_list) > 1:\n",
    "            check_list.sort(key=lambda a: a[0])\n",
    "            print(f'\\n\\n######  ACTION REQUIRED ###### \\nTop three choices:')\n",
    "            print(check_list[:3])\n",
    "            closest_lookup = check_list[int(input('Designate which choice to use: '))-1][0]\n",
    "\n",
    "        else:\n",
    "            print(f\"ERROR:: Please check spelling for: {word}\")\n",
    "\n",
    "    return closest_lookup\n",
    "\n",
    "def check_spelling(word_in_questions, facet_to_check):\n",
    "    lk_table = immport_dict.get(json_seronet_dict.get(facet_to_check))\n",
    "\n",
    "    if isinstance(word_in_questions,str):\n",
    "        correct_word = get_closest_lookup(word_in_questions,lk_table)\n",
    "\n",
    "    else:\n",
    "        correct_word = []\n",
    "        for words in word_in_questions:\n",
    "            correct_word.append(get_closest_lookup(words,lk_table))\n",
    "\n",
    "    return correct_word"
   ]
  },
  {
   "cell_type": "code",
   "execution_count": 24,
   "id": "8012e0b9",
   "metadata": {},
   "outputs": [
    {
     "ename": "SyntaxError",
     "evalue": "invalid syntax (243581567.py, line 1)",
     "output_type": "error",
     "traceback": [
      "\u001b[0;36m  File \u001b[0;32m\"/var/folders/z6/4h2s7dds6rx9wjn6fhrrgzw9wrk0b4/T/ipykernel_98210/243581567.py\"\u001b[0;36m, line \u001b[0;32m1\u001b[0m\n\u001b[0;31m    Covid-19 | SARS-CoV-2 Alpha; B.1.1.7 | SARS-CoV-2 Delta; B.1.617.2\u001b[0m\n\u001b[0m                          ^\u001b[0m\n\u001b[0;31mSyntaxError\u001b[0m\u001b[0;31m:\u001b[0m invalid syntax\n"
     ]
    }
   ],
   "source": [
    "Covid-19 | SARS-CoV-2 Alpha; B.1.1.7 | SARS-CoV-2 Delta; B.1.617.2"
   ]
  },
  {
   "cell_type": "code",
   "execution_count": 28,
   "id": "c00d866e",
   "metadata": {},
   "outputs": [
    {
     "data": {
      "text/plain": [
       "'Covid-19'"
      ]
     },
     "execution_count": 28,
     "metadata": {},
     "output_type": "execute_result"
    }
   ],
   "source": [
    "check_spelling('Covid-19','reported_health_condition')"
   ]
  },
  {
   "cell_type": "code",
   "execution_count": 27,
   "id": "613efc01",
   "metadata": {},
   "outputs": [
    {
     "data": {
      "text/plain": [
       "True"
      ]
     },
     "execution_count": 27,
     "metadata": {},
     "output_type": "execute_result"
    }
   ],
   "source": [
    "'Covid-19' in immport_dict.get(json_seronet_dict.get('reported_health_condition'))"
   ]
  },
  {
   "cell_type": "code",
   "execution_count": 48,
   "id": "2587db22",
   "metadata": {},
   "outputs": [],
   "source": [
    "check_list = [('AstraZeneca SARS-CoV-2 vaccine', 18), ('CureVac AG SARS-CoV-2 vaccine', 18), ('Johnson & Johnson SARS-CoV-2 vaccine', 12), ('Moderna SARS-CoV-2 vaccine', 24), ('N/A', 11), ('Other SARS-CoV-2 vaccine', 26), ('Pfizer-BioNTech SARS-CoV-2 vaccine', 61), ('SARS-CoV-2 Vaccine Type - STUDY', 17), ('Sinopharm SARS-CoV-2 vaccine', 23), ('Sinovac SARS-CoV-2 vaccine', 20), ('Sputnik V SARS-CoV-2 vaccine', 19)]"
   ]
  },
  {
   "cell_type": "code",
   "execution_count": 49,
   "id": "9595b8c1",
   "metadata": {},
   "outputs": [],
   "source": [
    "check_list.sort(key=lambda a: a[0])"
   ]
  },
  {
   "cell_type": "code",
   "execution_count": 51,
   "id": "e4065e0d",
   "metadata": {},
   "outputs": [
    {
     "name": "stdout",
     "output_type": "stream",
     "text": [
      "[('AstraZeneca SARS-CoV-2 vaccine', 18), ('CureVac AG SARS-CoV-2 vaccine', 18), ('Johnson & Johnson SARS-CoV-2 vaccine', 12), ('Moderna SARS-CoV-2 vaccine', 24), ('N/A', 11), ('Other SARS-CoV-2 vaccine', 26), ('Pfizer-BioNTech SARS-CoV-2 vaccine', 61), ('SARS-CoV-2 Vaccine Type - STUDY', 17), ('Sinopharm SARS-CoV-2 vaccine', 23), ('Sinovac SARS-CoV-2 vaccine', 20), ('Sputnik V SARS-CoV-2 vaccine', 19)]\n"
     ]
    }
   ],
   "source": [
    "print(check_list)"
   ]
  },
  {
   "cell_type": "code",
   "execution_count": 53,
   "id": "661c9ae1",
   "metadata": {},
   "outputs": [],
   "source": [
    "c = [('Asasdad', 99),\n",
    " ('AstraZeneca SARS-CoV-2 vaccine', 54),\n",
    " ('AstraZenecazxcdfaa', 23),\n",
    " ('CureVac AG SARS-CoV-2 vaccine', 20),\n",
    " ('Johnson & Johnson SARS-CoV-2 vaccine', 17),\n",
    " ('sdds', 1)]"
   ]
  },
  {
   "cell_type": "code",
   "execution_count": 74,
   "id": "a1d5efb3",
   "metadata": {},
   "outputs": [],
   "source": [
    "c.sort(key=lambda a: a[1], reverse=True)"
   ]
  },
  {
   "cell_type": "code",
   "execution_count": 77,
   "id": "522ac72e",
   "metadata": {},
   "outputs": [
    {
     "name": "stdout",
     "output_type": "stream",
     "text": [
      "[('Asasdad', 99), ('AstraZeneca SARS-CoV-2 vaccine', 54), ('AstraZenecazxcdfaa', 23)]\n"
     ]
    }
   ],
   "source": [
    "print(c[:3])"
   ]
  },
  {
   "cell_type": "code",
   "execution_count": 57,
   "id": "b6373cd3",
   "metadata": {},
   "outputs": [
    {
     "data": {
      "text/plain": [
       "list"
      ]
     },
     "execution_count": 57,
     "metadata": {},
     "output_type": "execute_result"
    }
   ],
   "source": [
    "type(check_list)"
   ]
  },
  {
   "cell_type": "code",
   "execution_count": 60,
   "id": "15a117be",
   "metadata": {},
   "outputs": [
    {
     "data": {
      "text/plain": [
       "18"
      ]
     },
     "execution_count": 60,
     "metadata": {},
     "output_type": "execute_result"
    }
   ],
   "source": [
    "check_list[0][1]"
   ]
  },
  {
   "cell_type": "code",
   "execution_count": null,
   "id": "2813acfa",
   "metadata": {},
   "outputs": [],
   "source": []
  }
 ],
 "metadata": {
  "kernelspec": {
   "display_name": "Python 3 (ipykernel)",
   "language": "python",
   "name": "python3"
  },
  "language_info": {
   "codemirror_mode": {
    "name": "ipython",
    "version": 3
   },
   "file_extension": ".py",
   "mimetype": "text/x-python",
   "name": "python",
   "nbconvert_exporter": "python",
   "pygments_lexer": "ipython3",
   "version": "3.9.13"
  }
 },
 "nbformat": 4,
 "nbformat_minor": 5
}
