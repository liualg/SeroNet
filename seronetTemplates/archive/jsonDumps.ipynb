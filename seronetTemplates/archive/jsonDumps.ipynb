{
 "cells": [
  {
   "cell_type": "code",
   "execution_count": 1,
   "id": "71b51fb0",
   "metadata": {},
   "outputs": [],
   "source": [
    "import pandas as pd \n",
    "from dataclasses import dataclass \n",
    "import json\n",
    "from dataclasses_json import DataClassJsonMixin, dataclass_json"
   ]
  },
  {
   "cell_type": "code",
   "execution_count": 2,
   "id": "da10e3b3",
   "metadata": {},
   "outputs": [],
   "source": [
    "@dataclass_json\n",
    "@dataclass\n",
    "class student(DataClassJsonMixin):\n",
    "    name: list = None\n",
    "    age: list = 0\n",
    "    grades: list = None\n",
    "        \n",
    "@dataclass\n",
    "class teacher(DataClassJsonMixin):\n",
    "    student1: object = None\n",
    "    student2: object = None"
   ]
  },
  {
   "cell_type": "code",
   "execution_count": 41,
   "id": "4e134f86",
   "metadata": {},
   "outputs": [],
   "source": [
    "alex = student(\n",
    "    name = [\"Alex\",\"Brina\"],\n",
    "    age = [75, 99],\n",
    "    grades = [[1,2,3],[4,5,6]]\n",
    ")\n",
    "\n",
    "brian = student(\n",
    "    name = \"brian\",\n",
    "    age = 81,\n",
    "    grades = [1,2,3,4,5]\n",
    ")\n",
    "\n",
    "\n",
    "pj = teacher(\n",
    "    student1 = alex,\n",
    "    student2 = brian\n",
    ")"
   ]
  },
  {
   "cell_type": "code",
   "execution_count": 43,
   "id": "fb9b8699",
   "metadata": {},
   "outputs": [
    {
     "data": {
      "text/plain": [
       "'Alex'"
      ]
     },
     "execution_count": 43,
     "metadata": {},
     "output_type": "execute_result"
    }
   ],
   "source": [
    "alex."
   ]
  },
  {
   "cell_type": "code",
   "execution_count": 37,
   "id": "8e495d81",
   "metadata": {},
   "outputs": [
    {
     "ename": "NameError",
     "evalue": "name 'fields' is not defined",
     "output_type": "error",
     "traceback": [
      "\u001b[0;31m---------------------------------------------------------------------------\u001b[0m",
      "\u001b[0;31mNameError\u001b[0m                                 Traceback (most recent call last)",
      "\u001b[0;32m<ipython-input-37-ae29b357bbcc>\u001b[0m in \u001b[0;36m<module>\u001b[0;34m\u001b[0m\n\u001b[0;32m----> 1\u001b[0;31m \u001b[0mfields\u001b[0m\u001b[0;34m(\u001b[0m\u001b[0malex\u001b[0m\u001b[0;34m)\u001b[0m\u001b[0;34m\u001b[0m\u001b[0;34m\u001b[0m\u001b[0m\n\u001b[0m",
      "\u001b[0;31mNameError\u001b[0m: name 'fields' is not defined"
     ]
    }
   ],
   "source": [
    "fields(alex)"
   ]
  },
  {
   "cell_type": "code",
   "execution_count": 57,
   "id": "d33b1807",
   "metadata": {},
   "outputs": [],
   "source": [
    "def asda(obj):\n",
    "    return_obj = {}\n",
    "    for field in obj.__dataclass_fields__:\n",
    "        field = getattr(obj,field)\n",
    "        index_len = len(field)\n",
    "        break\n",
    "        \n",
    "    for \n",
    "        \n",
    "        \n",
    "    print(len(obj.__dataclass_fields__))"
   ]
  },
  {
   "cell_type": "code",
   "execution_count": 58,
   "id": "d2790d7d",
   "metadata": {},
   "outputs": [
    {
     "name": "stdout",
     "output_type": "stream",
     "text": [
      "2\n",
      "2\n",
      "2\n",
      "3\n"
     ]
    }
   ],
   "source": [
    "asda(alex)"
   ]
  },
  {
   "cell_type": "code",
   "execution_count": 5,
   "id": "e6c5069a",
   "metadata": {},
   "outputs": [],
   "source": [
    "def loader(dataclass_obj):\n",
    "    dict_return = []\n",
    "    for i in "
   ]
  },
  {
   "cell_type": "code",
   "execution_count": 21,
   "id": "11027019",
   "metadata": {},
   "outputs": [
    {
     "name": "stdout",
     "output_type": "stream",
     "text": [
      "{\n",
      "    \"name\": [\n",
      "        \"Alex\",\n",
      "        \"Brina\"\n",
      "    ],\n",
      "    \"age\": [\n",
      "        75,\n",
      "        99\n",
      "    ],\n",
      "    \"grades\": [\n",
      "        [\n",
      "            1,\n",
      "            2,\n",
      "            3\n",
      "        ],\n",
      "        [\n",
      "            4,\n",
      "            5,\n",
      "            6\n",
      "        ]\n",
      "    ]\n",
      "}\n"
     ]
    }
   ],
   "source": [
    "some_json_string = alex.to_json(indent=4)\n",
    "# some_json_string = json.dumps(alex, indent=4, cls=seroNetEncoder)\n",
    "print(some_json_string)\n",
    "# # Decoding from JSON\n",
    "# MyDataClass.from_json(some_json_string)"
   ]
  },
  {
   "cell_type": "code",
   "execution_count": null,
   "id": "3f23c215",
   "metadata": {},
   "outputs": [],
   "source": [
    "@dataclass\n",
    "class MyDataClass(DataClassJsonMixin):\n",
    "    name: str\n",
    "\n",
    "my_dataclass_instance = MyDataClass('example')\n",
    "\n",
    "# Encoding to JSON\n",
    "some_json_string = my_dataclass_instance.to_json()\n",
    "print(some_json_string)\n",
    "# Decoding from JSON\n",
    "# MyDataClass.from_json(some_json_string)"
   ]
  },
  {
   "cell_type": "code",
   "execution_count": 12,
   "id": "d0223703",
   "metadata": {},
   "outputs": [],
   "source": [
    "from dataclasses import dataclass\n",
    "from dataclasses_json import dataclass_json\n",
    "\n",
    "@dataclass_json\n",
    "@dataclass\n",
    "class Person:\n",
    "    name: list\n",
    "    ass: list"
   ]
  },
  {
   "cell_type": "code",
   "execution_count": 14,
   "id": "0cae0e64",
   "metadata": {},
   "outputs": [
    {
     "ename": "TypeError",
     "evalue": "__init__() missing 1 required positional argument: 'cls_or_instance'",
     "output_type": "error",
     "traceback": [
      "\u001b[0;31m---------------------------------------------------------------------------\u001b[0m",
      "\u001b[0;31mTypeError\u001b[0m                                 Traceback (most recent call last)",
      "\u001b[0;32m<ipython-input-14-02442e2ab2e1>\u001b[0m in \u001b[0;36m<module>\u001b[0;34m\u001b[0m\n\u001b[1;32m      1\u001b[0m \u001b[0mpeople_json\u001b[0m \u001b[0;34m=\u001b[0m \u001b[0;34m[\u001b[0m\u001b[0mPerson\u001b[0m\u001b[0;34m(\u001b[0m\u001b[0;34m[\u001b[0m\u001b[0;34m'lidatong'\u001b[0m\u001b[0;34m]\u001b[0m\u001b[0;34m,\u001b[0m\u001b[0;34m[\u001b[0m\u001b[0;34m'asa'\u001b[0m\u001b[0;34m]\u001b[0m\u001b[0;34m)\u001b[0m\u001b[0;34m]\u001b[0m\u001b[0;34m\u001b[0m\u001b[0;34m\u001b[0m\u001b[0m\n\u001b[0;32m----> 2\u001b[0;31m \u001b[0mPerson\u001b[0m\u001b[0;34m.\u001b[0m\u001b[0mschema\u001b[0m\u001b[0;34m(\u001b[0m\u001b[0;34m)\u001b[0m\u001b[0;34m.\u001b[0m\u001b[0mdumps\u001b[0m\u001b[0;34m(\u001b[0m\u001b[0mpeople_json\u001b[0m\u001b[0;34m,\u001b[0m \u001b[0mmany\u001b[0m\u001b[0;34m=\u001b[0m\u001b[0;32mTrue\u001b[0m\u001b[0;34m)\u001b[0m  \u001b[0;31m# '[{\"name\": \"lidatong\"}]'\u001b[0m\u001b[0;34m\u001b[0m\u001b[0;34m\u001b[0m\u001b[0m\n\u001b[0m",
      "\u001b[0;32m~/opt/anaconda3/lib/python3.8/site-packages/dataclasses_json/api.py\u001b[0m in \u001b[0;36mschema\u001b[0;34m(cls, infer_missing, only, exclude, many, context, load_only, dump_only, partial, unknown)\u001b[0m\n\u001b[1;32m     87\u001b[0m                \u001b[0mpartial\u001b[0m\u001b[0;34m:\u001b[0m \u001b[0mbool\u001b[0m \u001b[0;34m=\u001b[0m \u001b[0;32mFalse\u001b[0m\u001b[0;34m,\u001b[0m\u001b[0;34m\u001b[0m\u001b[0;34m\u001b[0m\u001b[0m\n\u001b[1;32m     88\u001b[0m                unknown=None) -> SchemaType:\n\u001b[0;32m---> 89\u001b[0;31m         \u001b[0mSchema\u001b[0m \u001b[0;34m=\u001b[0m \u001b[0mbuild_schema\u001b[0m\u001b[0;34m(\u001b[0m\u001b[0mcls\u001b[0m\u001b[0;34m,\u001b[0m \u001b[0mDataClassJsonMixin\u001b[0m\u001b[0;34m,\u001b[0m \u001b[0minfer_missing\u001b[0m\u001b[0;34m,\u001b[0m \u001b[0mpartial\u001b[0m\u001b[0;34m)\u001b[0m\u001b[0;34m\u001b[0m\u001b[0;34m\u001b[0m\u001b[0m\n\u001b[0m\u001b[1;32m     90\u001b[0m \u001b[0;34m\u001b[0m\u001b[0m\n\u001b[1;32m     91\u001b[0m         \u001b[0;32mif\u001b[0m \u001b[0munknown\u001b[0m \u001b[0;32mis\u001b[0m \u001b[0;32mNone\u001b[0m\u001b[0;34m:\u001b[0m\u001b[0;34m\u001b[0m\u001b[0;34m\u001b[0m\u001b[0m\n",
      "\u001b[0;32m~/opt/anaconda3/lib/python3.8/site-packages/dataclasses_json/mm.py\u001b[0m in \u001b[0;36mbuild_schema\u001b[0;34m(cls, mixin, infer_missing, partial)\u001b[0m\n\u001b[1;32m    359\u001b[0m         \u001b[0;32mreturn\u001b[0m \u001b[0mdumped\u001b[0m\u001b[0;34m\u001b[0m\u001b[0;34m\u001b[0m\u001b[0m\n\u001b[1;32m    360\u001b[0m \u001b[0;34m\u001b[0m\u001b[0m\n\u001b[0;32m--> 361\u001b[0;31m     \u001b[0mschema_\u001b[0m \u001b[0;34m=\u001b[0m \u001b[0mschema\u001b[0m\u001b[0;34m(\u001b[0m\u001b[0mcls\u001b[0m\u001b[0;34m,\u001b[0m \u001b[0mmixin\u001b[0m\u001b[0;34m,\u001b[0m \u001b[0minfer_missing\u001b[0m\u001b[0;34m)\u001b[0m\u001b[0;34m\u001b[0m\u001b[0;34m\u001b[0m\u001b[0m\n\u001b[0m\u001b[1;32m    362\u001b[0m     DataClassSchema: typing.Type[SchemaType] = type(\n\u001b[1;32m    363\u001b[0m         \u001b[0;34mf'{cls.__name__.capitalize()}Schema'\u001b[0m\u001b[0;34m,\u001b[0m\u001b[0;34m\u001b[0m\u001b[0;34m\u001b[0m\u001b[0m\n",
      "\u001b[0;32m~/opt/anaconda3/lib/python3.8/site-packages/dataclasses_json/mm.py\u001b[0m in \u001b[0;36mschema\u001b[0;34m(cls, mixin, infer_missing)\u001b[0m\n\u001b[1;32m    309\u001b[0m                 \u001b[0moptions\u001b[0m\u001b[0;34m[\u001b[0m\u001b[0;34m'data_key'\u001b[0m\u001b[0;34m]\u001b[0m \u001b[0;34m=\u001b[0m \u001b[0mmetadata\u001b[0m\u001b[0;34m.\u001b[0m\u001b[0mletter_case\u001b[0m\u001b[0;34m(\u001b[0m\u001b[0mfield\u001b[0m\u001b[0;34m.\u001b[0m\u001b[0mname\u001b[0m\u001b[0;34m)\u001b[0m\u001b[0;34m\u001b[0m\u001b[0;34m\u001b[0m\u001b[0m\n\u001b[1;32m    310\u001b[0m \u001b[0;34m\u001b[0m\u001b[0m\n\u001b[0;32m--> 311\u001b[0;31m             \u001b[0mt\u001b[0m \u001b[0;34m=\u001b[0m \u001b[0mbuild_type\u001b[0m\u001b[0;34m(\u001b[0m\u001b[0mtype_\u001b[0m\u001b[0;34m,\u001b[0m \u001b[0moptions\u001b[0m\u001b[0;34m,\u001b[0m \u001b[0mmixin\u001b[0m\u001b[0;34m,\u001b[0m \u001b[0mfield\u001b[0m\u001b[0;34m,\u001b[0m \u001b[0mcls\u001b[0m\u001b[0;34m)\u001b[0m\u001b[0;34m\u001b[0m\u001b[0;34m\u001b[0m\u001b[0m\n\u001b[0m\u001b[1;32m    312\u001b[0m             \u001b[0;31m# if type(t) is not fields.Field:  # If we use `isinstance` we would return nothing.\u001b[0m\u001b[0;34m\u001b[0m\u001b[0;34m\u001b[0m\u001b[0;34m\u001b[0m\u001b[0m\n\u001b[1;32m    313\u001b[0m             \u001b[0;32mif\u001b[0m \u001b[0mfield\u001b[0m\u001b[0;34m.\u001b[0m\u001b[0mtype\u001b[0m \u001b[0;34m!=\u001b[0m \u001b[0mtyping\u001b[0m\u001b[0;34m.\u001b[0m\u001b[0mOptional\u001b[0m\u001b[0;34m[\u001b[0m\u001b[0mCatchAllVar\u001b[0m\u001b[0;34m]\u001b[0m\u001b[0;34m:\u001b[0m\u001b[0;34m\u001b[0m\u001b[0;34m\u001b[0m\u001b[0m\n",
      "\u001b[0;32m~/opt/anaconda3/lib/python3.8/site-packages/dataclasses_json/mm.py\u001b[0m in \u001b[0;36mbuild_type\u001b[0;34m(type_, options, mixin, field, cls)\u001b[0m\n\u001b[1;32m    274\u001b[0m         \u001b[0;32mreturn\u001b[0m \u001b[0mfields\u001b[0m\u001b[0;34m.\u001b[0m\u001b[0mField\u001b[0m\u001b[0;34m(\u001b[0m\u001b[0;34m**\u001b[0m\u001b[0moptions\u001b[0m\u001b[0;34m)\u001b[0m\u001b[0;34m\u001b[0m\u001b[0;34m\u001b[0m\u001b[0m\n\u001b[1;32m    275\u001b[0m \u001b[0;34m\u001b[0m\u001b[0m\n\u001b[0;32m--> 276\u001b[0;31m     \u001b[0;32mreturn\u001b[0m \u001b[0minner\u001b[0m\u001b[0;34m(\u001b[0m\u001b[0mtype_\u001b[0m\u001b[0;34m,\u001b[0m \u001b[0moptions\u001b[0m\u001b[0;34m)\u001b[0m\u001b[0;34m\u001b[0m\u001b[0;34m\u001b[0m\u001b[0m\n\u001b[0m\u001b[1;32m    277\u001b[0m \u001b[0;34m\u001b[0m\u001b[0m\n\u001b[1;32m    278\u001b[0m \u001b[0;34m\u001b[0m\u001b[0m\n",
      "\u001b[0;32m~/opt/anaconda3/lib/python3.8/site-packages/dataclasses_json/mm.py\u001b[0m in \u001b[0;36minner\u001b[0;34m(type_, options)\u001b[0m\n\u001b[1;32m    258\u001b[0m \u001b[0;34m\u001b[0m\u001b[0m\n\u001b[1;32m    259\u001b[0m         \u001b[0;32mif\u001b[0m \u001b[0morigin\u001b[0m \u001b[0;32min\u001b[0m \u001b[0mTYPES\u001b[0m\u001b[0;34m:\u001b[0m\u001b[0;34m\u001b[0m\u001b[0;34m\u001b[0m\u001b[0m\n\u001b[0;32m--> 260\u001b[0;31m             \u001b[0;32mreturn\u001b[0m \u001b[0mTYPES\u001b[0m\u001b[0;34m[\u001b[0m\u001b[0morigin\u001b[0m\u001b[0;34m]\u001b[0m\u001b[0;34m(\u001b[0m\u001b[0;34m*\u001b[0m\u001b[0margs\u001b[0m\u001b[0;34m,\u001b[0m \u001b[0;34m**\u001b[0m\u001b[0moptions\u001b[0m\u001b[0;34m)\u001b[0m\u001b[0;34m\u001b[0m\u001b[0;34m\u001b[0m\u001b[0m\n\u001b[0m\u001b[1;32m    261\u001b[0m \u001b[0;34m\u001b[0m\u001b[0m\n\u001b[1;32m    262\u001b[0m         \u001b[0;32mif\u001b[0m \u001b[0m_issubclass_safe\u001b[0m\u001b[0;34m(\u001b[0m\u001b[0morigin\u001b[0m\u001b[0;34m,\u001b[0m \u001b[0mEnum\u001b[0m\u001b[0;34m)\u001b[0m\u001b[0;34m:\u001b[0m\u001b[0;34m\u001b[0m\u001b[0;34m\u001b[0m\u001b[0m\n",
      "\u001b[0;31mTypeError\u001b[0m: __init__() missing 1 required positional argument: 'cls_or_instance'"
     ]
    }
   ],
   "source": [
    "people_json = [Person(['lidatong'],['asa'])]\n",
    "Person.schema().dumps(people_json, many=True)  # '[{\"name\": \"lidatong\"}]'"
   ]
  },
  {
   "cell_type": "code",
   "execution_count": null,
   "id": "7bf04c5a",
   "metadata": {},
   "outputs": [],
   "source": []
  }
 ],
 "metadata": {
  "kernelspec": {
   "display_name": "Python 3",
   "language": "python",
   "name": "python3"
  },
  "language_info": {
   "codemirror_mode": {
    "name": "ipython",
    "version": 3
   },
   "file_extension": ".py",
   "mimetype": "text/x-python",
   "name": "python",
   "nbconvert_exporter": "python",
   "pygments_lexer": "ipython3",
   "version": "3.8.8"
  }
 },
 "nbformat": 4,
 "nbformat_minor": 5
}
