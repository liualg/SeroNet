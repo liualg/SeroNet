{
 "cells": [
  {
   "cell_type": "code",
   "execution_count": 1,
   "metadata": {},
   "outputs": [],
   "source": [
    "from openpyxl import load_workbook, Workbook\n",
    "import pandas as pd"
   ]
  },
  {
   "cell_type": "code",
   "execution_count": 2,
   "metadata": {},
   "outputs": [],
   "source": [
    "seronet_data = pd.read_excel(io = \"./seronet-data-submission-template.xlsx\",\n",
    "                        sheet_name = None,\n",
    "                        engine = \"openpyxl\")"
   ]
  },
  {
   "cell_type": "code",
   "execution_count": 29,
   "metadata": {},
   "outputs": [
    {
     "data": {
      "text/html": [
       "<div>\n",
       "<style scoped>\n",
       "    .dataframe tbody tr th:only-of-type {\n",
       "        vertical-align: middle;\n",
       "    }\n",
       "\n",
       "    .dataframe tbody tr th {\n",
       "        vertical-align: top;\n",
       "    }\n",
       "\n",
       "    .dataframe thead th {\n",
       "        text-align: right;\n",
       "    }\n",
       "</style>\n",
       "<table border=\"1\" class=\"dataframe\">\n",
       "  <thead>\n",
       "    <tr style=\"text-align: right;\">\n",
       "      <th></th>\n",
       "      <th>subject_id</th>\n",
       "      <th>age</th>\n",
       "      <th>race</th>\n",
       "      <th>ethnicity</th>\n",
       "      <th>sex</th>\n",
       "      <th>marital status</th>\n",
       "      <th>pregnancy_status</th>\n",
       "    </tr>\n",
       "  </thead>\n",
       "  <tbody>\n",
       "    <tr>\n",
       "      <th>0</th>\n",
       "      <td>S123456</td>\n",
       "      <td>12</td>\n",
       "      <td>White</td>\n",
       "      <td>Not Hispanic or Latino</td>\n",
       "      <td>Male</td>\n",
       "      <td>NaN</td>\n",
       "      <td>NaN</td>\n",
       "    </tr>\n",
       "    <tr>\n",
       "      <th>1</th>\n",
       "      <td>S123457</td>\n",
       "      <td>23</td>\n",
       "      <td>American Indian or Alaska Native</td>\n",
       "      <td>Not Hispanic or Latino</td>\n",
       "      <td>Female</td>\n",
       "      <td>NaN</td>\n",
       "      <td>NaN</td>\n",
       "    </tr>\n",
       "    <tr>\n",
       "      <th>2</th>\n",
       "      <td>S123458</td>\n",
       "      <td>34</td>\n",
       "      <td>Black or African American</td>\n",
       "      <td>Hispanic or Latino</td>\n",
       "      <td>Other</td>\n",
       "      <td>NaN</td>\n",
       "      <td>NaN</td>\n",
       "    </tr>\n",
       "    <tr>\n",
       "      <th>3</th>\n",
       "      <td>S123459</td>\n",
       "      <td>45</td>\n",
       "      <td>Asian</td>\n",
       "      <td>Not Hispanic or Latino</td>\n",
       "      <td>Not Reported</td>\n",
       "      <td>NaN</td>\n",
       "      <td>NaN</td>\n",
       "    </tr>\n",
       "    <tr>\n",
       "      <th>4</th>\n",
       "      <td>S123460</td>\n",
       "      <td>56</td>\n",
       "      <td>Native Hawaiian or Other Pacific Islander</td>\n",
       "      <td>Not Hispanic or Latino</td>\n",
       "      <td>Unknown</td>\n",
       "      <td>NaN</td>\n",
       "      <td>NaN</td>\n",
       "    </tr>\n",
       "    <tr>\n",
       "      <th>5</th>\n",
       "      <td>S123461</td>\n",
       "      <td>67</td>\n",
       "      <td>Other</td>\n",
       "      <td>Not Hispanic or Latino</td>\n",
       "      <td>Male</td>\n",
       "      <td>NaN</td>\n",
       "      <td>NaN</td>\n",
       "    </tr>\n",
       "    <tr>\n",
       "      <th>6</th>\n",
       "      <td>S123462</td>\n",
       "      <td>78</td>\n",
       "      <td>Multirace</td>\n",
       "      <td>Not Hispanic or Latino</td>\n",
       "      <td>Female</td>\n",
       "      <td>NaN</td>\n",
       "      <td>NaN</td>\n",
       "    </tr>\n",
       "    <tr>\n",
       "      <th>7</th>\n",
       "      <td>S123463</td>\n",
       "      <td>89</td>\n",
       "      <td>Unknown</td>\n",
       "      <td>Not Hispanic or Latino</td>\n",
       "      <td>Other</td>\n",
       "      <td>NaN</td>\n",
       "      <td>NaN</td>\n",
       "    </tr>\n",
       "    <tr>\n",
       "      <th>8</th>\n",
       "      <td>S123464</td>\n",
       "      <td>90</td>\n",
       "      <td>Not Reported</td>\n",
       "      <td>Not Hispanic or Latino</td>\n",
       "      <td>Not Reported</td>\n",
       "      <td>NaN</td>\n",
       "      <td>NaN</td>\n",
       "    </tr>\n",
       "  </tbody>\n",
       "</table>\n",
       "</div>"
      ],
      "text/plain": [
       "  subject_id  age                                       race  \\\n",
       "0    S123456   12                                      White   \n",
       "1    S123457   23           American Indian or Alaska Native   \n",
       "2    S123458   34                  Black or African American   \n",
       "3    S123459   45                                      Asian   \n",
       "4    S123460   56  Native Hawaiian or Other Pacific Islander   \n",
       "5    S123461   67                                      Other   \n",
       "6    S123462   78                                  Multirace   \n",
       "7    S123463   89                                    Unknown   \n",
       "8    S123464   90                               Not Reported   \n",
       "\n",
       "                ethnicity           sex  marital status  pregnancy_status  \n",
       "0  Not Hispanic or Latino          Male             NaN               NaN  \n",
       "1  Not Hispanic or Latino        Female             NaN               NaN  \n",
       "2      Hispanic or Latino         Other             NaN               NaN  \n",
       "3  Not Hispanic or Latino  Not Reported             NaN               NaN  \n",
       "4  Not Hispanic or Latino       Unknown             NaN               NaN  \n",
       "5  Not Hispanic or Latino          Male             NaN               NaN  \n",
       "6  Not Hispanic or Latino        Female             NaN               NaN  \n",
       "7  Not Hispanic or Latino         Other             NaN               NaN  \n",
       "8  Not Hispanic or Latino  Not Reported             NaN               NaN  "
      ]
     },
     "execution_count": 29,
     "metadata": {},
     "output_type": "execute_result"
    }
   ],
   "source": [
    "seronet_data['demographic']"
   ]
  },
  {
   "cell_type": "code",
   "execution_count": 27,
   "metadata": {},
   "outputs": [],
   "source": [
    "immport_subjectHumans_template = pd.read_csv(\"./ImmPortTemplates/txt-templates/subjectHumans.txt\", sep = \"\\t\", header = 2)"
   ]
  },
  {
   "cell_type": "code",
   "execution_count": 28,
   "metadata": {},
   "outputs": [
    {
     "data": {
      "text/plain": [
       "Index(['Column Name', 'Subject ID', 'Arm Or Cohort ID', 'Gender',\n",
       "       'Min Subject Age', 'Max Subject Age', 'Age Unit', 'Age Event',\n",
       "       'Age Event Specify', 'Subject Phenotype', 'Subject Location',\n",
       "       'Ethnicity', 'Race', 'Race Specify', 'Description',\n",
       "       'Result Separator Column', 'Exposure Process Reported',\n",
       "       'Exposure Material Reported', 'Exposure Material ID',\n",
       "       'Disease Reported', 'Disease Ontology ID', 'Disease Stage Reported'],\n",
       "      dtype='object')"
      ]
     },
     "execution_count": 28,
     "metadata": {},
     "output_type": "execute_result"
    }
   ],
   "source": [
    "immport_subjectHumans_template.columns"
   ]
  },
  {
   "cell_type": "code",
   "execution_count": null,
   "metadata": {},
   "outputs": [],
   "source": []
  }
 ],
 "metadata": {
  "kernelspec": {
   "display_name": "Python 3 (ipykernel)",
   "language": "python",
   "name": "python3"
  },
  "language_info": {
   "codemirror_mode": {
    "name": "ipython",
    "version": 3
   },
   "file_extension": ".py",
   "mimetype": "text/x-python",
   "name": "python",
   "nbconvert_exporter": "python",
   "pygments_lexer": "ipython3",
   "version": "3.9.7"
  }
 },
 "nbformat": 4,
 "nbformat_minor": 2
}
