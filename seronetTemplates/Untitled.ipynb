{
 "cells": [
  {
   "cell_type": "code",
   "execution_count": 1,
   "id": "80cbd162",
   "metadata": {},
   "outputs": [],
   "source": [
    "import re"
   ]
  },
  {
   "cell_type": "code",
   "execution_count": 2,
   "id": "bcf5d8aa",
   "metadata": {},
   "outputs": [],
   "source": [
    "a = '​JSON Summary Description'"
   ]
  },
  {
   "cell_type": "code",
   "execution_count": 13,
   "id": "e742b869",
   "metadata": {},
   "outputs": [
    {
     "data": {
      "text/plain": [
       "'JSON Summary Description'"
      ]
     },
     "execution_count": 13,
     "metadata": {},
     "output_type": "execute_result"
    }
   ],
   "source": [
    "re.sub('[^a-zA-Z0-9 \\n\\.]',' ',a).strip()"
   ]
  },
  {
   "cell_type": "code",
   "execution_count": null,
   "id": "12d81397",
   "metadata": {},
   "outputs": [],
   "source": [
    "re.replace()"
   ]
  },
  {
   "cell_type": "code",
   "execution_count": 1,
   "id": "74fcc4a6",
   "metadata": {},
   "outputs": [],
   "source": [
    "import pandas as pd"
   ]
  },
  {
   "cell_type": "code",
   "execution_count": 9,
   "id": "09956772",
   "metadata": {},
   "outputs": [],
   "source": [
    "a = pd.read_excel(\"/Users/liualg/Library/CloudStorage/OneDrive-NationalInstitutesofHealth/Curation channel/ImmPort Uploads/Data Release Updates_/DR48/DR48_update-ImmPortxlsx.xlsx\",\n",
    "                 sheet_name = 'Experiments')"
   ]
  },
  {
   "cell_type": "code",
   "execution_count": 10,
   "id": "15f42c2d",
   "metadata": {},
   "outputs": [],
   "source": [
    "b = pd.read_excel('/Users/liualg/Documents/GitHub/SeroNet/seronetTemplates/dictionary/Seronet_Study_Descriptors_v1.3_EVS.xlsx',\n",
    "                 sheet_name = 'EVS Mapping')"
   ]
  },
  {
   "cell_type": "code",
   "execution_count": 15,
   "id": "474a2cf6",
   "metadata": {},
   "outputs": [],
   "source": [
    "b_dict = dict(zip(b['SeroNet PT'],b['NCIt Def']))\n",
    "# b_dict[:5]"
   ]
  },
  {
   "cell_type": "code",
   "execution_count": 18,
   "id": "9153f4fb",
   "metadata": {},
   "outputs": [
    {
     "name": "stdout",
     "output_type": "stream",
     "text": [
      "An immunoassay that is used to determine whether antibodies that can block pseudovirus replication are present in a biological specimen.\n",
      "An assay used to determine the serum concentration of an antibody that binds to a specific antigen and blocks its function.  It is expressed as the reciprocal of the highest serum dilution that produces the specific positive immunologic reaction in an appropriate testing system.\n",
      "A highly sensitive technique for detecting and measuring antigens or antibodies in a solution; the solution is run over a surface to which immobilized antibodies specific to the substance have been attached, and if the substance is present, it will bind to the antibody layer, and its presence is verified and visualized with an application of antibodies that have been tagged in some way. (BioTech Life Science Dictionary)\n",
      "A type of immunoassay in which the antigen-antibody complex is quantified using light emission, which is generated from a chemical reaction.\n",
      "\n",
      "\n",
      "A technique for counting, examining and sorting microscopic particles suspended in a stream of fluid.\n",
      "\n",
      "A technique for counting, examining and sorting microscopic particles suspended in a stream of fluid.\n",
      "A technique for counting, examining and sorting microscopic particles suspended in a stream of fluid.\n",
      "A technique for counting, examining and sorting microscopic particles suspended in a stream of fluid.\n",
      "A technique for counting, examining and sorting microscopic particles suspended in a stream of fluid.\n",
      "A technique for counting, examining and sorting microscopic particles suspended in a stream of fluid.\n",
      "\n",
      "\n",
      "\n",
      "\n",
      "A highly sensitive technique for detecting and measuring antigens or antibodies in a solution; the solution is run over a surface to which immobilized antibodies specific to the substance have been attached, and if the substance is present, it will bind to the antibody layer, and its presence is verified and visualized with an application of antibodies that have been tagged in some way. (BioTech Life Science Dictionary)\n",
      "A method for amplifying a DNA base sequence using multiple rounds of heat denaturation of the DNA and annealing of oligonucleotide primers complementary to flanking regions in the presence of a heat-stable polymerase.  This results in duplication of the targeted DNA region. Newly synthesized DNA strands can subsequently serve as additional templates for the same primer sequences, so that successive rounds of primer annealing, strand elongation, and dissociation produce rapid and highly specific amplification of the desired sequence. PCR also can be used to detect the existence of the defined sequence in a DNA sample.\n",
      "An immunoassay that is used to determine whether antibodies that can block pseudovirus replication are present in a biological specimen.\n",
      "A highly sensitive technique for detecting and measuring antigens or antibodies in a solution; the solution is run over a surface to which immobilized antibodies specific to the substance have been attached, and if the substance is present, it will bind to the antibody layer, and its presence is verified and visualized with an application of antibodies that have been tagged in some way. (BioTech Life Science Dictionary)\n",
      "A technique for counting, examining and sorting microscopic particles suspended in a stream of fluid.\n",
      "\n",
      "\n",
      "Different than the one(s) previously specified or mentioned.\n",
      "An assay used to determine the serum concentration of an antibody that binds to a specific antigen and blocks its function.  It is expressed as the reciprocal of the highest serum dilution that produces the specific positive immunologic reaction in an appropriate testing system.\n",
      "A highly sensitive technique for detecting and measuring antigens or antibodies in a solution; the solution is run over a surface to which immobilized antibodies specific to the substance have been attached, and if the substance is present, it will bind to the antibody layer, and its presence is verified and visualized with an application of antibodies that have been tagged in some way. (BioTech Life Science Dictionary)\n",
      "An immunoassay that is used to determine whether antibodies that can block pseudovirus replication are present in a biological specimen.\n",
      "\n",
      "\n",
      "\n",
      "\n",
      "\n",
      "\n",
      "A method that enables simultaneous detection of multiple biomarkers on a single tissue section using immunohistochemistry techniques.\n",
      "\n",
      "\n",
      "A technique for counting, examining and sorting microscopic particles suspended in a stream of fluid.\n",
      "\n",
      "\n",
      "An immunoassay that is used to determine whether antibodies that can block pseudovirus replication are present in a biological specimen.\n",
      "\n",
      "\n",
      "\n",
      "A type of solid-phase immunoassay that uses distinctly colored microbeads coated with one or more reagents, which may be antigens, antibodies, oligonucleotides, enzyme substrates, or receptors, for the simultaneous detection and measurement of one or many analytes within a single sample.\n",
      "A technique for counting, examining and sorting microscopic particles suspended in a stream of fluid.\n",
      "A technique for counting, examining and sorting microscopic particles suspended in a stream of fluid.\n",
      "A technique for counting, examining and sorting microscopic particles suspended in a stream of fluid.\n",
      "A technique for counting, examining and sorting microscopic particles suspended in a stream of fluid.\n",
      "A technique for counting, examining and sorting microscopic particles suspended in a stream of fluid.\n",
      "A technique for counting, examining and sorting microscopic particles suspended in a stream of fluid.\n",
      "A technique for counting, examining and sorting microscopic particles suspended in a stream of fluid.\n",
      "A technique for counting, examining and sorting microscopic particles suspended in a stream of fluid.\n",
      "A technique for counting, examining and sorting microscopic particles suspended in a stream of fluid.\n",
      "A highly sensitive technique for detecting and measuring antigens or antibodies in a solution; the solution is run over a surface to which immobilized antibodies specific to the substance have been attached, and if the substance is present, it will bind to the antibody layer, and its presence is verified and visualized with an application of antibodies that have been tagged in some way. (BioTech Life Science Dictionary)\n",
      "A highly sensitive technique for detecting and measuring antigens or antibodies in a solution; the solution is run over a surface to which immobilized antibodies specific to the substance have been attached, and if the substance is present, it will bind to the antibody layer, and its presence is verified and visualized with an application of antibodies that have been tagged in some way. (BioTech Life Science Dictionary)\n",
      "An assay used to determine the serum concentration of an antibody that binds to a specific antigen and blocks its function.  It is expressed as the reciprocal of the highest serum dilution that produces the specific positive immunologic reaction in an appropriate testing system.\n",
      "A highly sensitive technique for detecting and measuring antigens or antibodies in a solution; the solution is run over a surface to which immobilized antibodies specific to the substance have been attached, and if the substance is present, it will bind to the antibody layer, and its presence is verified and visualized with an application of antibodies that have been tagged in some way. (BioTech Life Science Dictionary)\n",
      "A method for amplifying a DNA base sequence using multiple rounds of heat denaturation of the DNA and annealing of oligonucleotide primers complementary to flanking regions in the presence of a heat-stable polymerase.  This results in duplication of the targeted DNA region. Newly synthesized DNA strands can subsequently serve as additional templates for the same primer sequences, so that successive rounds of primer annealing, strand elongation, and dissociation produce rapid and highly specific amplification of the desired sequence. PCR also can be used to detect the existence of the defined sequence in a DNA sample.\n",
      "An immunoassay that is used to determine whether antibodies that can block pseudovirus replication are present in a biological specimen.\n",
      "A technique for counting, examining and sorting microscopic particles suspended in a stream of fluid.\n",
      "A technique for counting, examining and sorting microscopic particles suspended in a stream of fluid.\n",
      "A technique for counting, examining and sorting microscopic particles suspended in a stream of fluid.\n",
      "A technique for counting, examining and sorting microscopic particles suspended in a stream of fluid.\n",
      "A technique for counting, examining and sorting microscopic particles suspended in a stream of fluid.\n",
      "A type of solid-phase immunoassay that uses distinctly colored microbeads coated with one or more reagents, which may be antigens, antibodies, oligonucleotides, enzyme substrates, or receptors, for the simultaneous detection and measurement of one or many analytes within a single sample.\n",
      "A method that enables simultaneous detection of multiple biomarkers on a single tissue section using immunohistochemistry techniques.\n",
      "A method that enables simultaneous detection of multiple biomarkers on a single tissue section using immunohistochemistry techniques.\n",
      "An assay used to determine the serum concentration of an antibody that binds to a specific antigen and blocks its function.  It is expressed as the reciprocal of the highest serum dilution that produces the specific positive immunologic reaction in an appropriate testing system.\n",
      "\n",
      "The use of various technologies to resolve the structure or features of objects too small or fine to naturally be seen by eye.\n",
      "A serological test that measures the ability of antibodies in specific concentrations of serum to prevent the formation of plaques in a cell monolayer when combined with a viral suspension.\n",
      "\n",
      "\n",
      "\n",
      "\n",
      "\n",
      "\n",
      "An immunoassay that is used to determine whether antibodies that can block pseudovirus replication are present in a biological specimen.\n",
      "\n",
      "A highly sensitive technique for detecting and measuring antigens or antibodies in a solution; the solution is run over a surface to which immobilized antibodies specific to the substance have been attached, and if the substance is present, it will bind to the antibody layer, and its presence is verified and visualized with an application of antibodies that have been tagged in some way. (BioTech Life Science Dictionary)\n",
      "A method for amplifying a DNA base sequence using multiple rounds of heat denaturation of the DNA and annealing of oligonucleotide primers complementary to flanking regions in the presence of a heat-stable polymerase.  This results in duplication of the targeted DNA region. Newly synthesized DNA strands can subsequently serve as additional templates for the same primer sequences, so that successive rounds of primer annealing, strand elongation, and dissociation produce rapid and highly specific amplification of the desired sequence. PCR also can be used to detect the existence of the defined sequence in a DNA sample.\n",
      "An assay used to determine the serum concentration of an antibody that binds to a specific antigen and blocks its function.  It is expressed as the reciprocal of the highest serum dilution that produces the specific positive immunologic reaction in an appropriate testing system.\n",
      "A method that enables simultaneous detection of multiple biomarkers on a single tissue section using immunohistochemistry techniques.\n",
      "A diagnostic test in which an antibody is used to link a cellular antigen specifically to a stain that can be seen with a microscope.\n",
      "A diagnostic test in which an antibody is used to link a cellular antigen specifically to a stain that can be seen with a microscope.\n",
      "\n",
      "Different than the one(s) previously specified or mentioned.\n",
      "A procedure that can determine the nucleotide sequence for all of the RNA transcripts in an individual.\n",
      "A procedure that can determine the nucleotide sequence for all of the RNA transcripts in an individual.\n",
      "A highly sensitive technique for detecting and measuring antigens or antibodies in a solution; the solution is run over a surface to which immobilized antibodies specific to the substance have been attached, and if the substance is present, it will bind to the antibody layer, and its presence is verified and visualized with an application of antibodies that have been tagged in some way. (BioTech Life Science Dictionary)\n",
      "An assay used to determine the serum concentration of an antibody that binds to a specific antigen and blocks its function.  It is expressed as the reciprocal of the highest serum dilution that produces the specific positive immunologic reaction in an appropriate testing system.\n",
      "A technique for counting, examining and sorting microscopic particles suspended in a stream of fluid.\n",
      "A highly sensitive technique for detecting and measuring antigens or antibodies in a solution; the solution is run over a surface to which immobilized antibodies specific to the substance have been attached, and if the substance is present, it will bind to the antibody layer, and its presence is verified and visualized with an application of antibodies that have been tagged in some way. (BioTech Life Science Dictionary)\n",
      "A technique for counting, examining and sorting microscopic particles suspended in a stream of fluid.\n",
      "A procedure that can determine the nucleotide sequence for all of the RNA transcripts in an individual.\n",
      "A highly sensitive technique for detecting and measuring antigens or antibodies in a solution; the solution is run over a surface to which immobilized antibodies specific to the substance have been attached, and if the substance is present, it will bind to the antibody layer, and its presence is verified and visualized with an application of antibodies that have been tagged in some way. (BioTech Life Science Dictionary)\n",
      "A procedure that can determine the nucleotide sequence for all of the RNA transcripts in an individual.\n",
      "\n",
      "A technique for counting, examining and sorting microscopic particles suspended in a stream of fluid.\n",
      "A technique for counting, examining and sorting microscopic particles suspended in a stream of fluid.\n",
      "A technique for counting, examining and sorting microscopic particles suspended in a stream of fluid.\n",
      "A serological test that measures the ability of antibodies in specific concentrations of serum to prevent the formation of plaques in a cell monolayer when combined with a viral suspension.\n",
      "\n",
      "\n",
      "\n",
      "\n",
      "\n",
      "\n",
      "\n",
      "\n",
      "\n",
      "A type of immunoassay in which the antigen-antibody complex is quantified using light emission, which is generated from a chemical reaction.\n",
      "A type of immunoassay in which the antigen-antibody complex is quantified using light emission, which is generated from a chemical reaction.\n",
      "A method for amplifying a DNA base sequence using multiple rounds of heat denaturation of the DNA and annealing of oligonucleotide primers complementary to flanking regions in the presence of a heat-stable polymerase.  This results in duplication of the targeted DNA region. Newly synthesized DNA strands can subsequently serve as additional templates for the same primer sequences, so that successive rounds of primer annealing, strand elongation, and dissociation produce rapid and highly specific amplification of the desired sequence. PCR also can be used to detect the existence of the defined sequence in a DNA sample.\n",
      "\n",
      "A type of immunoassay in which the antigen-antibody complex is quantified using light emission, which is generated from a chemical reaction.\n",
      "A method for amplifying a DNA base sequence using multiple rounds of heat denaturation of the DNA and annealing of oligonucleotide primers complementary to flanking regions in the presence of a heat-stable polymerase.  This results in duplication of the targeted DNA region. Newly synthesized DNA strands can subsequently serve as additional templates for the same primer sequences, so that successive rounds of primer annealing, strand elongation, and dissociation produce rapid and highly specific amplification of the desired sequence. PCR also can be used to detect the existence of the defined sequence in a DNA sample.\n",
      "\n",
      "\n",
      "\n",
      "\n",
      "\n",
      "\n",
      "\n",
      "An immunoassay that is used to determine whether antibodies that can block pseudovirus replication are present in a biological specimen.\n",
      "\n",
      "\n",
      "\n",
      "\n",
      "\n",
      "\n",
      "\n",
      "\n",
      "\n",
      "\n",
      "\n",
      "\n",
      "A serological test that measures the ability of antibodies in specific concentrations of serum to prevent the formation of plaques in a cell monolayer when combined with a viral suspension.\n",
      "\n",
      "\n",
      "\n",
      "\n",
      "The use of various technologies to resolve the structure or features of objects too small or fine to naturally be seen by eye.\n",
      "\n",
      "\n",
      "A serological test that measures the ability of antibodies in specific concentrations of serum to prevent the formation of plaques in a cell monolayer when combined with a viral suspension.\n",
      "A method that enables simultaneous detection of multiple biomarkers on a single tissue section using immunohistochemistry techniques.\n",
      "A method that enables simultaneous detection of multiple biomarkers on a single tissue section using immunohistochemistry techniques.\n",
      "\n",
      "A method for amplifying a DNA base sequence using multiple rounds of heat denaturation of the DNA and annealing of oligonucleotide primers complementary to flanking regions in the presence of a heat-stable polymerase.  This results in duplication of the targeted DNA region. Newly synthesized DNA strands can subsequently serve as additional templates for the same primer sequences, so that successive rounds of primer annealing, strand elongation, and dissociation produce rapid and highly specific amplification of the desired sequence. PCR also can be used to detect the existence of the defined sequence in a DNA sample.\n",
      "A highly sensitive technique for detecting and measuring antigens or antibodies in a solution; the solution is run over a surface to which immobilized antibodies specific to the substance have been attached, and if the substance is present, it will bind to the antibody layer, and its presence is verified and visualized with an application of antibodies that have been tagged in some way. (BioTech Life Science Dictionary)\n",
      "A technique for counting, examining and sorting microscopic particles suspended in a stream of fluid.\n",
      "\n",
      "Different than the one(s) previously specified or mentioned.\n",
      "\n",
      "A type of solid-phase immunoassay that uses distinctly colored microbeads coated with one or more reagents, which may be antigens, antibodies, oligonucleotides, enzyme substrates, or receptors, for the simultaneous detection and measurement of one or many analytes within a single sample.\n",
      "\n",
      "An immunoassay that is used to determine whether antibodies that can block pseudovirus replication are present in a biological specimen.\n",
      "A type of immunoassay in which the antigen-antibody complex is quantified using light emission, which is generated from a chemical reaction.\n",
      "\n",
      "\n",
      "\n",
      "\n",
      "\n",
      "A highly sensitive technique for detecting and measuring antigens or antibodies in a solution; the solution is run over a surface to which immobilized antibodies specific to the substance have been attached, and if the substance is present, it will bind to the antibody layer, and its presence is verified and visualized with an application of antibodies that have been tagged in some way. (BioTech Life Science Dictionary)\n",
      "A highly sensitive technique for detecting and measuring antigens or antibodies in a solution; the solution is run over a surface to which immobilized antibodies specific to the substance have been attached, and if the substance is present, it will bind to the antibody layer, and its presence is verified and visualized with an application of antibodies that have been tagged in some way. (BioTech Life Science Dictionary)\n",
      "A highly sensitive technique for detecting and measuring antigens or antibodies in a solution; the solution is run over a surface to which immobilized antibodies specific to the substance have been attached, and if the substance is present, it will bind to the antibody layer, and its presence is verified and visualized with an application of antibodies that have been tagged in some way. (BioTech Life Science Dictionary)\n",
      "\n",
      "\n",
      "\n",
      "\n",
      "\n",
      "\n",
      "\n",
      "A method for amplifying a DNA base sequence using multiple rounds of heat denaturation of the DNA and annealing of oligonucleotide primers complementary to flanking regions in the presence of a heat-stable polymerase.  This results in duplication of the targeted DNA region. Newly synthesized DNA strands can subsequently serve as additional templates for the same primer sequences, so that successive rounds of primer annealing, strand elongation, and dissociation produce rapid and highly specific amplification of the desired sequence. PCR also can be used to detect the existence of the defined sequence in a DNA sample.\n",
      "\n",
      "A method for amplifying a DNA base sequence using multiple rounds of heat denaturation of the DNA and annealing of oligonucleotide primers complementary to flanking regions in the presence of a heat-stable polymerase.  This results in duplication of the targeted DNA region. Newly synthesized DNA strands can subsequently serve as additional templates for the same primer sequences, so that successive rounds of primer annealing, strand elongation, and dissociation produce rapid and highly specific amplification of the desired sequence. PCR also can be used to detect the existence of the defined sequence in a DNA sample.\n",
      "\n",
      "\n",
      "\n"
     ]
    }
   ],
   "source": [
    "for exps in a['Measurement Technique']:\n",
    "    if b_dict.get(exps) == None:\n",
    "        print('')\n",
    "    else:\n",
    "        print(b_dict.get(exps))"
   ]
  },
  {
   "cell_type": "code",
   "execution_count": null,
   "id": "6bdc9b8c",
   "metadata": {},
   "outputs": [],
   "source": []
  }
 ],
 "metadata": {
  "kernelspec": {
   "display_name": "Python 3",
   "language": "python",
   "name": "python3"
  },
  "language_info": {
   "codemirror_mode": {
    "name": "ipython",
    "version": 3
   },
   "file_extension": ".py",
   "mimetype": "text/x-python",
   "name": "python",
   "nbconvert_exporter": "python",
   "pygments_lexer": "ipython3",
   "version": "3.8.8"
  }
 },
 "nbformat": 4,
 "nbformat_minor": 5
}
