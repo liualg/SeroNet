{
 "cells": [
  {
   "cell_type": "code",
   "execution_count": 2,
   "id": "e27d0070",
   "metadata": {},
   "outputs": [],
   "source": [
    "import seronetFunctions as serofxn\n",
    "import shutil\n",
    "from glob import glob\n",
    "import os\n",
    "import numpy as np"
   ]
  },
  {
   "cell_type": "code",
   "execution_count": 3,
   "id": "4d6b09b7",
   "metadata": {},
   "outputs": [],
   "source": [
    "import pandas as pd\n",
    "import polars as ps\n",
    "from tqdm import tqdm"
   ]
  },
  {
   "cell_type": "code",
   "execution_count": 4,
   "id": "60db97c4",
   "metadata": {},
   "outputs": [
    {
     "data": {
      "text/plain": [
       "79"
      ]
     },
     "execution_count": 4,
     "metadata": {},
     "output_type": "execute_result"
    }
   ],
   "source": [
    "dr48 = pd.read_excel('/Users/liualg/Library/CloudStorage/OneDrive-NationalInstitutesofHealth/Curation channel/ImmPort Uploads/Data Release Updates_/DR48/DR48_update-Exp_COD_FILE.xlsx')\n",
    "\n",
    "pmids = list(set(dr48['PMID'].dropna()))\n",
    "len(pmids)"
   ]
  },
  {
   "cell_type": "code",
   "execution_count": 5,
   "id": "235af687",
   "metadata": {},
   "outputs": [],
   "source": [
    "box_dir = '/Users/liualg/Library/CloudStorage/Box-Box/SeroNet Public Data/'\n",
    "out_dir = '/Users/liualg/Library/CloudStorage/OneDrive-NationalInstitutesofHealth/Curation channel/ImmPort Uploads/Data Release Updates_/DR48/ImmPortFiles-renamed'\n"
   ]
  },
  {
   "cell_type": "code",
   "execution_count": 6,
   "id": "dfc68e02",
   "metadata": {},
   "outputs": [
    {
     "data": {
      "text/plain": [
       "78"
      ]
     },
     "execution_count": 6,
     "metadata": {},
     "output_type": "execute_result"
    }
   ],
   "source": [
    "total_list = [num for num in pmids if (isinstance(num, (int,float))) & (num != 12345678)]\n",
    "len(total_list)"
   ]
  },
  {
   "cell_type": "code",
   "execution_count": 12,
   "id": "8f2ad302",
   "metadata": {},
   "outputs": [
    {
     "name": "stderr",
     "output_type": "stream",
     "text": [
      "100%|██████████| 78/78 [00:15<00:00,  4.89it/s]\n"
     ]
    }
   ],
   "source": [
    "files2move = []\n",
    "for pmid in tqdm(total_list):\n",
    "    pmid = str(pmid)\n",
    "#     print(pmid)\n",
    "    study_base = serofxn.get_box_dir(box_dir, pmid)\n",
    "    file_loc = os.path.join(study_base,'submitted_data')\n",
    "    template_loc = os.path.join(study_base, 'templated_data')\n",
    "    \n",
    "    try:\n",
    "        files2move.append([glob(f'{template_loc}/*.xlsm')[0]])\n",
    "    except:\n",
    "        print(f'{pmid}: missing TEMPLATE')\n",
    "\n",
    "    try:\n",
    "        files2move.append(glob(f'{file_loc}/*',recursive=True))\n",
    "    except:\n",
    "        print(f'{pmid}: missing FILES')\n",
    "        pass"
   ]
  },
  {
   "cell_type": "code",
   "execution_count": 13,
   "id": "91e2d69b",
   "metadata": {},
   "outputs": [],
   "source": [
    "import itertools\n",
    "flattenFiles = list(itertools.chain.from_iterable(files2move))"
   ]
  },
  {
   "cell_type": "code",
   "execution_count": 14,
   "id": "5c7200f1",
   "metadata": {},
   "outputs": [
    {
     "name": "stdout",
     "output_type": "stream",
     "text": [
      "/Users/liualg/Library/CloudStorage/Box-Box/SeroNet Public Data/CA260543_BARIC/PMID_35932763/submitted_data/Archive\n",
      "/Users/liualg/Library/CloudStorage/Box-Box/SeroNet Public Data/CA260476_BAROUCH/PMID_35427477/submitted_data/Figure 6\n",
      "/Users/liualg/Library/CloudStorage/Box-Box/SeroNet Public Data/CA260476_BAROUCH/PMID_35427477/submitted_data/Figure 1\n",
      "/Users/liualg/Library/CloudStorage/Box-Box/SeroNet Public Data/CA260476_BAROUCH/PMID_35427477/submitted_data/Figure 4\n",
      "/Users/liualg/Library/CloudStorage/Box-Box/SeroNet Public Data/CA260476_BAROUCH/PMID_35427477/submitted_data/Figure 3\n",
      "/Users/liualg/Library/CloudStorage/Box-Box/SeroNet Public Data/CA260476_BAROUCH/PMID_35427477/submitted_data/Figure 2\n",
      "/Users/liualg/Library/CloudStorage/Box-Box/SeroNet Public Data/CA260476_BAROUCH/PMID_35427477/submitted_data/Figure 5\n",
      "/Users/liualg/Library/CloudStorage/Box-Box/SeroNet Public Data/CA260543_BARIC/PMID_35090596/submitted_data/Archive\n",
      "/Users/liualg/Library/CloudStorage/Box-Box/SeroNet Public Data/CA260541_SARIOL/PMID_34696403/submitted_data/PMID34696403_Supplemental_data\n",
      "/Users/liualg/Library/CloudStorage/Box-Box/SeroNet Public Data/CA260476_BAROUCH/PMID_34161961/submitted_data/abbadded\n",
      "/Users/liualg/Library/CloudStorage/Box-Box/SeroNet Public Data/CA260476_BAROUCH/PMID_34523968/submitted_data/abbrevadded\n",
      "/Users/liualg/Library/CloudStorage/Box-Box/SeroNet Public Data/21X092_CORDON-CARDO/PMID_34706273/submitted_data/Archive\n",
      "/Users/liualg/Library/CloudStorage/Box-Box/SeroNet Public Data/CA260476_BAROUCH/PMID_33472939/submitted_data/Suppleadded\n",
      "/Users/liualg/Library/CloudStorage/Box-Box/SeroNet Public Data/CA260582_OLTZ/PMID_33688034/submitted_data/Archive\n"
     ]
    }
   ],
   "source": [
    "for f in flattenFiles:\n",
    "    if ('.' not in f) and ('archive' not in f):\n",
    "        print(f)"
   ]
  },
  {
   "cell_type": "code",
   "execution_count": 15,
   "id": "87bddf9b",
   "metadata": {},
   "outputs": [
    {
     "name": "stderr",
     "output_type": "stream",
     "text": [
      "100%|██████████| 459/459 [00:04<00:00, 110.26it/s]\n"
     ]
    }
   ],
   "source": [
    "for f in tqdm(flattenFiles):\n",
    "    if ('.' in f):\n",
    "        try:\n",
    "            shutil.copy(f, './archive/dr48-updatedfiles/')\n",
    "#             shutil.copy(f, out_dir)\n",
    "        except:\n",
    "            print(f)"
   ]
  },
  {
   "cell_type": "code",
   "execution_count": 7,
   "id": "986ed272",
   "metadata": {},
   "outputs": [
    {
     "name": "stderr",
     "output_type": "stream",
     "text": [
      "100%|██████████| 98/98 [00:17<00:00,  5.59it/s]\n"
     ]
    }
   ],
   "source": [
    "# move JSON files to each folder \n",
    "for i in tqdm(glob('/Users/liualg/Documents/GitHub/SeroNet/seronetTemplates/archive/JSON_files/DR48-JSON/*.json')):\n",
    "#     print(i[-18:-10])\n",
    "#     print(serofxn.get_box_dir(box_dir,i[-18:-10]))\n",
    "    json_copy = serofxn.get_box_dir(box_dir,i[-18:-10]) + '/templated_data'\n",
    "    shutil.copy(i,json_copy)"
   ]
  },
  {
   "cell_type": "code",
   "execution_count": 9,
   "id": "62806edd",
   "metadata": {},
   "outputs": [
    {
     "name": "stdout",
     "output_type": "stream",
     "text": [
      "PMID12345678_description.pdf\n",
      "PMID35427477_21-22 CD8 ICS Week 16 1-28-22.csv\n",
      "PMID35013325_Source Data.xlsx\n"
     ]
    }
   ],
   "source": [
    "for i in dr48['File Name']:\n",
    "    if os.path.exists(f'./archive/dr48-updatedfiles/{i}'):\n",
    "        shutil.copy(f'./archive/dr48-updatedfiles/{i}','/Users/liualg/Documents/GitHub/SeroNet/seronetTemplates/archive/file_to_immport/')\n",
    "    \n",
    "    elif os.path.exists(f'./archive/JSON_files/DR48-JSON/{i}'):\n",
    "        shutil.copy(f'./archive/JSON_files/DR48-JSON/{i}','/Users/liualg/Documents/GitHub/SeroNet/seronetTemplates/archive/file_to_immport/')\n",
    "    \n",
    "    else:\n",
    "        print(i)"
   ]
  },
  {
   "cell_type": "code",
   "execution_count": null,
   "id": "8fe08642",
   "metadata": {},
   "outputs": [],
   "source": []
  }
 ],
 "metadata": {
  "kernelspec": {
   "display_name": "Python 3",
   "language": "python",
   "name": "python3"
  },
  "language_info": {
   "codemirror_mode": {
    "name": "ipython",
    "version": 3
   },
   "file_extension": ".py",
   "mimetype": "text/x-python",
   "name": "python",
   "nbconvert_exporter": "python",
   "pygments_lexer": "ipython3",
   "version": "3.8.8"
  }
 },
 "nbformat": 4,
 "nbformat_minor": 5
}
