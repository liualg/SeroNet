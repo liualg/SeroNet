{
 "cells": [
  {
   "cell_type": "code",
   "execution_count": 13,
   "id": "71b51fb0",
   "metadata": {},
   "outputs": [],
   "source": [
    "import pandas as pd \n",
    "from dataclasses import dataclass \n",
    "import json\n",
    "from dataclasses_json import DataClassJsonMixin"
   ]
  },
  {
   "cell_type": "code",
   "execution_count": 51,
   "id": "da10e3b3",
   "metadata": {},
   "outputs": [],
   "source": [
    "@dataclass\n",
    "class student(DataClassJsonMixin):\n",
    "    name: str = None\n",
    "    age: int = 0\n",
    "    grades: list = None\n",
    "        \n",
    "@dataclass\n",
    "class teacher(DataClassJsonMixin):\n",
    "    student1: object = None\n",
    "    student2: object = None"
   ]
  },
  {
   "cell_type": "code",
   "execution_count": 52,
   "id": "4e134f86",
   "metadata": {},
   "outputs": [],
   "source": [
    "alex = student(\n",
    "    name = \"Alex\",\n",
    "    age = 75,\n",
    "    grades = [1,2,3,4,5]\n",
    ")\n",
    "\n",
    "brian = student(\n",
    "    name = \"brian\",\n",
    "    age = 81,\n",
    "    grades = [1,2,3,4,5]\n",
    ")\n",
    "\n",
    "\n",
    "pj = teacher(\n",
    "    student1 = alex,\n",
    "    student2 = brian\n",
    ")"
   ]
  },
  {
   "cell_type": "code",
   "execution_count": 53,
   "id": "fb9b8699",
   "metadata": {},
   "outputs": [
    {
     "data": {
      "text/plain": [
       "teacher(student1=student(name='Alex', age=75, grades=[1, 2, 3, 4, 5]), student2=student(name='brian', age=81, grades=[1, 2, 3, 4, 5]))"
      ]
     },
     "execution_count": 53,
     "metadata": {},
     "output_type": "execute_result"
    }
   ],
   "source": [
    "alex.grades\n",
    "pj"
   ]
  },
  {
   "cell_type": "code",
   "execution_count": 54,
   "id": "11027019",
   "metadata": {},
   "outputs": [
    {
     "name": "stdout",
     "output_type": "stream",
     "text": [
      "{\n",
      "    \"student1\": {\n",
      "        \"name\": \"Alex\",\n",
      "        \"age\": 75,\n",
      "        \"grades\": [\n",
      "            1,\n",
      "            2,\n",
      "            3,\n",
      "            4,\n",
      "            5\n",
      "        ]\n",
      "    },\n",
      "    \"student2\": {\n",
      "        \"name\": \"brian\",\n",
      "        \"age\": 81,\n",
      "        \"grades\": [\n",
      "            1,\n",
      "            2,\n",
      "            3,\n",
      "            4,\n",
      "            5\n",
      "        ]\n",
      "    }\n",
      "}\n"
     ]
    }
   ],
   "source": [
    "some_json_string = pj.to_json(indent=4)\n",
    "print(some_json_string)\n",
    "# # Decoding from JSON\n",
    "# MyDataClass.from_json(some_json_string)"
   ]
  },
  {
   "cell_type": "code",
   "execution_count": 19,
   "id": "3f23c215",
   "metadata": {},
   "outputs": [
    {
     "name": "stdout",
     "output_type": "stream",
     "text": [
      "{\"name\": \"example\"}\n"
     ]
    }
   ],
   "source": [
    "@dataclass\n",
    "class MyDataClass(DataClassJsonMixin):\n",
    "    name: str\n",
    "\n",
    "my_dataclass_instance = MyDataClass('example')\n",
    "\n",
    "# Encoding to JSON\n",
    "some_json_string = my_dataclass_instance.to_json()\n",
    "print(some_json_string)\n",
    "# Decoding from JSON\n",
    "# MyDataClass.from_json(some_json_string)"
   ]
  },
  {
   "cell_type": "code",
   "execution_count": null,
   "id": "d0223703",
   "metadata": {},
   "outputs": [],
   "source": []
  }
 ],
 "metadata": {
  "kernelspec": {
   "display_name": "Python 3",
   "language": "python",
   "name": "python3"
  },
  "language_info": {
   "codemirror_mode": {
    "name": "ipython",
    "version": 3
   },
   "file_extension": ".py",
   "mimetype": "text/x-python",
   "name": "python",
   "nbconvert_exporter": "python",
   "pygments_lexer": "ipython3",
   "version": "3.8.8"
  }
 },
 "nbformat": 4,
 "nbformat_minor": 5
}
