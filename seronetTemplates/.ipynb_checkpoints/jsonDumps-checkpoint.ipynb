{
 "cells": [
  {
   "cell_type": "code",
   "execution_count": 13,
   "id": "c42227f0",
   "metadata": {},
   "outputs": [],
   "source": [
    "import pandas as pd \n",
    "from dataclasses import dataclass \n",
    "import json\n",
    "from dataclasses_json import DataClassJsonMixin"
   ]
  },
  {
   "cell_type": "code",
   "execution_count": 33,
   "id": "ab320af5",
   "metadata": {},
   "outputs": [],
   "source": [
    "@dataclass\n",
    "class student(DataClassJsonMixin):\n",
    "    name: str = None\n",
    "    age: int = 0\n",
    "    grades: list = None\n",
    "\n",
    "class teacher(DataClassJsonMixin):\n",
    "    student1: list = None"
   ]
  },
  {
   "cell_type": "code",
   "execution_count": 34,
   "id": "e6706ca5",
   "metadata": {},
   "outputs": [
    {
     "ename": "TypeError",
     "evalue": "teacher() takes no arguments",
     "output_type": "error",
     "traceback": [
      "\u001b[0;31m---------------------------------------------------------------------------\u001b[0m",
      "\u001b[0;31mTypeError\u001b[0m                                 Traceback (most recent call last)",
      "\u001b[0;32m<ipython-input-34-a50513b9e31e>\u001b[0m in \u001b[0;36m<module>\u001b[0;34m\u001b[0m\n\u001b[1;32m     12\u001b[0m \u001b[0;34m\u001b[0m\u001b[0m\n\u001b[1;32m     13\u001b[0m \u001b[0;34m\u001b[0m\u001b[0m\n\u001b[0;32m---> 14\u001b[0;31m pj = teacher(\n\u001b[0m\u001b[1;32m     15\u001b[0m     \u001b[0mstudnet1\u001b[0m \u001b[0;34m=\u001b[0m \u001b[0;34m[\u001b[0m\u001b[0malex\u001b[0m\u001b[0;34m,\u001b[0m\u001b[0mbrian\u001b[0m\u001b[0;34m]\u001b[0m\u001b[0;34m\u001b[0m\u001b[0;34m\u001b[0m\u001b[0m\n\u001b[1;32m     16\u001b[0m )\n",
      "\u001b[0;31mTypeError\u001b[0m: teacher() takes no arguments"
     ]
    }
   ],
   "source": [
    "alex = student(\n",
    "    name = \"Alex\",\n",
    "    age = 75,\n",
    "    grades = [1,2,3,4,5]\n",
    ")\n",
    "\n",
    "brian = student(\n",
    "    name = \"brian\",\n",
    "    age = 81,\n",
    "    grades = [1,2,3,4,5]\n",
    ")\n",
    "\n",
    "\n",
    "pj = teacher(\n",
    "    studnet1 = [alex, brian]\n",
    ")"
   ]
  },
  {
   "cell_type": "code",
   "execution_count": 27,
   "id": "572fc1b7",
   "metadata": {},
   "outputs": [
    {
     "data": {
      "text/plain": [
       "[1, 2, 3, 4, 5]"
      ]
     },
     "execution_count": 27,
     "metadata": {},
     "output_type": "execute_result"
    }
   ],
   "source": [
    "alex.grades"
   ]
  },
  {
   "cell_type": "code",
   "execution_count": 29,
   "id": "18b7653b",
   "metadata": {},
   "outputs": [
    {
     "name": "stdout",
     "output_type": "stream",
     "text": [
      "{\n",
      "    \"name\": \"Alex\",\n",
      "    \"age\": 75,\n",
      "    \"grades\": [\n",
      "        1,\n",
      "        2,\n",
      "        3,\n",
      "        4,\n",
      "        5\n",
      "    ]\n",
      "}\n"
     ]
    }
   ],
   "source": [
    "some_json_string = alex.to_json(indent=4)\n",
    "print(some_json_string)\n",
    "# # Decoding from JSON\n",
    "# MyDataClass.from_json(some_json_string)"
   ]
  },
  {
   "cell_type": "code",
   "execution_count": 19,
   "id": "9d3bbf55",
   "metadata": {},
   "outputs": [
    {
     "name": "stdout",
     "output_type": "stream",
     "text": [
      "{\"name\": \"example\"}\n"
     ]
    }
   ],
   "source": [
    "@dataclass\n",
    "class MyDataClass(DataClassJsonMixin):\n",
    "    name: str\n",
    "\n",
    "my_dataclass_instance = MyDataClass('example')\n",
    "\n",
    "# Encoding to JSON\n",
    "some_json_string = my_dataclass_instance.to_json()\n",
    "print(some_json_string)\n",
    "# Decoding from JSON\n",
    "# MyDataClass.from_json(some_json_string)"
   ]
  },
  {
   "cell_type": "code",
   "execution_count": null,
   "id": "6dbd91bd",
   "metadata": {},
   "outputs": [],
   "source": []
  }
 ],
 "metadata": {
  "kernelspec": {
   "display_name": "Python 3",
   "language": "python",
   "name": "python3"
  },
  "language_info": {
   "codemirror_mode": {
    "name": "ipython",
    "version": 3
   },
   "file_extension": ".py",
   "mimetype": "text/x-python",
   "name": "python",
   "nbconvert_exporter": "python",
   "pygments_lexer": "ipython3",
   "version": "3.8.8"
  }
 },
 "nbformat": 4,
 "nbformat_minor": 5
}
