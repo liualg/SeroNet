{
 "cells": [
  {
   "cell_type": "code",
   "execution_count": 100,
   "id": "d09ae696",
   "metadata": {},
   "outputs": [],
   "source": [
    "import pandas as pd\n",
    "import seronetFunctions as seroFxn\n",
    "from glob import glob\n",
    "\n",
    "from sys import platform\n",
    "import os\n",
    "import openpyxl\n",
    "from openpyxl import load_workbook, Workbook\n",
    "from openpyxl.utils.dataframe import dataframe_to_rows"
   ]
  },
  {
   "cell_type": "code",
   "execution_count": 158,
   "id": "a2b26c96",
   "metadata": {},
   "outputs": [],
   "source": [
    "TEMPLATE = 'protocols.txt'\n",
    "MIN_ROW = 11\n",
    "MIN_COL = 2"
   ]
  },
  {
   "cell_type": "markdown",
   "id": "1eca9510",
   "metadata": {},
   "source": [
    "# Load WorkBook"
   ]
  },
  {
   "cell_type": "code",
   "execution_count": 101,
   "id": "b6cd1b40",
   "metadata": {},
   "outputs": [
    {
     "name": "stdout",
     "output_type": "stream",
     "text": [
      "file path: /Users/liualg/Library/CloudStorage/Box-Box/SeroNet Public Data/CA261277_LIPSITCH/PMID_34910927/templated_data/PMID34910927_v1.2.4.xlsm\n"
     ]
    }
   ],
   "source": [
    "sheet_name = 'SeroNet Registry Template'\n",
    "map_sheet = 'Registry Definitions'\n",
    "PMID = '34910927'\n",
    "\n",
    "\n",
    "# finding correct Box Base\n",
    "if platform == \"darwin\":\n",
    "    box_base = \"~/Library/CloudStorage/Box-Box/SeroNet Public Data\"\n",
    "else: \n",
    "    print(\"User has windows\")\n",
    "    box_base = os.path.join(\"Users\",os.getlogin(), \"Box\")\n",
    "\n",
    "\n",
    "#File Paths\n",
    "BASE_DIR = seroFxn.get_box_dir(box_base, PMID)\n",
    "\n",
    "\n",
    "try:\n",
    "    df_path = glob(os.path.join(BASE_DIR,'templated_data',f'PMID{PMID}*.xlsm'))[0]\n",
    "except FileNotFoundError:\n",
    "    sys.exit(\"ERROR:: Incorrect Template format. Cannot Find File\")\n",
    "\n",
    "\n",
    "# df_path = os.path.join(BASE_DIR,'templated_data', file + \".xlsm\")\n",
    "print(\"file path: {}\".format(df_path))"
   ]
  },
  {
   "cell_type": "code",
   "execution_count": 102,
   "id": "fb61d06b",
   "metadata": {},
   "outputs": [
    {
     "name": "stderr",
     "output_type": "stream",
     "text": [
      "/Users/liualg/opt/anaconda3/lib/python3.8/site-packages/openpyxl/worksheet/_reader.py:312: UserWarning: Data Validation extension is not supported and will be removed\n",
      "  warn(msg)\n"
     ]
    }
   ],
   "source": [
    "book = load_workbook(df_path)\n",
    "registry = book[sheet_name]\n",
    "registry.delete_cols(1)"
   ]
  },
  {
   "cell_type": "code",
   "execution_count": 161,
   "id": "1a94496d",
   "metadata": {},
   "outputs": [],
   "source": [
    "column_names = [x.value for x in registry['A'][MIN_ROW:]]\n",
    "\n",
    "column_info = []\n",
    "for row in registry.iter_rows(min_row=MIN_ROW+1,\n",
    "                              max_row=None,\n",
    "                              min_col=MIN_COL,\n",
    "                              max_col=None,\n",
    "                              values_only=False):\n",
    "    column_info.append([x.value for x in row if x.value])\n",
    "    \n",
    "    \n",
    "    \n",
    "study_info = dict(zip(column_names,column_info))"
   ]
  },
  {
   "cell_type": "code",
   "execution_count": 162,
   "id": "78f0b914",
   "metadata": {},
   "outputs": [
    {
     "data": {
      "text/plain": [
       "{'study_pubmed': [],\n",
       " 'Pubmed ID': [34910927],\n",
       " None: [],\n",
       " 'study': [],\n",
       " 'Study Identifier': ['PMID34910927_study-01'],\n",
       " 'Study Name': ['Population impact of SARS-CoV-2 variants with enhanced transmissibility and/or partial immune escape'],\n",
       " 'Publication Title': ['Population impact of SARS-CoV-2 variants with enhanced transmissibility and/or partial immune escape'],\n",
       " 'Study Objective': [' Variants with enhanced transmissibility frequently increase epidemic severity, whereas those with partial immune escape either fail to spread widely or primarily cause reinfections and breakthrough infections'],\n",
       " 'Study Description': ['SARS-CoV-2 variants of concern exhibit varying degrees of transmissibility and, in some cases, escape from acquired immunity. Much effort has been devoted to measuring these phenotypes, but understanding their impact on the course of the pandemic-especially that of immune escape-has remained a challenge. Here, we use a mathematical model to simulate the dynamics of wild-type and variant strains of SARS-CoV-2 in the context of vaccine rollout and nonpharmaceutical interventions. We show that variants with enhanced transmissibility frequently increase epidemic severity, whereas those with partial immune escape either fail to spread widely or primarily cause reinfections and breakthrough infections. However, when these phenotypes are combined, a variant can continue spreading even as immunity builds up in the population, limiting the impact of vaccination and exacerbating the epidemic. These findings help explain the trajectories of past and present SARS-CoV-2 variants and may inform variant assessment and response in the future.'],\n",
       " 'Primary Institution Name': ['Harvard University'],\n",
       " 'study_personnel': [],\n",
       " 'Personnel ID': ['PMID34910927_personnel-01', 'PMID34910927_personnel-02'],\n",
       " 'Honorific': [],\n",
       " 'Last Name': ['Lipsitch', 'Bushman'],\n",
       " 'First Name': ['Marc', 'Mary'],\n",
       " 'Suffixes': [],\n",
       " 'Organization': ['Harvard University ', 'Harvard University '],\n",
       " 'ORCID ID': [],\n",
       " 'Email': ['mlipsitc@hsph.harvard.edu', 'mbushman@hsph.harvard.edu'],\n",
       " 'Title In Study': ['SeroNet Principal Investigator', 'Corresponding Author'],\n",
       " 'Role In Study': ['Principal Investigator', 'Corresponding Author'],\n",
       " 'Site Name': ['Harvard University School of Public Health',\n",
       "  'Harvard University School of Public Health'],\n",
       " 'study_file': [],\n",
       " 'Study File Name': ['mmc1.pdf'],\n",
       " 'Study File Description': ['Study Data'],\n",
       " 'Study File Type': ['Study Data'],\n",
       " 'study_link': [],\n",
       " 'Link Name': ['NCBI'],\n",
       " 'Value': ['https://www.ncbi.nlm.nih.gov/pmc/articles/PMC8603072/table/undtbl1/?report=objectonly'],\n",
       " 'study_categorization': [],\n",
       " 'Research Focus*': ['No Research Focus Specified'],\n",
       " 'Study Type': ['in silico Model '],\n",
       " 'Keywords': ['COVID-19, Computer Simulation, Immune Evasion, Immunity, Models, NPI, SARS-CoV-2, VOC, immune escape, mathematical model, nonpharmaceutical interventions, transmissibility, vaccination, variant of concern'],\n",
       " 'study_design': [],\n",
       " 'Clinical Study Design': ['Other'],\n",
       " 'in silico Model Type*': ['Mathematical Model'],\n",
       " 'protocol': [],\n",
       " 'Protocol ID': ['PMID34910927_protocol-01'],\n",
       " 'Protocol File Name': ['PMID34910927_protocol-01.txt'],\n",
       " 'Protocol Name': ['PMID34910927_protocol-01'],\n",
       " 'Protocol Description': ['Study Protocol'],\n",
       " 'Protocol Type': ['Study Protocol'],\n",
       " 'condition_or_disease': [],\n",
       " 'Reported Health Condition* ': ['Covid-19'],\n",
       " 'Intervention Agent': [],\n",
       " 'SARS-CoV-2 Vaccine Type*': ['n/a'],\n",
       " 'study_details': [],\n",
       " 'Clinical Outcome Measure': [],\n",
       " 'Enrollment Start Date': [],\n",
       " 'Enrollment End Date': [],\n",
       " 'Number of Study Subjects': [],\n",
       " 'Age Unit': ['Years'],\n",
       " 'Minimum Age': [],\n",
       " 'Maximum Age': [],\n",
       " 'inclusion_exclusion': [],\n",
       " 'Inclusion ID': ['PMID34910927_inexcl-01'],\n",
       " 'Inclusion Criterion': ['mathematical model'],\n",
       " 'Inclusion Criterion Category': ['inclusion'],\n",
       " 'Subject Type: human': [],\n",
       " 'Arm ID': ['PMID34910927_aoc-01'],\n",
       " 'Arm Name': ['Compartment model'],\n",
       " 'Study Population Description': ['Extended susceptible-infected-recovered (SIR) compartment model, which includes two strains—wild type (WT) and variant—as well as vaccination'],\n",
       " 'Arm Type': ['Other'],\n",
       " 'Ethnicity*': ['Not Specified'],\n",
       " 'Race*': ['Not Specified'],\n",
       " 'Race Specify': [],\n",
       " 'Description': [],\n",
       " 'Sex at Birth*': ['Other '],\n",
       " 'Age Event': ['Not Specified'],\n",
       " 'Subject Phenotype': [],\n",
       " 'Study Location*': ['US: Massachusetts'],\n",
       " 'Assessment Name': [],\n",
       " 'Measured Behavioral or Psychological Factor*': [],\n",
       " 'Measured Social Factor*': [],\n",
       " 'SARS-CoV-2 Symptoms*': [],\n",
       " 'Assessment_Clinical  and Demographic Data Provenance': [],\n",
       " 'Assessment_Demographic Data Types Collected': [],\n",
       " 'SARS-CoV2 History*': [],\n",
       " 'COVID-19 Disease Severity*': ['Unknown '],\n",
       " 'Post COVID-19 Symptoms': [],\n",
       " 'COVID-19 Complications': [],\n",
       " 'Subject Type: model organism': ['** use this section if it is a human cell line'],\n",
       " 'Species': ['n/a'],\n",
       " 'Biosample Type': ['Other'],\n",
       " 'Strain Characteristics': [],\n",
       " 'planned_visit': [],\n",
       " 'Visit ID': ['PMID34910927_pv-01'],\n",
       " 'Visit Name': ['Model'],\n",
       " 'Visit Order Number': [1],\n",
       " 'Visit Min Start Day': [1],\n",
       " 'Visit Max Start Day': [],\n",
       " 'Visit Start Rule': [],\n",
       " 'Experiments': [],\n",
       " 'Associated Arm ID(s)': ['PMID34910927_aoc-01'],\n",
       " 'Associated First Planned Visit ID': ['PMID34910927_pv-01'],\n",
       " 'Assay Type': [],\n",
       " 'Experiment Name': [],\n",
       " 'Experiment Results File Name': ['na'],\n",
       " 'Biospecimen Type*': ['n/a'],\n",
       " 'Biospecimen Collection Point': ['Other '],\n",
       " 'SARS-CoV-2 Antigen*': ['n/a  '],\n",
       " 'Assay Use': ['n/a'],\n",
       " 'Manufacturer': ['components from multiple manufacturers'],\n",
       " 'Catalog #': ['n/a'],\n",
       " 'Virus Target': ['n/a'],\n",
       " 'Antibody Isotype*': ['Other '],\n",
       " 'Reporting Units': ['n/a'],\n",
       " 'Assay Reporting Format': ['n/a']}"
      ]
     },
     "execution_count": 162,
     "metadata": {},
     "output_type": "execute_result"
    }
   ],
   "source": [
    "study_info"
   ]
  },
  {
   "cell_type": "markdown",
   "id": "9aabd892",
   "metadata": {},
   "source": [
    "# Populate Templates"
   ]
  },
  {
   "cell_type": "code",
   "execution_count": 165,
   "id": "f0252737",
   "metadata": {
    "scrolled": true
   },
   "outputs": [],
   "source": [
    "xl = pd.ExcelFile('/Users/liualg/Downloads/RegImmPortDict.xlsx')\n",
    "template_names = xl.sheet_names\n",
    "\n",
    "template = pd.read_excel('/Users/liualg/Downloads/RegImmPortDict.xlsx',\n",
    "                     header= None,\n",
    "                     sheet_name= TEMPLATE)\n",
    "\n",
    "template_dict = dict(zip(template.loc[:,0], template.loc[:,1]))"
   ]
  },
  {
   "cell_type": "code",
   "execution_count": 50,
   "id": "40a8b3bb",
   "metadata": {},
   "outputs": [
    {
     "name": "stderr",
     "output_type": "stream",
     "text": [
      "/Users/liualg/opt/anaconda3/lib/python3.8/site-packages/openpyxl/styles/stylesheet.py:221: UserWarning: Workbook contains no default style, apply openpyxl's default\n",
      "  warn(\"Workbook contains no default style, apply openpyxl's default\")\n"
     ]
    }
   ],
   "source": [
    "PATH_protocols = os.path.join(\"template\", \"protocols.xlsx\")\n",
    "protocol_ws = load_workbook(PATH_protocols)['protocols.txt']\n",
    "protocol_ws = seroFxn.remove_excess(protocol_ws)\n",
    "# seroFxn.add_df(protocol_ws, PROTOCOLS, add_header = False, stagger = 1)"
   ]
  },
  {
   "cell_type": "code",
   "execution_count": 168,
   "id": "ceb21647",
   "metadata": {
    "scrolled": true
   },
   "outputs": [
    {
     "name": "stdout",
     "output_type": "stream",
     "text": [
      "Column Name - None : []\n",
      "User Defined ID - Protocol ID : ['PMID34910927_protocol-01']\n",
      "File Name - Protocol File Name : ['PMID34910927_protocol-01.txt']\n",
      "Name - Protocol Name : ['PMID34910927_protocol-01']\n",
      "Description - Protocol Description : ['Study Protocol']\n",
      "Type - Protocol Type : ['Study Protocol']\n"
     ]
    }
   ],
   "source": [
    "for cell in protocol_ws[3]:\n",
    "    check = template_dict.get(cell.value)\n",
    "    print(cell.value,'-',template_dict.get(cell.value),':',study_info.get(check))"
   ]
  },
  {
   "cell_type": "code",
   "execution_count": 184,
   "id": "b0866619",
   "metadata": {},
   "outputs": [
    {
     "data": {
      "text/plain": [
       "[[],\n",
       " ['PMID34910927_protocol-01'],\n",
       " ['PMID34910927_protocol-01.txt'],\n",
       " ['PMID34910927_protocol-01'],\n",
       " ['Study Protocol'],\n",
       " ['Study Protocol']]"
      ]
     },
     "execution_count": 184,
     "metadata": {},
     "output_type": "execute_result"
    }
   ],
   "source": [
    "[study_info.get(template_dict.get(x.value)) for x in protocol_ws[3]]"
   ]
  },
  {
   "cell_type": "code",
   "execution_count": 181,
   "id": "e8c8a088",
   "metadata": {},
   "outputs": [],
   "source": [
    "study_info.get('User Defined ID')"
   ]
  },
  {
   "cell_type": "code",
   "execution_count": 182,
   "id": "cb871691",
   "metadata": {},
   "outputs": [
    {
     "data": {
      "text/plain": [
       "{'study_pubmed': [],\n",
       " 'Pubmed ID': [34910927],\n",
       " None: [],\n",
       " 'study': [],\n",
       " 'Study Identifier': ['PMID34910927_study-01'],\n",
       " 'Study Name': ['Population impact of SARS-CoV-2 variants with enhanced transmissibility and/or partial immune escape'],\n",
       " 'Publication Title': ['Population impact of SARS-CoV-2 variants with enhanced transmissibility and/or partial immune escape'],\n",
       " 'Study Objective': [' Variants with enhanced transmissibility frequently increase epidemic severity, whereas those with partial immune escape either fail to spread widely or primarily cause reinfections and breakthrough infections'],\n",
       " 'Study Description': ['SARS-CoV-2 variants of concern exhibit varying degrees of transmissibility and, in some cases, escape from acquired immunity. Much effort has been devoted to measuring these phenotypes, but understanding their impact on the course of the pandemic-especially that of immune escape-has remained a challenge. Here, we use a mathematical model to simulate the dynamics of wild-type and variant strains of SARS-CoV-2 in the context of vaccine rollout and nonpharmaceutical interventions. We show that variants with enhanced transmissibility frequently increase epidemic severity, whereas those with partial immune escape either fail to spread widely or primarily cause reinfections and breakthrough infections. However, when these phenotypes are combined, a variant can continue spreading even as immunity builds up in the population, limiting the impact of vaccination and exacerbating the epidemic. These findings help explain the trajectories of past and present SARS-CoV-2 variants and may inform variant assessment and response in the future.'],\n",
       " 'Primary Institution Name': ['Harvard University'],\n",
       " 'study_personnel': [],\n",
       " 'Personnel ID': ['PMID34910927_personnel-01', 'PMID34910927_personnel-02'],\n",
       " 'Honorific': [],\n",
       " 'Last Name': ['Lipsitch', 'Bushman'],\n",
       " 'First Name': ['Marc', 'Mary'],\n",
       " 'Suffixes': [],\n",
       " 'Organization': ['Harvard University ', 'Harvard University '],\n",
       " 'ORCID ID': [],\n",
       " 'Email': ['mlipsitc@hsph.harvard.edu', 'mbushman@hsph.harvard.edu'],\n",
       " 'Title In Study': ['SeroNet Principal Investigator', 'Corresponding Author'],\n",
       " 'Role In Study': ['Principal Investigator', 'Corresponding Author'],\n",
       " 'Site Name': ['Harvard University School of Public Health',\n",
       "  'Harvard University School of Public Health'],\n",
       " 'study_file': [],\n",
       " 'Study File Name': ['mmc1.pdf'],\n",
       " 'Study File Description': ['Study Data'],\n",
       " 'Study File Type': ['Study Data'],\n",
       " 'study_link': [],\n",
       " 'Link Name': ['NCBI'],\n",
       " 'Value': ['https://www.ncbi.nlm.nih.gov/pmc/articles/PMC8603072/table/undtbl1/?report=objectonly'],\n",
       " 'study_categorization': [],\n",
       " 'Research Focus*': ['No Research Focus Specified'],\n",
       " 'Study Type': ['in silico Model '],\n",
       " 'Keywords': ['COVID-19, Computer Simulation, Immune Evasion, Immunity, Models, NPI, SARS-CoV-2, VOC, immune escape, mathematical model, nonpharmaceutical interventions, transmissibility, vaccination, variant of concern'],\n",
       " 'study_design': [],\n",
       " 'Clinical Study Design': ['Other'],\n",
       " 'in silico Model Type*': ['Mathematical Model'],\n",
       " 'protocol': [],\n",
       " 'Protocol ID': ['PMID34910927_protocol-01'],\n",
       " 'Protocol File Name': ['PMID34910927_protocol-01.txt'],\n",
       " 'Protocol Name': ['PMID34910927_protocol-01'],\n",
       " 'Protocol Description': ['Study Protocol'],\n",
       " 'Protocol Type': ['Study Protocol'],\n",
       " 'condition_or_disease': [],\n",
       " 'Reported Health Condition* ': ['Covid-19'],\n",
       " 'Intervention Agent': [],\n",
       " 'SARS-CoV-2 Vaccine Type*': ['n/a'],\n",
       " 'study_details': [],\n",
       " 'Clinical Outcome Measure': [],\n",
       " 'Enrollment Start Date': [],\n",
       " 'Enrollment End Date': [],\n",
       " 'Number of Study Subjects': [],\n",
       " 'Age Unit': ['Years'],\n",
       " 'Minimum Age': [],\n",
       " 'Maximum Age': [],\n",
       " 'inclusion_exclusion': [],\n",
       " 'Inclusion ID': ['PMID34910927_inexcl-01'],\n",
       " 'Inclusion Criterion': ['mathematical model'],\n",
       " 'Inclusion Criterion Category': ['inclusion'],\n",
       " 'Subject Type: human': [],\n",
       " 'Arm ID': ['PMID34910927_aoc-01'],\n",
       " 'Arm Name': ['Compartment model'],\n",
       " 'Study Population Description': ['Extended susceptible-infected-recovered (SIR) compartment model, which includes two strains—wild type (WT) and variant—as well as vaccination'],\n",
       " 'Arm Type': ['Other'],\n",
       " 'Ethnicity*': ['Not Specified'],\n",
       " 'Race*': ['Not Specified'],\n",
       " 'Race Specify': [],\n",
       " 'Description': [],\n",
       " 'Sex at Birth*': ['Other '],\n",
       " 'Age Event': ['Not Specified'],\n",
       " 'Subject Phenotype': [],\n",
       " 'Study Location*': ['US: Massachusetts'],\n",
       " 'Assessment Name': [],\n",
       " 'Measured Behavioral or Psychological Factor*': [],\n",
       " 'Measured Social Factor*': [],\n",
       " 'SARS-CoV-2 Symptoms*': [],\n",
       " 'Assessment_Clinical  and Demographic Data Provenance': [],\n",
       " 'Assessment_Demographic Data Types Collected': [],\n",
       " 'SARS-CoV2 History*': [],\n",
       " 'COVID-19 Disease Severity*': ['Unknown '],\n",
       " 'Post COVID-19 Symptoms': [],\n",
       " 'COVID-19 Complications': [],\n",
       " 'Subject Type: model organism': ['** use this section if it is a human cell line'],\n",
       " 'Species': ['n/a'],\n",
       " 'Biosample Type': ['Other'],\n",
       " 'Strain Characteristics': [],\n",
       " 'planned_visit': [],\n",
       " 'Visit ID': ['PMID34910927_pv-01'],\n",
       " 'Visit Name': ['Model'],\n",
       " 'Visit Order Number': [1],\n",
       " 'Visit Min Start Day': [1],\n",
       " 'Visit Max Start Day': [],\n",
       " 'Visit Start Rule': [],\n",
       " 'Experiments': [],\n",
       " 'Associated Arm ID(s)': ['PMID34910927_aoc-01'],\n",
       " 'Associated First Planned Visit ID': ['PMID34910927_pv-01'],\n",
       " 'Assay Type': [],\n",
       " 'Experiment Name': [],\n",
       " 'Experiment Results File Name': ['na'],\n",
       " 'Biospecimen Type*': ['n/a'],\n",
       " 'Biospecimen Collection Point': ['Other '],\n",
       " 'SARS-CoV-2 Antigen*': ['n/a  '],\n",
       " 'Assay Use': ['n/a'],\n",
       " 'Manufacturer': ['components from multiple manufacturers'],\n",
       " 'Catalog #': ['n/a'],\n",
       " 'Virus Target': ['n/a'],\n",
       " 'Antibody Isotype*': ['Other '],\n",
       " 'Reporting Units': ['n/a'],\n",
       " 'Assay Reporting Format': ['n/a']}"
      ]
     },
     "execution_count": 182,
     "metadata": {},
     "output_type": "execute_result"
    }
   ],
   "source": [
    "study_info"
   ]
  },
  {
   "cell_type": "code",
   "execution_count": null,
   "id": "bb72f5b9",
   "metadata": {},
   "outputs": [],
   "source": []
  }
 ],
 "metadata": {
  "kernelspec": {
   "display_name": "Python 3",
   "language": "python",
   "name": "python3"
  },
  "language_info": {
   "codemirror_mode": {
    "name": "ipython",
    "version": 3
   },
   "file_extension": ".py",
   "mimetype": "text/x-python",
   "name": "python",
   "nbconvert_exporter": "python",
   "pygments_lexer": "ipython3",
   "version": "3.8.8"
  }
 },
 "nbformat": 4,
 "nbformat_minor": 5
}
