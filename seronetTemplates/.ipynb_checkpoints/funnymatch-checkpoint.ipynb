{
 "cells": [
  {
   "cell_type": "code",
   "execution_count": 1,
   "id": "bc28cb52",
   "metadata": {},
   "outputs": [],
   "source": [
    "import pandas as pd\n",
    "import glob\n",
    "import numpy as np\n",
    "from fuzzywuzzy import fuzz\n",
    "from openpyxl import load_workbook"
   ]
  },
  {
   "cell_type": "code",
   "execution_count": 2,
   "id": "b7789179",
   "metadata": {},
   "outputs": [
    {
     "name": "stderr",
     "output_type": "stream",
     "text": [
      "/Users/liualg/opt/anaconda3/lib/python3.9/site-packages/openpyxl/styles/stylesheet.py:221: UserWarning: Workbook contains no default style, apply openpyxl's default\n",
      "  warn(\"Workbook contains no default style, apply openpyxl's default\")\n"
     ]
    }
   ],
   "source": [
    "immport = pd.read_excel(\"/Users/liualg/Documents/GitHub/SeroNet/seronetTemplates/template/experimentSamples.Other.xlsx\",\n",
    "              sheet_name=\"lookup\",\n",
    "              header=None\n",
    "        \n",
    "            )[0].values.tolist()"
   ]
  },
  {
   "cell_type": "code",
   "execution_count": 3,
   "id": "1809fd58",
   "metadata": {},
   "outputs": [],
   "source": [
    "seronet = pd.read_excel(\n",
    "    glob.glob(\"/Users/liualg/Library/CloudStorage/OneDrive-NationalInstitutesofHealth/Curation channel/*.xlsm\")[0],\n",
    "                        sheet_name=1,\n",
    "                        header=None).to_numpy()\n",
    "\n",
    "json_seronet_dict = pd.read_excel(\"./dictionary/Facetdict.xlsx\",\n",
    "                                 header=None)\n",
    "json_seronet_dict = dict(\n",
    "    zip(json_seronet_dict.loc[:][0],json_seronet_dict.loc[:][1])\n",
    ")"
   ]
  },
  {
   "cell_type": "code",
   "execution_count": 7,
   "id": "66bcf838",
   "metadata": {},
   "outputs": [],
   "source": [
    "# creating a dictionary with each look up table\n",
    "wb = load_workbook(\n",
    "    glob.glob(\"/Users/liualg/Library/CloudStorage/\" \\\n",
    "              \"OneDrive-NationalInstitutesofHealth/Curation channel/*.xlsm\")[0],\n",
    "                  )\n",
    "sheet = wb['Cntrl\\'d Vocab']\n",
    "immport_dict = dict()\n",
    "\n",
    "for column in sheet.iter_cols( #sheet.max_column, \n",
    "                              max_row=sheet.max_row, \n",
    "                              min_row=4):\n",
    "#     try:\n",
    "    name = []\n",
    "    start_index = []\n",
    "    for icol, cell in enumerate(column):\n",
    "        if icol == 0:\n",
    "            name.append(cell.value)\n",
    "            start_index.append(icol)\n",
    "        else:\n",
    "            if (cell.value is not None and column[icol-1].value is None):\n",
    "                name.append(cell.value)\n",
    "                start_index.append(icol)\n",
    "    # FIGURE THIS SHIT OUT\n",
    "    try:\n",
    "        for i in range(len(start_index)-1):\n",
    "            immport_dict[name[i]] = [k.value for k in column[start_index[i] : start_index[i+1]] if k.value is not None]\n",
    "        \n",
    "        immport_dict[name[-1]] = [k.value for k in column[start_index[i-1] :] if k.value is not None]\n",
    "    \n",
    "    except:\n",
    "        immport_dict[name[-1]] = [k.value for k in column[start_index[i] :] if k.value is not None]\n",
    "        pass\n",
    "    \n",
    "    \n",
    "#     except:\n",
    "#         print(column[0])\n",
    "    \n",
    "\n",
    "               "
   ]
  },
  {
   "cell_type": "code",
   "execution_count": 81,
   "id": "666f0755",
   "metadata": {
    "scrolled": true
   },
   "outputs": [
    {
     "data": {
      "text/plain": [
       "'Assay Type'"
      ]
     },
     "execution_count": 81,
     "metadata": {},
     "output_type": "execute_result"
    }
   ],
   "source": [
    "json_seronet_dict.get('assay_type')"
   ]
  },
  {
   "cell_type": "code",
   "execution_count": 88,
   "id": "4ebbce33",
   "metadata": {},
   "outputs": [],
   "source": [
    "def get_closest_lookup(word, lookup_table):\n",
    "    correct_word = ''\n",
    "    closest_lookup = ''\n",
    "    check_list = []\n",
    "    \n",
    "    if word in lookup_table:\n",
    "        closest_lookup = word\n",
    "\n",
    "    else:\n",
    "        for potential in lookup_table:\n",
    "            if fuzz.ratio(word, potential) > 70: ##use math for this\n",
    "                check_list.append((potential, \n",
    "                                  fuzz.ratio(word, potential))\n",
    "                                 )\n",
    "            else: \n",
    "                pass\n",
    "\n",
    "            # this is a little weird \n",
    "        if len(check_list) == 1:\n",
    "            print(f\"[FYI] fuzzywuzzy:: {word} => {check_list[0][0]} : score {check_list[0][1]}\")\n",
    "            closest_lookup = check_list[0][0]\n",
    "\n",
    "        elif len(check_list) > 1:\n",
    "            check_list.sort(key=lambda a: a[0])\n",
    "            print(f'Top three choices:')\n",
    "            print(check_list[:3],sep='\\n')\n",
    "            closest_lookup = check_list[int(input('Designate which choice to use: '))-1][0]\n",
    "\n",
    "        else:\n",
    "            print(f\"ERROR:: Please check spelling for: {word}\")\n",
    "            \n",
    "    return closest_lookup\n",
    "            \n",
    "\n",
    "        \n"
   ]
  },
  {
   "cell_type": "code",
   "execution_count": 92,
   "id": "7515bb17",
   "metadata": {},
   "outputs": [],
   "source": [
    "def get_closest_lookup(word, lookup_table):\n",
    "    correct_word = ''\n",
    "    closest_lookup = ''\n",
    "    check_list = []\n",
    "    \n",
    "    if word in lookup_table:\n",
    "        closest_lookup = word\n",
    "\n",
    "    else:\n",
    "        for potential in lookup_table:\n",
    "            if fuzz.ratio(word, potential) >= 70: ##use math for this\n",
    "                check_list.append((potential, \n",
    "                                  fuzz.ratio(word, potential))\n",
    "                                 )\n",
    "\n",
    "            elif 50 <= fuzz.ratio(word, potential) < 70: ##use math for this\n",
    "                check_list.append((potential, \n",
    "                                  fuzz.ratio(word, potential))\n",
    "                                 )\n",
    "            else: \n",
    "                pass\n",
    "\n",
    "            # this is a little weird \n",
    "        if len(check_list) == 1:\n",
    "            print(f\"[FYI] fuzzywuzzy:: {word} => {check_list[0][0]} : score {check_list[0][1]}\")\n",
    "            closest_lookup = check_list[0][0]\n",
    "\n",
    "        elif len(check_list) > 1:\n",
    "            check_list.sort(key=lambda a: a[0])\n",
    "            print(f'\\n\\n######  ACTION REQUIRED ###### \\nTop three choices:')\n",
    "            print(check_list[:3])\n",
    "            closest_lookup = check_list[int(input('Designate which choice to use: '))-1][0]\n",
    "\n",
    "        else:\n",
    "            print(f\"ERROR:: Please check spelling for: {word}\")\n",
    "\n",
    "    return closest_lookup\n",
    "\n",
    "def check_spelling(word_in_questions, facet_to_check):\n",
    "    lk_table = immport_dict.get(json_seronet_dict.get(facet_to_check))\n",
    "\n",
    "    if isinstance(word_in_questions,str):\n",
    "        correct_word = get_closest_lookup(word_in_questions,lk_table)\n",
    "\n",
    "    else:\n",
    "        correct_word = []\n",
    "        for words in word_in_questions:\n",
    "            correct_word.append(get_closest_lookup(words,lk_table))\n",
    "\n",
    "    return correct_word"
   ]
  },
  {
   "cell_type": "code",
   "execution_count": null,
   "id": "8d2474ad",
   "metadata": {},
   "outputs": [],
   "source": [
    "Covid-19 | SARS-CoV-2 Alpha; B.1.1.7 | SARS-CoV-2 Delta; B.1.617.2"
   ]
  },
  {
   "cell_type": "code",
   "execution_count": 91,
   "id": "c00d866e",
   "metadata": {},
   "outputs": [
    {
     "name": "stdout",
     "output_type": "stream",
     "text": [
      "ERROR:: Please check spelling for: Not Applicaple\n",
      "\n"
     ]
    }
   ],
   "source": [
    "check_spelling('Covid-19','reported_health_condition')"
   ]
  },
  {
   "cell_type": "code",
   "execution_count": 87,
   "id": "5930e7c3",
   "metadata": {},
   "outputs": [
    {
     "name": "stdout",
     "output_type": "stream",
     "text": [
      "True\n"
     ]
    }
   ],
   "source": [
    "a = 100\n",
    "if 50 <= a >=30:\n",
    "    print(True)"
   ]
  },
  {
   "cell_type": "code",
   "execution_count": null,
   "id": "714ae137",
   "metadata": {},
   "outputs": [],
   "source": []
  }
 ],
 "metadata": {
  "kernelspec": {
   "display_name": "Python 3 (ipykernel)",
   "language": "python",
   "name": "python3"
  },
  "language_info": {
   "codemirror_mode": {
    "name": "ipython",
    "version": 3
   },
   "file_extension": ".py",
   "mimetype": "text/x-python",
   "name": "python",
   "nbconvert_exporter": "python",
   "pygments_lexer": "ipython3",
   "version": "3.9.13"
  }
 },
 "nbformat": 4,
 "nbformat_minor": 5
}
