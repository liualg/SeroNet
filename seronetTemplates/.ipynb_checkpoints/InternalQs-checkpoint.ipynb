{
 "cells": [
  {
   "cell_type": "code",
   "execution_count": 1,
   "id": "1b75ff6f",
   "metadata": {},
   "outputs": [],
   "source": [
    "import re\n",
    "import pandas as pd\n",
    "import numpy as np\n",
    "import os, shutil\n",
    "import inspect\n",
    "import datetime as dt\n",
    "from sys import platform\n",
    "from glob import glob\n",
    "from tqdm import tqdm\n",
    "import openpyxl\n",
    "from openpyxl.utils.dataframe import dataframe_to_rows\n",
    "\n",
    "import seronetDataclass as seroClass\n",
    "import seronetFunctions as seroFxn"
   ]
  },
  {
   "cell_type": "code",
   "execution_count": 4,
   "id": "cf7a1fbb",
   "metadata": {},
   "outputs": [],
   "source": [
    "cloud = '/Users/liualg/Library/CloudStorage/OneDrive-NationalInstitutesofHealth/Curation channel/ImmPort Uploads/'\n",
    "PMID_LIST = pd.read_excel(os.path.join(cloud,'Immport-DR46 (November).xlsx'))['PMID (link to Box)'][1:]\n",
    "PMID_LIST = [\n",
    "    35180044, 35390296, 34368647, 35284808, 35483404, 34546094, 34250518, 34320281, 35085183, 35061630, 35704428, 33688034, 35756977, 34150933, 35090596, 35932763, 35839768, 35081612, 34383889, 36058184, 35576468, 34308390, 35881010, 35881005\n",
    "]\n",
    "OUT_DIR = \"./archive/JSON\""
   ]
  },
  {
   "cell_type": "code",
   "execution_count": 5,
   "id": "b9b3925e",
   "metadata": {},
   "outputs": [],
   "source": [
    "# finding correct Box Base\n",
    "if platform == \"darwin\":\n",
    "    box_base = \"~/Library/CloudStorage/Box-Box/SeroNet Public Data\"\n",
    "else: \n",
    "    print(\"User has windows\")\n",
    "    box_base = os.path.join(\"Users\",os.getlogin(), \"Box\")\n"
   ]
  },
  {
   "cell_type": "code",
   "execution_count": 19,
   "id": "7a5da878",
   "metadata": {},
   "outputs": [],
   "source": [
    "# create JSONs\n",
    "def create_json(PMID, OUT_DIR):\n",
    "    \n",
    "    print(box_base)\n",
    "    BASE_DIR = seroFxn.get_box_dir(box_base, PMID)\n",
    "    print(BASE_DIR)\n",
    "    df_path = glob(os.path.join(BASE_DIR,'templated_data',f'PMID{PMID}_v'))\n",
    "    df_path.sort()\n",
    "    df_path = df_path[0]\n",
    "    \n",
    "    file_type = 'json'\n",
    "    output_file = os.path.join(OUT_DIR, f'PMID{PMID}_JSON.{file_type}')\n",
    "    df = pd.read_excel(df_path, sheet_name = 0, header=None)\n",
    "    df.index += 1\n",
    "    template = {}\n",
    "    pt.parse_registry_template(df, template)\n",
    "\n",
    "    f = open(output_file, \"w\")\n",
    "    print(json.dumps(template, indent=4), file = f)\n",
    "    f.close()"
   ]
  },
  {
   "cell_type": "code",
   "execution_count": 20,
   "id": "aa1e06a4",
   "metadata": {},
   "outputs": [],
   "source": [
    "def get_all_files(pmid):\n",
    "    if isinstance(pmid, int):\n",
    "        pmid = str(pmid)\n",
    "    else:\n",
    "        pass\n",
    "    #File Paths\n",
    "    BASE_DIR = seroFxn.get_box_dir(box_base, pmid)\n",
    "    OUT_DIR = glob(os.path.join(BASE_DIR,'ImmPort*'))\n",
    "    OUT_DIR.sort()\n",
    "    \n",
    "    for file in glob(os.path.join(OUT_DIR[-1],\"*.txt\")):\n",
    "        if 'protocol.txt' in file:\n",
    "            protocols.append(pd.read_csv(file,sep='\\t',header=2).fillna('-'))\n",
    "\n",
    "#         elif 'experiments' in file:\n",
    "#             experiments.append(pd.read_csv(file,sep='\\t',header=2).fillna('-'))\n",
    "\n",
    "        elif 'reagent' in file:\n",
    "            reagents.append(pd.read_csv(file,sep='\\t',header=2).fillna('-'))\n",
    "\n",
    "        elif 'panel' in file:\n",
    "            assessments.append(pd.read_csv(file,sep='\\t',header=2).fillna('-'))\n",
    "\n",
    "        elif 'subject_human' in file:\n",
    "            subject_humans.append(pd.read_csv(file,sep='\\t',header=2).fillna('-'))\n",
    "\n",
    "        elif 'subject_organism' in file:\n",
    "            subject_organisms.append(pd.read_csv(file,sep='\\t',header=2).fillna('-'))\n",
    "\n",
    "        elif 'experiment_samples' in file:\n",
    "            experiment_samples.append(pd.read_csv(file,sep='\\t',header=2).fillna('-'))\n",
    "\n",
    "        elif 'treatment' in file:\n",
    "            treatments.append(pd.read_csv(file,sep='\\t',header=2).fillna('-'))\n",
    "\n",
    "        elif 'basic' in file:\n",
    "            basic_stdy_templates.append(file)\n",
    "        else:\n",
    "#             print(OUT_DIR[-1])\n",
    "            pass\n",
    "\n",
    "#     return {'basic_stdy_templates':basic_stdy_templates, 'protocols': protocols, 'experiments': experiments,\n",
    "#             'reagents': reagents,'assessments': assessments,'subject_humans': subject_humans,\n",
    "#             'subject_organisms': subject_organisms, 'experiment_samples': experiment_samples,\n",
    "#             'treatments': treatments\n",
    "#            }"
   ]
  },
  {
   "cell_type": "code",
   "execution_count": 21,
   "id": "a4c2a443",
   "metadata": {},
   "outputs": [],
   "source": [
    "def get_sections(ws, class_names):\n",
    "    temp = []\n",
    "    for i in range(1,ws.max_row):\n",
    "        if ws[\"A\"][i].value in class_names:\n",
    "            temp.append(i+1)\n",
    "    return temp\n",
    "\n",
    "def replace_header(dataframe):\n",
    "    dataframe.columns = dataframe.iloc[0]\n",
    "    return dataframe[1:]\n",
    "\n",
    "# def clean_df(dataframe, add_PMID = False):\n",
    "    \n",
    "#     dataframe = seroFxn.edit_df(dataframe)\n",
    "#     dataframe = dataframe.dropna(how='all',axis=0).dropna(how='all',axis=1)\n",
    "#     if add_PMID:\n",
    "#         dataframe['PMID'] = [PMID]*len(dataframe)\n",
    "#     else:\n",
    "#         pass\n",
    "    \n",
    "#     reut\n",
    "# #             df['PMID'] = [PMID]*len(df) #LIU\n",
    "# #             CAT.append(df)\n",
    "\n",
    "\n",
    "\n",
    "#     dataframe = seroFxn.edit_df(dataframe)\n",
    "#     dataframe = dataframe.dropna(how='all',axis=0).dropna(how='all',axis=1)\n",
    "#     if add_PMID:\n",
    "#         dataframe['PMID'] = [PMID]*len(dataframe)\n",
    "    \n",
    "#     return replace_header(dataframe.reset_index())\n",
    "\n",
    "def get_basic_info(ws, PMID):\n",
    "    # Class names\n",
    "    class_names = ['study', 'study_personnel', 'study_categorization', 'study_2_condition_or_disease',\n",
    "                       'arm_or_cohort', 'study_personnel', 'planned_visit',\n",
    "                       'inclusion_exclusion', 'study_2_protocol', 'study_file',\n",
    "                       'study_link','study_pubmed'\n",
    "                  ]\n",
    "\n",
    "\n",
    "\n",
    "    VARS_TO_CLEAN = ['', 'N/A', 'n/a', 'na', np.nan, None]\n",
    "    clean_other = VARS_TO_CLEAN + ['Other']\n",
    "\n",
    "    ws.delete_cols(1)  \n",
    "    sp = get_sections(ws, class_names)\n",
    "    sp.append(200)\n",
    "    \n",
    "    for section_number in range(len(sp)-1):\n",
    "        temp_wb = openpyxl.Workbook()\n",
    "        temp_ws = temp_wb.active\n",
    "\n",
    "        #making a temp workbook to store each section. This will be turned into df\n",
    "        for i in ws.iter_rows(values_only = True,\n",
    "                                    min_row = sp[section_number]+1,\n",
    "                                    max_row = sp[section_number+1]-1):\n",
    "            temp_ws.append(i)\n",
    "            \n",
    "#         max_row = temp_ws.max_row\n",
    "#         max_col = temp_ws.max_column\n",
    "        seroFxn.remove_excess(temp_ws)\n",
    "        \n",
    "        df = pd.DataFrame(temp_ws.values)\n",
    "        sub_section = ws.cell(row=sp[section_number], column = 1).value.strip()\n",
    "#         print(sub_section)\n",
    "        if sub_section == 'study':\n",
    "            df = seroFxn.edit_df(df)\n",
    "            df = df.dropna(how='all')\n",
    "            STUDY.append(df)\n",
    "            \n",
    "        elif sub_section == 'study_categorization':\n",
    "            df = seroFxn.edit_df(df)\n",
    "            df = df.dropna(how='all',axis=0).dropna(how='all',axis=1)\n",
    "            df['PMID'] = [PMID]*len(df) #LIU\n",
    "            CAT.append(df)\n",
    "            \n",
    "        elif sub_section == 'study_2_condition_or_disease':\n",
    "            df = seroFxn.edit_df(df)\n",
    "            df = df.dropna(how='all',axis=0).dropna(how='all',axis=1)\n",
    "            df['PMID'] = [PMID]*len(df)\n",
    "            COD.append(df)\n",
    "            \n",
    "        elif sub_section == 'inclusion_exclusion':\n",
    "            df = seroFxn.edit_df(df).T\n",
    "            df = df.dropna(how='all',axis=0).dropna(how='all',axis=1)\n",
    "            IE.append(replace_header(df.reset_index()))\n",
    "            \n",
    "        elif sub_section == 'arm_or_cohort':\n",
    "            df = seroFxn.edit_df(df).T\n",
    "            df = df.dropna(how='all',axis=0).dropna(how='all',axis=1)\n",
    "            AOC.append(replace_header(df.reset_index()))\n",
    "            \n",
    "        elif sub_section == 'study_personnel':\n",
    "            df = seroFxn.edit_df(df).T\n",
    "            df = df.dropna(how='all').dropna(how='all',axis=1)\n",
    "            PERSONNEL.append(replace_header(df.reset_index()))\n",
    "            \n",
    "        elif sub_section == 'planned_visit':\n",
    "            df = seroFxn.edit_df(df).T\n",
    "            df = df.dropna(how='all').dropna(how='all',axis=1)\n",
    "            PV.append(replace_header(df.reset_index()))\n",
    "            \n",
    "        elif sub_section == 'study_file':\n",
    "            df = seroFxn.edit_df(df).T\n",
    "            df = df.dropna(how='all').dropna(how='all',axis=1)\n",
    "            FILE.append(replace_header(df.reset_index()))\n",
    "            \n",
    "        elif sub_section == 'study_link':\n",
    "            df = seroFxn.edit_df(df).T\n",
    "            if df.empty:\n",
    "                pass\n",
    "            else:\n",
    "                df = df.dropna(how='all').dropna(how='all',axis=1)\n",
    "                df = replace_header(df)\n",
    "                df['PMID'] = [PMID]*len(df)\n",
    "                LINK.append(df.reset_index())\n",
    "            \n",
    "        else:\n",
    "            pass\n",
    "        \n",
    "#     return {\n",
    "#      'STUDY':STUDY,'CAT':CAT,'COD':COD,'IE':IE,'AOC':AOC,'PERSONNEL' :PERSONNEL,'PV' :PV,'FILE' :FILE, 'LINK' :LINK\n",
    "#     }\n"
   ]
  },
  {
   "cell_type": "code",
   "execution_count": 22,
   "id": "4d7acb32",
   "metadata": {},
   "outputs": [
    {
     "name": "stdout",
     "output_type": "stream",
     "text": [
      "~/Library/CloudStorage/Box-Box/SeroNet Public Data\n",
      "None\n"
     ]
    },
    {
     "ename": "TypeError",
     "evalue": "expected str, bytes or os.PathLike object, not NoneType",
     "output_type": "error",
     "traceback": [
      "\u001b[0;31m---------------------------------------------------------------------------\u001b[0m",
      "\u001b[0;31mTypeError\u001b[0m                                 Traceback (most recent call last)",
      "\u001b[0;32m/var/folders/z6/4h2s7dds6rx9wjn6fhrrgzw9wrk0b4/T/ipykernel_18957/157002033.py\u001b[0m in \u001b[0;36m<module>\u001b[0;34m\u001b[0m\n\u001b[0;32m----> 1\u001b[0;31m \u001b[0mcreate_json\u001b[0m\u001b[0;34m(\u001b[0m\u001b[0mOUT_DIR\u001b[0m\u001b[0;34m,\u001b[0m \u001b[0;34m\"35180044\"\u001b[0m\u001b[0;34m)\u001b[0m\u001b[0;34m\u001b[0m\u001b[0;34m\u001b[0m\u001b[0m\n\u001b[0m",
      "\u001b[0;32m/var/folders/z6/4h2s7dds6rx9wjn6fhrrgzw9wrk0b4/T/ipykernel_18957/3612107313.py\u001b[0m in \u001b[0;36mcreate_json\u001b[0;34m(PMID, OUT_DIR)\u001b[0m\n\u001b[1;32m      5\u001b[0m     \u001b[0mBASE_DIR\u001b[0m \u001b[0;34m=\u001b[0m \u001b[0mseroFxn\u001b[0m\u001b[0;34m.\u001b[0m\u001b[0mget_box_dir\u001b[0m\u001b[0;34m(\u001b[0m\u001b[0mbox_base\u001b[0m\u001b[0;34m,\u001b[0m \u001b[0mPMID\u001b[0m\u001b[0;34m)\u001b[0m\u001b[0;34m\u001b[0m\u001b[0;34m\u001b[0m\u001b[0m\n\u001b[1;32m      6\u001b[0m     \u001b[0mprint\u001b[0m\u001b[0;34m(\u001b[0m\u001b[0mBASE_DIR\u001b[0m\u001b[0;34m)\u001b[0m\u001b[0;34m\u001b[0m\u001b[0;34m\u001b[0m\u001b[0m\n\u001b[0;32m----> 7\u001b[0;31m     \u001b[0mdf_path\u001b[0m \u001b[0;34m=\u001b[0m \u001b[0mglob\u001b[0m\u001b[0;34m(\u001b[0m\u001b[0mos\u001b[0m\u001b[0;34m.\u001b[0m\u001b[0mpath\u001b[0m\u001b[0;34m.\u001b[0m\u001b[0mjoin\u001b[0m\u001b[0;34m(\u001b[0m\u001b[0mBASE_DIR\u001b[0m\u001b[0;34m,\u001b[0m\u001b[0;34m'templated_data'\u001b[0m\u001b[0;34m,\u001b[0m\u001b[0;34mf'PMID{PMID}_v'\u001b[0m\u001b[0;34m)\u001b[0m\u001b[0;34m)\u001b[0m\u001b[0;34m\u001b[0m\u001b[0;34m\u001b[0m\u001b[0m\n\u001b[0m\u001b[1;32m      8\u001b[0m     \u001b[0mdf_path\u001b[0m\u001b[0;34m.\u001b[0m\u001b[0msort\u001b[0m\u001b[0;34m(\u001b[0m\u001b[0;34m)\u001b[0m\u001b[0;34m\u001b[0m\u001b[0;34m\u001b[0m\u001b[0m\n\u001b[1;32m      9\u001b[0m     \u001b[0mdf_path\u001b[0m \u001b[0;34m=\u001b[0m \u001b[0mdf_path\u001b[0m\u001b[0;34m[\u001b[0m\u001b[0;36m0\u001b[0m\u001b[0;34m]\u001b[0m\u001b[0;34m\u001b[0m\u001b[0;34m\u001b[0m\u001b[0m\n",
      "\u001b[0;32m~/opt/anaconda3/lib/python3.9/posixpath.py\u001b[0m in \u001b[0;36mjoin\u001b[0;34m(a, *p)\u001b[0m\n\u001b[1;32m     74\u001b[0m     \u001b[0mwill\u001b[0m \u001b[0mbe\u001b[0m \u001b[0mdiscarded\u001b[0m\u001b[0;34m.\u001b[0m  \u001b[0mAn\u001b[0m \u001b[0mempty\u001b[0m \u001b[0mlast\u001b[0m \u001b[0mpart\u001b[0m \u001b[0mwill\u001b[0m \u001b[0mresult\u001b[0m \u001b[0;32min\u001b[0m \u001b[0ma\u001b[0m \u001b[0mpath\u001b[0m \u001b[0mthat\u001b[0m\u001b[0;34m\u001b[0m\u001b[0;34m\u001b[0m\u001b[0m\n\u001b[1;32m     75\u001b[0m     ends with a separator.\"\"\"\n\u001b[0;32m---> 76\u001b[0;31m     \u001b[0ma\u001b[0m \u001b[0;34m=\u001b[0m \u001b[0mos\u001b[0m\u001b[0;34m.\u001b[0m\u001b[0mfspath\u001b[0m\u001b[0;34m(\u001b[0m\u001b[0ma\u001b[0m\u001b[0;34m)\u001b[0m\u001b[0;34m\u001b[0m\u001b[0;34m\u001b[0m\u001b[0m\n\u001b[0m\u001b[1;32m     77\u001b[0m     \u001b[0msep\u001b[0m \u001b[0;34m=\u001b[0m \u001b[0m_get_sep\u001b[0m\u001b[0;34m(\u001b[0m\u001b[0ma\u001b[0m\u001b[0;34m)\u001b[0m\u001b[0;34m\u001b[0m\u001b[0;34m\u001b[0m\u001b[0m\n\u001b[1;32m     78\u001b[0m     \u001b[0mpath\u001b[0m \u001b[0;34m=\u001b[0m \u001b[0ma\u001b[0m\u001b[0;34m\u001b[0m\u001b[0;34m\u001b[0m\u001b[0m\n",
      "\u001b[0;31mTypeError\u001b[0m: expected str, bytes or os.PathLike object, not NoneType"
     ]
    }
   ],
   "source": [
    "create_json(OUT_DIR, \"35180044\")"
   ]
  },
  {
   "cell_type": "code",
   "execution_count": 6,
   "id": "0530eee0",
   "metadata": {},
   "outputs": [
    {
     "name": "stderr",
     "output_type": "stream",
     "text": [
      "100%|██████████████████████████████████████████████████████████████████████████████████████████████████| 24/24 [00:03<00:00,  7.94it/s]\n"
     ]
    }
   ],
   "source": [
    "#templates excluding study\n",
    "basic_stdy_templates = []\n",
    "protocols = []\n",
    "experiments = []\n",
    "reagents = []\n",
    "assessments = []\n",
    "subject_humans = []\n",
    "subject_organisms = []\n",
    "experiment_samples = []\n",
    "treatments = []\n",
    "\n",
    "for PMID in tqdm(PMID_LIST):\n",
    "    PMID = str(PMID)\n",
    "    get_all_files(PMID)\n",
    "\n",
    "# basic_stdy_template_report = []\n",
    "protocols_report = pd.concat(protocols)\n",
    "reagent_report = pd.concat(reagents)\n",
    "assessment_report = pd.concat(assessments)\n",
    "subject_human_report = pd.concat(subject_humans)\n",
    "subject_organism_report = pd.concat(subject_organisms)\n",
    "experiment_sample_report = pd.concat(experiment_samples)\n",
    "treatment_report = pd.concat(treatments)    "
   ]
  },
  {
   "cell_type": "code",
   "execution_count": 7,
   "id": "015a91aa",
   "metadata": {
    "scrolled": true
   },
   "outputs": [
    {
     "name": "stderr",
     "output_type": "stream",
     "text": [
      "100%|██████████████████████████████████████████████████████████████████████████████████████████████████| 24/24 [00:01<00:00, 12.19it/s]\n"
     ]
    }
   ],
   "source": [
    "#study split\n",
    "STUDY  = []\n",
    "CAT = []\n",
    "COD = []\n",
    "IE = []\n",
    "AOC = []\n",
    "PERSONNEL = []\n",
    "PV = []\n",
    "FILE = []\n",
    "LINK = []\n",
    "\n",
    "for basic_path in tqdm(basic_stdy_templates):\n",
    "    basic_wb = openpyxl.Workbook()\n",
    "    basic_ws = basic_wb.active\n",
    "\n",
    "    for r in dataframe_to_rows(pd.read_csv(basic_path, sep='\\t',header=None)):\n",
    "        basic_ws.append(r)\n",
    "\n",
    "    get_basic_info(basic_ws, re.findall(r'\\d{8}',basic_path)[0])"
   ]
  },
  {
   "cell_type": "code",
   "execution_count": 8,
   "id": "4e010048",
   "metadata": {},
   "outputs": [],
   "source": [
    "# basic_stdy_template_report = []\n",
    "\n",
    "protocols_report = pd.concat(protocols).reset_index(drop=True)\n",
    "reagent_report = pd.concat(reagents).reset_index(drop=True)\n",
    "assessment_report = pd.concat(assessments).reset_index(drop=True)\n",
    "subject_human_report = pd.concat(subject_humans).reset_index(drop=True)\n",
    "subject_organism_report = pd.concat(subject_organisms).reset_index(drop=True)\n",
    "experiment_sample_report = pd.concat(experiment_samples).reset_index(drop=True)\n",
    "treatment_report = pd.concat(treatments).reset_index(drop=True)\n",
    "\n",
    "STUDY_report = pd.concat(STUDY).dropna(axis=1,how='all').reset_index(drop=True)\n",
    "COD_report = pd.concat(COD).reset_index(drop=True)\n",
    "CAT_report = pd.concat(CAT).reset_index(drop=True)\n",
    "IE_report = pd.concat(IE).reset_index(drop=True)\n",
    "AOC_report = pd.concat(AOC).reset_index(drop=True)\n",
    "PERSONNEL_report = pd.concat(PERSONNEL).reset_index(drop=True)\n",
    "PV_report = pd.concat(PV).reset_index(drop=True)\n",
    "FILE_report = pd.concat(FILE).reset_index(drop=True)\n",
    "LINK_report = pd.concat(LINK).reset_index(drop=True)\n",
    "LINK_report.columns = ['Name','Value','PMID']"
   ]
  },
  {
   "cell_type": "code",
   "execution_count": 15,
   "id": "dc4bf99e",
   "metadata": {},
   "outputs": [
    {
     "data": {
      "text/plain": [
       "0     United States of America\n",
       "1     United States of America\n",
       "2                 US: New York\n",
       "3                 US: New York\n",
       "4                 US: New York\n",
       "5                     Thailand\n",
       "6                     Thailand\n",
       "7                     Thailand\n",
       "8                     Thailand\n",
       "9                     Thailand\n",
       "10                    Thailand\n",
       "11             US: Connecticut\n",
       "12             US: Connecticut\n",
       "13                      Israel\n",
       "14                      Israel\n",
       "15                      Israel\n",
       "16                      Israel\n",
       "17                      Israel\n",
       "18                      Israel\n",
       "19                US: Maryland\n",
       "20                US: Maryland\n",
       "21                US: Maryland\n",
       "22                US: Maryland\n",
       "23                US: Maryland\n",
       "24                    US: Ohio\n",
       "25                    US: Ohio\n",
       "26                    US: Ohio\n",
       "27                    US: Ohio\n",
       "28                    US: Ohio\n",
       "29              US: California\n",
       "30              US: California\n",
       "31    US: District of Columbia\n",
       "32              US: California\n",
       "33              US: California\n",
       "34              US: California\n",
       "35              US: California\n",
       "36              US: California\n",
       "37    United States of America\n",
       "38          US: North Carolina\n",
       "39          US: North Carolina\n",
       "40    United States of America\n",
       "41                       Other\n",
       "42                       Other\n",
       "43              US: Washington\n",
       "44              US: Washington\n",
       "45                       China\n",
       "Name: Subject Location, dtype: object"
      ]
     },
     "execution_count": 15,
     "metadata": {},
     "output_type": "execute_result"
    }
   ],
   "source": [
    "subject_human_report['Subject Location']"
   ]
  },
  {
   "cell_type": "code",
   "execution_count": 10,
   "id": "782af829",
   "metadata": {},
   "outputs": [
    {
     "data": {
      "text/plain": [
       "Index(['Column Name', 'Subject ID', 'Arm Or Cohort ID', 'Gender',\n",
       "       'Min Subject Age', 'Max Subject Age', 'Age Unit', 'Age Event',\n",
       "       'Age Event Specify', 'Subject Phenotype', 'Subject Location',\n",
       "       'Ethnicity', 'Race', 'Race Specify', 'Description',\n",
       "       'Result Separator Column', 'Exposure Process Reported',\n",
       "       'Exposure Material Reported', 'Exposure Material ID',\n",
       "       'Disease Reported', 'Disease Ontology ID', 'Disease Stage Reported'],\n",
       "      dtype='object')"
      ]
     },
     "execution_count": 10,
     "metadata": {},
     "output_type": "execute_result"
    }
   ],
   "source": [
    "subject_human_report.columns"
   ]
  },
  {
   "cell_type": "code",
   "execution_count": 10,
   "id": "52e65db5",
   "metadata": {},
   "outputs": [],
   "source": [
    "# os.mkdir(\"./DR46/database_report/\")"
   ]
  },
  {
   "cell_type": "code",
   "execution_count": 11,
   "id": "a079cbd6",
   "metadata": {},
   "outputs": [],
   "source": [
    "protocols_report.to_csv('./DR46/database_report/protocols_report.csv')\n",
    "reagent_report.to_csv('./DR46/database_report/reagent_report.csv')\n",
    "assessment_report.to_csv('./DR46/database_report/assessment_report.csv')\n",
    "subject_human_report.to_csv('./DR46/database_report/subject_human_report.csv')\n",
    "subject_organism_report.to_csv('./DR46/database_report/subject_organism_report.csv')\n",
    "experiment_sample_report.to_csv('./DR46/database_report/experiment_sample_report.csv')\n",
    "treatment_report.to_csv('./DR46/database_report/treatment_report.csv')\n",
    "STUDY_report.to_csv('./DR46/database_report/STUDY_report.csv')\n",
    "COD_report.to_csv('./DR46/database_report/COD_report.csv')\n",
    "CAT_report.to_csv('./DR46/database_report/CAT_report.csv')\n",
    "IE_report.to_csv('./DR46/database_report/IE_report.csv')\n",
    "AOC_report.to_csv('./DR46/database_report/AOC_report.csv')\n",
    "PERSONNEL_report.to_csv('./DR46/database_report/PERSONNEL_report.csv')\n",
    "PV_report.to_csv('./DR46/database_report/PV_report.csv')\n",
    "FILE_report.to_csv('./DR46/database_report/FILE_report.csv')\n",
    "LINK_report.to_csv('./DR46/database_report/LINK_report.csv')"
   ]
  },
  {
   "cell_type": "code",
   "execution_count": 12,
   "id": "ced6de84",
   "metadata": {},
   "outputs": [
    {
     "data": {
      "text/plain": [
       "Counter({'Multiplex Bead Array Assay': 2,\n",
       "         'ELISA': 296,\n",
       "         'Flow Cytometry': 51,\n",
       "         'Neutralizing Antibody Titer Assay': 26,\n",
       "         'Chemiluminescent Assay': 22,\n",
       "         'Pseudovirus Neutralization Assay': 59,\n",
       "         'ELISPOT': 25,\n",
       "         'Microscopy': 18,\n",
       "         'RNA Sequencing': 4,\n",
       "         'PCR': 143,\n",
       "         'Multiplex Immunoassay': 11,\n",
       "         'T cell receptor repertoire sequencing assay': 8,\n",
       "         'Immunohistochemistry': 8,\n",
       "         'Western Blot': 2,\n",
       "         'Lateral Flow Assay': 20})"
      ]
     },
     "execution_count": 12,
     "metadata": {},
     "output_type": "execute_result"
    }
   ],
   "source": [
    "from collections import Counter \n",
    "Counter(experiment_sample_report['Experiment Name'])"
   ]
  },
  {
   "cell_type": "code",
   "execution_count": null,
   "id": "258a1ebe",
   "metadata": {},
   "outputs": [],
   "source": []
  }
 ],
 "metadata": {
  "kernelspec": {
   "display_name": "Python 3 (ipykernel)",
   "language": "python",
   "name": "python3"
  },
  "language_info": {
   "codemirror_mode": {
    "name": "ipython",
    "version": 3
   },
   "file_extension": ".py",
   "mimetype": "text/x-python",
   "name": "python",
   "nbconvert_exporter": "python",
   "pygments_lexer": "ipython3",
   "version": "3.9.13"
  }
 },
 "nbformat": 4,
 "nbformat_minor": 5
}
