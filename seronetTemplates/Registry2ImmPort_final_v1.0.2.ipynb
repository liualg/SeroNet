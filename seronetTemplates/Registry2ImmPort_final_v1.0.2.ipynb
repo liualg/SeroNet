{
 "cells": [
  {
   "cell_type": "markdown",
   "id": "1ee11f00",
   "metadata": {},
   "source": [
    "This script is compatibale with Registy Version v.1.0.2"
   ]
  },
  {
   "cell_type": "code",
   "execution_count": 1,
   "id": "f7c7dc41",
   "metadata": {},
   "outputs": [],
   "source": [
    "import pandas as pd\n",
    "import numpy as np\n",
    "import os, shutil\n",
    "import inspect\n",
    "\n",
    "from tqdm import tqdm\n",
    "\n",
    "from dataclasses import dataclass, field\n",
    "import openpyxl\n",
    "from openpyxl import load_workbook, Workbook\n",
    "from openpyxl.utils.dataframe import dataframe_to_rows\n",
    "\n",
    "## Importing Functions and Dataclass\n",
    "import seronetDataclass_v2 as seroClass\n",
    "import seronetFunctions as seroFxn\n",
    "\n",
    "warnings = 0\n",
    "warn = 0\n"
   ]
  },
  {
   "cell_type": "code",
   "execution_count": 2,
   "id": "593bb1da",
   "metadata": {},
   "outputs": [
    {
     "name": "stdout",
     "output_type": "stream",
     "text": [
      "Will not create directory - already exists\n"
     ]
    },
    {
     "name": "stderr",
     "output_type": "stream",
     "text": [
      "/Users/liualg/opt/anaconda3/lib/python3.8/site-packages/openpyxl/worksheet/_reader.py:312: UserWarning: Data Validation extension is not supported and will be removed\n",
      "  warn(msg)\n"
     ]
    }
   ],
   "source": [
    "#FILLOUT THIS SECTION\n",
    "# PMID = \"33184236\"\n",
    "# PMID = \"34270939\"\n",
    "PMID = \"34431693\"\n",
    "\n",
    "# Registry\n",
    "sheet_name = 'SeroNet Registry Template'\n",
    "map_sheet = 'Registry Definitions'\n",
    "\n",
    "\n",
    "box_base = \"~/Library/CloudStorage/Box-Box/SeroNet Public Data\"\n",
    "\n",
    "\n",
    "#File Paths\n",
    "BASE_DIR = seroFxn.get_box_dir(box_base, PMID)\n",
    "\n",
    "\n",
    "file = f\"PMID{PMID}_registry\" \n",
    "df_path = os.path.join(BASE_DIR,'templated_data', file + \".xlsm\")\n",
    "df_path = os.path.join(BASE_DIR,'templated_data', \"PMID34431693_registry.xlsm\")\n",
    "\n",
    "# dictionary info\n",
    "registryToImmportDict_file = os.path.join(\"dictionary\", \"registryToBasic.csv\")\n",
    "\n",
    "registryToImmportDict = pd.read_csv(registryToImmportDict_file,\n",
    "                                    header=None, \n",
    "                                    index_col=0, \n",
    "                                    squeeze=True).to_dict()\n",
    "\n",
    "# ImmPort Templates (link to web?)\n",
    "PATH_basic_stdy_template = os.path.join(\"template\", \"basic_study_design.xlsx\")\n",
    "PATH_protocols = os.path.join(\"template\", \"protocols.xlsx\")\n",
    "PATH_experiments = os.path.join(\"template\", \"experiments.xlsx\")\n",
    "PATH_reagent = os.path.join(\"template\", \"reagents.Other.xlsx\")\n",
    "PATH_assessment = os.path.join(\"template\", \"assessments.xlsx\")\n",
    "PATH_subject_human = os.path.join(\"template\", \"subjectHuman.xlsx\")\n",
    "PATH_subject_organism = os.path.join(\"template\", \"subjectAnimals.xlsx\")\n",
    "\n",
    "\n",
    "# Automate output... \n",
    "OUT_DIR = os.path.join(BASE_DIR, 'ImmPort_templates') \n",
    "# OUT_DIR = './33184236_test/'\n",
    "PATH_pmid_basic_stdy_template = f'PMID{PMID}_study.xlsx'\n",
    "\n",
    "BASIC_STUDY_TEMPLATE = f'PMID{PMID}_basic'\n",
    "EXP_TEMPLATE = f'PMID{PMID}_experiments'\n",
    "PROTOCOL_TEMPLATE = f'PMID{PMID}_protocol'\n",
    "REAGENT_TEMPLATE = f'PMID{PMID}_reagent'\n",
    "ASSESSMENT_TEMPLATE =  f'PMID{PMID}_assessment'\n",
    "SUBJ_HUMAN_TEMPLATE =  f'PMID{PMID}_subject_human'\n",
    "SUBJ_ORGANISM_TEMPLATE =  f'PMID{PMID}_subject_organism'\n",
    "\n",
    "# Make Dir if it does not exist\n",
    "try:\n",
    "    os.mkdir(OUT_DIR)\n",
    "    print(f'Creating output directory - {OUT_DIR}')\n",
    "except FileExistsError:\n",
    "    print('Will not create directory - already exists')\n",
    "    pass\n",
    "\n",
    "# import file\n",
    "book = load_workbook(df_path)\n",
    "registry = book[sheet_name]\n",
    "registry.delete_cols(1)\n"
   ]
  },
  {
   "cell_type": "code",
   "execution_count": 3,
   "id": "6712eb94",
   "metadata": {},
   "outputs": [],
   "source": [
    "# Class names\n",
    "class_names = ['study_pubmed', 'study', 'study_personnel', 'study_file',\n",
    "               'study_link', 'study_categorization', 'study_design',\n",
    "               'protocol', 'condition_or_disease', 'Intervention Agent',\n",
    "               'study_details', 'inclusion_exclusion',\n",
    "               'Subject Type: human', 'Subject Type: model organism', 'planned_visit',\n",
    "               'Study Experiments', 'Study Experiment Samples', 'Reagent', \n",
    "               'Results for Serology Assays'\n",
    "              ]"
   ]
  },
  {
   "cell_type": "code",
   "execution_count": 4,
   "id": "8a612c0a",
   "metadata": {},
   "outputs": [],
   "source": [
    "sp = seroFxn.get_sections(registry, class_names)"
   ]
  },
  {
   "cell_type": "markdown",
   "id": "2e49dcce",
   "metadata": {},
   "source": [
    "### Main Loop"
   ]
  },
  {
   "cell_type": "code",
   "execution_count": 5,
   "id": "e8d26929",
   "metadata": {},
   "outputs": [],
   "source": [
    "# Looping through each section in the Registy template\n",
    "for section_number in range(len(sp)-1):\n",
    "    temp_wb = Workbook()\n",
    "    temp_ws = temp_wb.active\n",
    "\n",
    "    #making a temp workbook to store each section. This will be turned into df\n",
    "    for i in registry.iter_rows(values_only = True,\n",
    "                                min_row = sp[section_number]+1,\n",
    "                                max_row = sp[section_number+1]-1):\n",
    "        temp_ws.append(i)\n",
    "        \n",
    "    max_row = temp_ws.max_row\n",
    "    max_col = temp_ws.max_column\n",
    "    seroFxn.remove_excess(temp_ws)\n",
    "    \n",
    "    df = pd.DataFrame(temp_ws.values)\n",
    "    sub_section = registry.cell(row=sp[section_number], column = 1).value.strip()\n",
    "    \n",
    "    if sub_section == 'study':\n",
    "        df = seroFxn.edit_df(df)\n",
    "        \n",
    "        STUDY = seroClass.study(\n",
    "            df['Study Identifier'][1],\n",
    "            df['Study Name'][1],\n",
    "            df['Publication Title'][1],\n",
    "            df['Study Objective'][1],\n",
    "            df['Study Description'][1],\n",
    "            df['Primary Institution Name'][1]\n",
    "            )\n",
    "    \n",
    "    elif sub_section == 'study_pubmed':\n",
    "        df = seroFxn.edit_df(df)\n",
    "        \n",
    "        STUDY_PUBMED = seroClass.study_pubmed(\n",
    "            df['Pubmed ID'][1]\n",
    "        )\n",
    "        \n",
    "    elif sub_section == 'study_personnel':\n",
    "        df = seroFxn.edit_df(df)\n",
    "\n",
    "        STUDY_PERSONNEL = seroClass.study_personnel(\n",
    "            df['Personnel ID'],\n",
    "            df['Honorific'],\n",
    "            df['Last Name'],\n",
    "            df['First Name'],\n",
    "            df['Suffixes'],\n",
    "            df['Organization'],\n",
    "            df['ORCID ID'],\n",
    "            df['Email'],\n",
    "            df['Title In Study'],\n",
    "            df['Role In Study'],\n",
    "            df['Site Name']\n",
    "        )\n",
    "\n",
    "\n",
    "    elif sub_section == 'study_file':\n",
    "        df = seroFxn.edit_df(df)\n",
    "\n",
    "        STUDY_FILE = seroClass.study_file(\n",
    "            df['Study File Name'],\n",
    "            df['Study File Description'],\n",
    "            df['Study File Type']  \n",
    "        )\n",
    "        \n",
    "    \n",
    "    elif sub_section == 'study_link':\n",
    "        df = seroFxn.edit_df(df)\n",
    "\n",
    "        STUDY_LINK = seroClass.study_link(\n",
    "            df['Link Name'],\n",
    "            df['Value']\n",
    "        )\n",
    "             \n",
    "        \n",
    "    elif sub_section == 'study_categorization':\n",
    "        df = seroFxn.edit_df(df)\n",
    "\n",
    "        STUDY_CATEGORIZATION = seroClass.study_categorization(\n",
    "            df['Research Focus*'][1],\n",
    "            df['Study Type'][1],\n",
    "            df['Keywords'][1],\n",
    "        )\n",
    "    \n",
    "    elif sub_section == 'study_design':\n",
    "        df = seroFxn.edit_df(df)\n",
    "\n",
    "        if (df.shape != (2,0)): # checking size. There has to be a better way to do this\n",
    "\n",
    "            STUDY_DESIGN = seroClass.study_design(\n",
    "                df['Clinical Study Design'],\n",
    "                df['in silico Model Type*']\n",
    "            )\n",
    "        else:\n",
    "            study_des = study_design()\n",
    "\n",
    "    elif sub_section == 'protocol':\n",
    "        df = seroFxn.edit_df(df)\n",
    "\n",
    "        PROTOCOLS = seroClass.protocols(\n",
    "            df['Protocol ID'],\n",
    "            df['Protocol File Name'],\n",
    "            df['Protocol Name'],\n",
    "            df['Protocol Description'],\n",
    "            df['Protocol Type'],\n",
    "        )\n",
    "        \n",
    "    elif sub_section == 'condition_or_disease':\n",
    "        df = seroFxn.edit_df(df)\n",
    "\n",
    "        COD = seroClass.condition_or_disease(\n",
    "            list(df['Reported Health Condition* '])\n",
    "        )\n",
    "        \n",
    "    elif sub_section == 'Intervention Agent':\n",
    "        df = seroFxn.edit_df(df)\n",
    "\n",
    "        INTERVENTION_AGENT = seroClass.Intervention_Agent(\n",
    "            list(df['SARS-CoV-2 Vaccine Type*'])  ### IF THIS IS NOTHING, change to 'NA'\n",
    "        )\n",
    "\n",
    "    elif sub_section == 'study_details':\n",
    "        df = seroFxn.edit_df(df)\n",
    "        STUDY_DETAILS = seroClass.study_details(\n",
    "            df['Clinical Outcome Measure'][1],\n",
    "            df['Enrollment Start Date'][1],\n",
    "            df['Enrollment End Date'][1],\n",
    "            df['Number of Study Subjects'][1],\n",
    "            df['Age Unit'][1],\n",
    "            df['Minimum Age'][1],\n",
    "            df['Maximum Age'][1]\n",
    "            )\n",
    "\n",
    "    elif sub_section == 'inclusion_exclusion':\n",
    "        df = seroFxn.edit_df(df)\n",
    "\n",
    "        INCLUSION_EXCLUSION = seroClass.inclusion_exclusion(\n",
    "            df['Inclusion ID'],\n",
    "            df['Inclusion Criterion'],\n",
    "            df['Inclusion Criterion Category']  \n",
    "        )\n",
    "        \n",
    "    elif sub_section == 'Subject Type: human':\n",
    "        df = seroFxn.edit_df(df)\n",
    "        tem_was_here = df\n",
    "\n",
    "        SUBJECT_HUMAN = seroClass.subject_type_human(\n",
    "            df['Arm ID'],\n",
    "            df['Arm Name'],\n",
    "            df['Study Population Description'],\n",
    "            df['Arm Type'],\n",
    "            df['Ethnicity*'],\n",
    "            df['Race*'],\n",
    "            df['Race Specify'],\n",
    "            df['Description'],\n",
    "            df['Sex at Birth*'],\n",
    "            df['Age Event'],\n",
    "            df['Subject Phenotype'],\n",
    "            df['Study Location*'],\n",
    "            df['Assessment Name'],\n",
    "            df['Measured Behavioral or Psychological Factor*'],\n",
    "            df['Measured Social Factor*'],\n",
    "            df['SARS-CoV-2 Symptoms*'],\n",
    "            df['Assessment_Clinical  and Demographic Data Provenance'],\n",
    "            df['Assessment_Demographic Data Types Collected'],\n",
    "            df['SARS-CoV2 History*'],\n",
    "            df['SARS-CoV-2 Vaccine Type*'],\n",
    "            df['COVID-19 Disease Severity*']\n",
    "            )\n",
    "\n",
    "    elif sub_section == 'Subject Type: model organism':\n",
    "        df = seroFxn.edit_df(df)\n",
    "\n",
    "        SUBJECT_ORGANISM = seroClass.subject_type_mode_organism(\n",
    "            df['Arm ID'],\n",
    "            df['Arm Name'],\n",
    "            df['Study Population Description'],\n",
    "            df['Arm Type'],\n",
    "            df['Species'],\n",
    "            df['Biosample Type'],\n",
    "            df['Strain Characteristics'],\n",
    "            df['Sex at Birth*'],\n",
    "            df['Age Event'],\n",
    "            df['Subject Phenotype'],\n",
    "            df['Study Location*'],\n",
    "            df['SARS-CoV2 History*'],\n",
    "            df['SARS-CoV-2 Vaccine Type*'],\n",
    "            df['COVID-19 Disease Severity*']\n",
    "            )\n",
    "    \n",
    "    elif sub_section == 'planned_visit':\n",
    "        df = seroFxn.edit_df(df)\n",
    "\n",
    "        PLANNED_VISIT = seroClass.planned_visit(\n",
    "            df['Visit ID'],\n",
    "            df['Visit Name'],\n",
    "            df['Visit Order Number'],\n",
    "            df['Visit Min Start Day'],\n",
    "            df['Visit Max Start Day'],\n",
    "            df['Visit Start Rule']                                \n",
    "    )\n",
    "    \n",
    "    elif sub_section == 'Study Experiment Samples':\n",
    "        df = seroFxn.edit_df(df)\n",
    "\n",
    "        EXPERIMENT_SAMPLES = seroClass.study_experiment_samples(\n",
    "            df['Expt Sample User Defined ID'],\n",
    "            df['Biospecimen Type*'],\n",
    "            df['Biospecimen Collection Point*']                             \n",
    "    )\n",
    "    \n",
    "    elif sub_section == 'Study Experiments':\n",
    "        df = seroFxn.edit_df(df)\n",
    "\n",
    "        STUDY_EXPERIMENTS = seroClass.study_experiment(\n",
    "            df['Experiment ID'],\n",
    "            df['Experiment Name'],\n",
    "            df['Assay Type'],\n",
    "            df['Experiment Results File Name']\n",
    "    )\n",
    "        \n",
    "    elif sub_section == 'Reagent':\n",
    "        df = seroFxn.edit_df(df)\n",
    "\n",
    "        REAGENTS = seroClass.reagent_per_experiment(\n",
    "            df['Reagent ID'],\n",
    "            df['SARS-CoV-2 Antigen'],\n",
    "            df['Assay Use'],\n",
    "            df['Manufacturer'],\n",
    "            df['Catalog #']\n",
    "    )  \n",
    "        \n",
    "    elif sub_section == 'Results for Serology Assays':\n",
    "        df = seroFxn.edit_df(df)\n",
    "\n",
    "        RESULTS = seroClass.results(\n",
    "            df['Virus Target'],\n",
    "            df['Antibody Isotype'],\n",
    "            df['Reporting Units'],\n",
    "            df['Assay Reporting Format']\n",
    "    )  \n",
    "        \n",
    "    else:\n",
    "        print(sub_section, ': does not exist')\n"
   ]
  },
  {
   "cell_type": "code",
   "execution_count": 6,
   "id": "29bea2f8",
   "metadata": {},
   "outputs": [
    {
     "data": {
      "text/plain": [
       "study_file(File_Name=1    msphere.00275-21-st001.docx\n",
       "2    msphere.00275-21-st002.docx\n",
       "3    msphere.00275-21-st002.docx\n",
       "Name: Study File Name, dtype: object, Description=['Table S1', 'Table S2', 'Table S3'], Study_File_Type=1    Study Data\n",
       "2    Study Data\n",
       "3    Study Data\n",
       "Name: Study File Type, dtype: object, ImmPortNAME='study_file')"
      ]
     },
     "execution_count": 6,
     "metadata": {},
     "output_type": "execute_result"
    }
   ],
   "source": [
    "STUDY_FILE"
   ]
  },
  {
   "cell_type": "code",
   "execution_count": 8,
   "id": "eb032524",
   "metadata": {},
   "outputs": [
    {
     "data": {
      "text/plain": [
       "'2022_03_25-41'"
      ]
     },
     "execution_count": 8,
     "metadata": {},
     "output_type": "execute_result"
    }
   ],
   "source": [
    "import datetime as dt \n",
    "dt.datetime.today().strftime('%Y_%m_%d-%S')"
   ]
  },
  {
   "cell_type": "code",
   "execution_count": 8,
   "id": "f7df8d67",
   "metadata": {},
   "outputs": [
    {
     "data": {
      "text/plain": [
       "1    msphere.00275-21-st001.docx\n",
       "2    msphere.00275-21-st002.docx\n",
       "3    msphere.00275-21-st002.docx\n",
       "Name: Study File Name, dtype: object"
      ]
     },
     "execution_count": 8,
     "metadata": {},
     "output_type": "execute_result"
    }
   ],
   "source": [
    "STUDY_FILE.File_Name"
   ]
  },
  {
   "cell_type": "code",
   "execution_count": 8,
   "id": "6f6b2eed",
   "metadata": {},
   "outputs": [
    {
     "name": "stdout",
     "output_type": "stream",
     "text": [
      "False\n"
     ]
    },
    {
     "ename": "TypeError",
     "evalue": "__bool__ should return bool, returned NoneType",
     "output_type": "error",
     "traceback": [
      "\u001b[0;31m---------------------------------------------------------------------------\u001b[0m",
      "\u001b[0;31mTypeError\u001b[0m                                 Traceback (most recent call last)",
      "\u001b[0;32m<ipython-input-8-926bdf73707f>\u001b[0m in \u001b[0;36m<module>\u001b[0;34m\u001b[0m\n\u001b[0;32m----> 1\u001b[0;31m \u001b[0;32mif\u001b[0m \u001b[0mSTUDY_FILE\u001b[0m\u001b[0;34m:\u001b[0m\u001b[0;34m\u001b[0m\u001b[0;34m\u001b[0m\u001b[0m\n\u001b[0m\u001b[1;32m      2\u001b[0m     \u001b[0mprint\u001b[0m\u001b[0;34m(\u001b[0m\u001b[0;34m\"asdas\"\u001b[0m\u001b[0;34m)\u001b[0m\u001b[0;34m\u001b[0m\u001b[0;34m\u001b[0m\u001b[0m\n",
      "\u001b[0;31mTypeError\u001b[0m: __bool__ should return bool, returned NoneType"
     ]
    }
   ],
   "source": [
    "if STUDY_FILE:\n",
    "    print(\"asdas\")"
   ]
  },
  {
   "cell_type": "code",
   "execution_count": 9,
   "id": "fdbe2e59",
   "metadata": {
    "collapsed": true
   },
   "outputs": [
    {
     "ename": "SystemExit",
     "evalue": "Error message",
     "output_type": "error",
     "traceback": [
      "An exception has occurred, use %tb to see the full traceback.\n",
      "\u001b[0;31mSystemExit\u001b[0m\u001b[0;31m:\u001b[0m Error message\n"
     ]
    },
    {
     "name": "stderr",
     "output_type": "stream",
     "text": [
      "/Users/liualg/opt/anaconda3/lib/python3.8/site-packages/IPython/core/interactiveshell.py:3445: UserWarning: To exit: use 'exit', 'quit', or Ctrl-D.\n",
      "  warn(\"To exit: use 'exit', 'quit', or Ctrl-D.\", stacklevel=1)\n"
     ]
    }
   ],
   "source": [
    "import sys\n",
    "sys.exit(\"Error message\")"
   ]
  },
  {
   "cell_type": "markdown",
   "id": "b28c5eea",
   "metadata": {},
   "source": [
    "# Sending back to ImmPort Template #"
   ]
  },
  {
   "cell_type": "code",
   "execution_count": null,
   "id": "cb6b0b34",
   "metadata": {},
   "outputs": [],
   "source": [
    "ImmPortClassNames = ['study', 'study_categorization', 'study_2_condition_or_disease',\n",
    "               'arm_or_cohort','study_personnel', 'planned_visit', 'inclusion_exclusion',\n",
    "               'study_2_protocol', 'study_file', 'study_link', 'study_pubmed'] "
   ]
  },
  {
   "cell_type": "code",
   "execution_count": null,
   "id": "c253d290",
   "metadata": {},
   "outputs": [],
   "source": [
    "shutil.copy(PATH_basic_stdy_template, PATH_pmid_basic_stdy_template)\n",
    "basic_stdy_template = load_workbook(PATH_pmid_basic_stdy_template)\n",
    "bst_ws = basic_stdy_template['basic_study_design.txt']\n",
    "\n",
    "se = seroFxn.get_sections(bst_ws, ImmPortClassNames)\n"
   ]
  },
  {
   "cell_type": "markdown",
   "id": "bd20d6b7",
   "metadata": {},
   "source": [
    "# Basic Study Template"
   ]
  },
  {
   "cell_type": "code",
   "execution_count": null,
   "id": "c4e72fde",
   "metadata": {},
   "outputs": [],
   "source": [
    "if len(SUBJECT_HUMAN.SARS_CoV_2_Vaccine_Type) + len(SUBJECT_ORGANISM.SARS_CoV_2_Vaccine_Type):\n",
    "    \n",
    "    vaccine_type = list(set([i.split(';')[0] for i in SUBJECT_HUMAN.SARS_CoV_2_Vaccine_Type] + [i.split(';')[0] for i in SUBJECT_ORGANISM.SARS_CoV_2_Vaccine_Type]))\n",
    "    \n",
    "elif len(SUBJECT_HUMAN.SARS_CoV_2_Vaccine_Type):\n",
    "    \n",
    "    vaccine_type = list(set([i.split(';')[0] for i in SUBJECT_HUMAN.SARS_CoV_2_Vaccine_Type]))\n",
    "                            \n",
    "elif len(SUBJECT_ORGANISM.SARS_CoV_2_Vaccine_Type):\n",
    "    \n",
    "    vaccine_type = list(set([i.split(';')[0] for i in SUBJECT_ORGANISM.SARS_CoV_2_Vaccine_Type]))\n",
    "    \n",
    "else:\n",
    "    \n",
    "    vaccine_type = []"
   ]
  },
  {
   "cell_type": "code",
   "execution_count": null,
   "id": "f609861c",
   "metadata": {},
   "outputs": [],
   "source": [
    "if SUBJECT_HUMAN and SUBJECT_ORGANISM:\n",
    "    print('Both human and model organism are used')\n",
    "    usr_id = list(SUBJECT_HUMAN.User_Defined_ID) + list(SUBJECT_ORGANISM.User_Defined_ID)\n",
    "    name = list(SUBJECT_HUMAN.Name) + list(SUBJECT_ORGANISM.Name)\n",
    "    description = list(SUBJECT_HUMAN.Description) + list(SUBJECT_ORGANISM.Description)\n",
    "    type_report = list(SUBJECT_HUMAN.Type_Reported) + list(SUBJECT_ORGANISM.Type_Reported)\n",
    "    \n",
    "if SUBJECT_HUMAN and not SUBJECT_ORGANISM:\n",
    "    print('Only human is used')\n",
    "    usr_id = list(SUBJECT_HUMAN.User_Defined_ID)\n",
    "    name = list(SUBJECT_HUMAN.Name)\n",
    "    description = list(SUBJECT_HUMAN.Description)\n",
    "    type_report = list(SUBJECT_HUMAN.Type_Reported)\n",
    "    vaccine_type = [i.split(';')[0] for i in list(set(SUBJECT_HUMAN.SARS_CoV_2_Vaccine_Type))]\n",
    "    \n",
    "if SUBJECT_ORGANISM and not SUBJECT_HUMAN:\n",
    "    print('Only organism is used')\n",
    "    usr_id = list(SUBJECT_ORGANISM.User_Defined_ID)\n",
    "    name = list(SUBJECT_ORGANISM.Name)\n",
    "    description = list(SUBJECT_ORGANISM.Description)\n",
    "    type_report = list(SUBJECT_ORGANISM.Type_Reported)\n",
    "    vaccine_type = [i.split(';')[0] for i in list(set(SUBJECT_ORGANISM.SARS_CoV_2_Vaccine_Type))]"
   ]
  },
  {
   "cell_type": "code",
   "execution_count": null,
   "id": "7c33b38b",
   "metadata": {},
   "outputs": [],
   "source": [
    "# AOC = seroClass.arm_or_cohort(\n",
    "#     list(filter(None, usr_id)),\n",
    "#     list(filter(None, name)),\n",
    "#     list(filter(None, description)),\n",
    "#     list(filter(None, type_report))\n",
    "# )\n",
    "\n",
    "# ## add the fuction to clean hidden characters \\n \\t from AOC\n",
    "# # The User_Defined_ID are unique. (just script over user input) - DONE"
   ]
  },
  {
   "cell_type": "code",
   "execution_count": null,
   "id": "6ed9535a",
   "metadata": {},
   "outputs": [],
   "source": [
    "temp_wb = Workbook()\n",
    "temp_ws = temp_wb.active\n",
    "\n",
    "#making a temp workbook to store each section. This will be turned into df\n",
    "\n",
    "# This is the first part of the df\n",
    "for i in bst_ws.iter_rows(values_only = True,\n",
    "                          max_row = se[2]+1):\n",
    "    temp_ws.append(i)\n",
    "    \n",
    "# Starting at Arm or Cohort  \n",
    "\n",
    "\n",
    "\n",
    "AOC = seroClass.arm_or_cohort(\n",
    "    list(filter(None, usr_id)),\n",
    "    list(filter(None, name)),\n",
    "    list(filter(None, description)),\n",
    "    list(filter(None, type_report))\n",
    ")\n",
    "\n",
    "# temp_ws.append(['User Defined ID', 'Name','Description','Type Reported'])\n",
    "seroFxn.add_df(temp_ws, AOC)\n",
    "\n",
    "seroFxn.add_df(temp_ws, STUDY_PERSONNEL)\n",
    "seroFxn.add_df(temp_ws, PLANNED_VISIT)\n",
    "seroFxn.add_df(temp_ws, INCLUSION_EXCLUSION)\n",
    "\n",
    "# # Add protocol\n",
    "temp_ws.append([])\n",
    "temp_ws.append([PROTOCOLS.ImmPortNAME])\n",
    "temp_ws.append(['Protocol ID', PROTOCOLS.Protocol_Name[1]])\n",
    "\n",
    "seroFxn.add_df(temp_ws, STUDY_FILE)\n",
    "seroFxn.add_df(temp_ws, STUDY_LINK)\n",
    "\n",
    "seroFxn.add_df(temp_ws, STUDY_PUBMED)\n",
    "\n",
    "pd.DataFrame(temp_ws.values).to_csv('./temp_mar6.csv', index=None)"
   ]
  },
  {
   "cell_type": "code",
   "execution_count": null,
   "id": "3367dad1",
   "metadata": {},
   "outputs": [],
   "source": [
    "STUDY_FILE.Description"
   ]
  },
  {
   "cell_type": "markdown",
   "id": "fb385676",
   "metadata": {},
   "source": [
    "#### Filling in Study Info Sections "
   ]
  },
  {
   "cell_type": "code",
   "execution_count": null,
   "id": "d532daea",
   "metadata": {},
   "outputs": [],
   "source": [
    "registryToImmportDict = pd.read_csv(registryToImmportDict_file, \n",
    "                                    header=None, \n",
    "                                    index_col=0, \n",
    "                                    squeeze=True).to_dict()\n",
    "\n",
    "# registryToImmportDict\n",
    "registryDict = {**vars(STUDY),\n",
    "                **vars(STUDY_CATEGORIZATION),\n",
    "                **vars(STUDY_DESIGN),\n",
    "                **vars(STUDY_DETAILS),\n",
    "                **vars(STUDY_PUBMED),\n",
    "                **vars(COD)}\n",
    "\n",
    "if len(''.join(vaccine_type)) != 0:\n",
    "    registryDict['SARS-CoV-2_Vaccine_Type'] = vaccine_type\n",
    "else:\n",
    "    registryDict['SARS-CoV-2_Vaccine_Type'] = ['NA']\n",
    "\n",
    "\n",
    "\n",
    "# Looping through ImmPort Template to get the correct order of the 'study' section\n",
    "for se_number in range(se[0],se[3]):    \n",
    " \n",
    "    if temp_ws[\"A\"][se_number].value != None and registryToImmportDict.get(temp_ws[\"A\"][se_number].value) != None:\n",
    "#         print(temp_ws[\"A\"][se_number].value)\n",
    "        \n",
    "        # Using a mapping key + using info in our classes to map the data\n",
    "#         print(temp_ws[\"A\"][se_number].value)\n",
    "        reg_key = registryToImmportDict.get(temp_ws[\"A\"][se_number].value).strip().replace(' ',\"_\").replace('*',\"\")\n",
    "#         print(registryDict.get(reg_key))\n",
    "        try:\n",
    "            # If input is a list, we will turn it into a string (since it cant be a list)\n",
    "            if type(registryDict.get(reg_key)) == list:\n",
    "                temp_ws[\"B\"][se_number].value = ', '.join(registryDict.get(reg_key))\n",
    "            else:\n",
    "                temp_ws[\"B\"][se_number].value = registryDict.get(reg_key)\n",
    "\n",
    "        except:\n",
    "            print(f\"{reg_key} did not work\")\n",
    "            \n",
    "#     else:\n",
    "#         print('blank')\n"
   ]
  },
  {
   "cell_type": "code",
   "execution_count": null,
   "id": "e15e69c2",
   "metadata": {},
   "outputs": [],
   "source": [
    "bsd = pd.DataFrame(temp_ws.values).replace({None: '', 'None': ''})\n",
    "# bsd.to_excel(os.path.join(OUT_DIR, f'PMID{PMID}_study.xlsx'), index=False, header = False)\n",
    "bsd.to_csv(os.path.join(OUT_DIR,f'{BASIC_STUDY_TEMPLATE}.txt'),\n",
    "           header = False,\n",
    "           index = False,\n",
    "           sep = '\\t')"
   ]
  },
  {
   "cell_type": "code",
   "execution_count": null,
   "id": "742781c2",
   "metadata": {
    "scrolled": true
   },
   "outputs": [],
   "source": [
    "bsd.head(60)"
   ]
  },
  {
   "cell_type": "markdown",
   "id": "2d4c3124",
   "metadata": {},
   "source": [
    "### errors: None"
   ]
  },
  {
   "cell_type": "markdown",
   "id": "00f3b229",
   "metadata": {},
   "source": [
    "# Protocol "
   ]
  },
  {
   "cell_type": "code",
   "execution_count": null,
   "id": "bedbcecf",
   "metadata": {},
   "outputs": [],
   "source": [
    "protocol_ws = load_workbook(PATH_protocols)['protocols.txt']\n",
    "protocol_ws = seroFxn.remove_excess(protocol_ws)\n",
    "seroFxn.add_df(protocol_ws, PROTOCOLS, add_header = False, stagger = 1)"
   ]
  },
  {
   "cell_type": "code",
   "execution_count": null,
   "id": "f9f5228b",
   "metadata": {},
   "outputs": [],
   "source": [
    "protocol_df = pd.DataFrame(protocol_ws.values).replace({None: '', 'None': ''})\n",
    "protocol_df.to_csv(os.path.join(OUT_DIR,f'{PROTOCOL_TEMPLATE}.txt'),\n",
    "                   header = False, \n",
    "                   index = False,\n",
    "                   sep = '\\t')\n",
    "try:\n",
    "    shutil.copy(os.path.join(BASE_DIR,'templated_data', f'{PROTOCOLS.Protocol_Name[1]}.txt'),\n",
    "                os.path.join(OUT_DIR,f'{PROTOCOLS.Protocol_Name[1]}.txt'))\n",
    "except:\n",
    "    print(f'File: {PROTOCOLS.Protocol_Name[1]}.txt does not exist')"
   ]
  },
  {
   "cell_type": "markdown",
   "id": "118e3734",
   "metadata": {},
   "source": [
    "#### errors: None\n"
   ]
  },
  {
   "cell_type": "markdown",
   "id": "b0a3b8b4",
   "metadata": {},
   "source": [
    "# Experiment"
   ]
  },
  {
   "cell_type": "code",
   "execution_count": null,
   "id": "88cb2060",
   "metadata": {},
   "outputs": [],
   "source": [
    "# creating a map of the assay types to the SeroNet descriptors \n",
    "reg_description = pd.read_excel(df_path, sheet_name = map_sheet)\n",
    "descriptions = dict(zip(reg_description['Unnamed: 1'][4:], reg_description['Unnamed: 2'][4:]))\n",
    "\n",
    "#creating a df to add into the worksheet\n",
    "Assay_used = STUDY_EXPERIMENTS.Experiment_Assay_Type\n",
    "\n",
    "experiments_df = pd.DataFrame({\n",
    "    'Column Name': ['']*len(Assay_used),\n",
    "    'User Defined ID': [f'PMID{PMID}_exp-0'+str(i+1) for i,k in enumerate(Assay_used)],\n",
    "    'Name': [Assay_used[i+1] for i, k in enumerate(Assay_used)],\n",
    "    'Description': [descriptions.get(k) for i, k in enumerate(Assay_used)],\n",
    "    'Measurement Technique': [STUDY_EXPERIMENTS.Experiment_Assay_Type[i+1] for i, k in enumerate(Assay_used)],\n",
    "    'Study ID': [STUDY.Study_Identifier]*len(Assay_used),\n",
    "    'Protocol ID(s)': [PROTOCOLS.Protocol_ID[1]]*len(Assay_used)\n",
    "})"
   ]
  },
  {
   "cell_type": "code",
   "execution_count": null,
   "id": "7b1d911f",
   "metadata": {},
   "outputs": [],
   "source": [
    "# loading experiment template and removing excess rows and columns\n",
    "experiment_ws = load_workbook(PATH_experiments)['experiments.txt']\n",
    "experiment_ws = seroFxn.remove_excess(experiment_ws)\n",
    "\n",
    "# adding df to bottom of ws\n",
    "seroFxn.add_df(experiment_ws, experiments_df, add_header = False)\n"
   ]
  },
  {
   "cell_type": "code",
   "execution_count": null,
   "id": "36af5726",
   "metadata": {},
   "outputs": [],
   "source": [
    "experiments_df = pd.DataFrame(experiment_ws.values).replace({None: '', 'None': ''})\n",
    "experiments_df.to_csv(os.path.join(OUT_DIR,f'{EXP_TEMPLATE}.txt'),\n",
    "                      header = False, \n",
    "                      index = False,\n",
    "                      sep = '\\t')\n",
    "\n",
    "experiments_df"
   ]
  },
  {
   "cell_type": "markdown",
   "id": "7652c515",
   "metadata": {},
   "source": [
    "#### errors: None"
   ]
  },
  {
   "cell_type": "markdown",
   "id": "82fee841",
   "metadata": {},
   "source": [
    "# REAGENT"
   ]
  },
  {
   "cell_type": "markdown",
   "id": "feaea439",
   "metadata": {},
   "source": [
    "This is creating the template even if it is filled with the defaults"
   ]
  },
  {
   "cell_type": "code",
   "execution_count": null,
   "id": "2bf0fda9",
   "metadata": {
    "scrolled": true
   },
   "outputs": [],
   "source": [
    "if REAGENTS:\n",
    "    NumReagents = len(REAGENTS.Reagent_ID)\n",
    "    empty = [''] * NumReagents\n",
    "\n",
    "    reagent_df = pd.DataFrame({\n",
    "        'Column Name': empty,\n",
    "        'User Defined ID': REAGENTS.Reagent_ID,\n",
    "        'Name': REAGENTS.SARS_CoV_2_Antigen,\n",
    "        'Description': REAGENTS.Assay_Use,\n",
    "        'Manufacturer': REAGENTS.Manufacturer,\n",
    "        'Catalog Number': REAGENTS.Catalog,\n",
    "        'Lot Number': empty,\n",
    "        'Weblink': empty,\n",
    "        'Contact': empty\n",
    "\n",
    "    })\n",
    "\n",
    "    # loading experiment template and removing excess rows and columns\n",
    "    reagent_ws = load_workbook(PATH_reagent)['reagents.Other.txt']\n",
    "    reagent_ws = seroFxn.remove_excess(reagent_ws)\n",
    "\n",
    "    # adding df to bottom of ws\n",
    "    seroFxn.add_df(reagent_ws, reagent_df, add_header = False)\n",
    "    reagent_df = pd.DataFrame(reagent_ws.values).replace({None: '', 'None': ''})\n",
    "\n",
    "    # saving df\n",
    "    reagent_df.to_csv(os.path.join(OUT_DIR,f'{REAGENT_TEMPLATE}.txt'),\n",
    "                       header = False, \n",
    "                       index = False,\n",
    "                       sep = '\\t')\n",
    "\n",
    "    reagent_df"
   ]
  },
  {
   "cell_type": "code",
   "execution_count": null,
   "id": "75818c4d",
   "metadata": {},
   "outputs": [],
   "source": [
    "reagent_df"
   ]
  },
  {
   "cell_type": "markdown",
   "id": "feed354c",
   "metadata": {},
   "source": [
    "### errors: None"
   ]
  },
  {
   "cell_type": "markdown",
   "id": "01989280",
   "metadata": {},
   "source": [
    "# SUBJECTS"
   ]
  },
  {
   "cell_type": "markdown",
   "id": "89f9dc9f",
   "metadata": {},
   "source": [
    "- if human, use human\n",
    "- if animal, use animal sheet \n",
    "- use length as a predictor\n",
    "- THIS WILL CAUSE ME PROBLEMS> WILL NEED TO TEST THIS"
   ]
  },
  {
   "cell_type": "markdown",
   "id": "03886102",
   "metadata": {},
   "source": [
    "## Human"
   ]
  },
  {
   "cell_type": "code",
   "execution_count": null,
   "id": "48ba48c1",
   "metadata": {},
   "outputs": [],
   "source": [
    "\"\"\"\n",
    "HUMAN SHOULD BE FOR HUMAN CELLS LINES. DO NOT PUT IN ORGANISM\n",
    "\n",
    "\"\"\""
   ]
  },
  {
   "cell_type": "code",
   "execution_count": null,
   "id": "dc817d2f",
   "metadata": {},
   "outputs": [],
   "source": [
    "if SUBJECT_HUMAN:\n",
    "    print (\"SUBJECT_human data\")\n",
    "    species = SUBJECT_HUMAN.User_Defined_ID\n",
    "    empty = ['']*len(species)\n",
    "    \n",
    "    if len(SUBJECT_HUMAN.SARS_CoV_2_Vaccine_Type):\n",
    "        vaccine_name = [i.split('; ')[0] for i in SUBJECT_HUMAN.SARS_CoV_2_Vaccine_Type]\n",
    "        vaccine_type = [i.split('; ')[1] for i in SUBJECT_HUMAN.SARS_CoV_2_Vaccine_Type]\n",
    "    else:\n",
    "        vaccine_name = empty\n",
    "        vaccine_type = empty\n",
    "        \n",
    "    \n",
    "    SUBJECT_human_df = pd.DataFrame({\n",
    "        'Column Name': empty,\n",
    "        'Subject ID': [f\"PMID{PMID}_human_subject-0{int(i+1)}\" for i in range(len(species))],\n",
    "        'Arm Or Cohort ID': SUBJECT_HUMAN.User_Defined_ID, #I feel like this needs to be defined\n",
    "        'Gender': SUBJECT_HUMAN.Sex_at_Birth, \n",
    "        'Min Subject Age': 0, # add this to validator in dataclass \n",
    "        'Max Subject Age': 89, # add this to validator in dataclass \n",
    "        'Age Unit': [STUDY_DETAILS.Age_Unit]*len(species),\n",
    "        'Age Event': SUBJECT_HUMAN.Age_Event, \n",
    "        'Age Event Specify': empty,\n",
    "        'Subject Phenotype': empty, \n",
    "        'Subject Location': 'United States of America', # This needs to be changed\n",
    "        'Ethnicity': SUBJECT_HUMAN.Ethnicity,\n",
    "        'Race': SUBJECT_HUMAN.Race, \n",
    "        'Race Specify': empty,\n",
    "        'Description': empty, \n",
    "        'Result Separator Column': empty, \n",
    "        'Exposure Process Reported': ['unknown']*len(species) , #not sure \n",
    "        'Exposure Material Reported': vaccine_name, # change this\n",
    "        'Exposure Material ID': vaccine_type,\n",
    "        'Disease Reported': empty,\n",
    "        'Disease Ontology ID': empty,\n",
    "        'Disease Stage Reported': empty \n",
    "    })\n",
    "    \n",
    "    # loading experiment template and removing excess rows and columns\n",
    "    human_ws = load_workbook(PATH_subject_human)['subjectHumans.txt']\n",
    "    human_ws = seroFxn.remove_excess(human_ws)\n",
    "\n",
    "    # adding df to bottom of ws\n",
    "    seroFxn.add_df(human_ws, SUBJECT_human_df, add_header = False)\n",
    "    SUBJECT_human_df = pd.DataFrame(human_ws.values).replace({None: '', 'None': ''})\n",
    "\n",
    "#     # saving df\n",
    "    SUBJECT_human_df.to_csv(os.path.join(OUT_DIR,f'{SUBJ_HUMAN_TEMPLATE}.txt'),\n",
    "                       header = False, \n",
    "                       index = False,\n",
    "                       sep = '\\t')\n",
    "\n",
    "#     print(SUBJECT_human_df)\n",
    "    \n",
    "else:\n",
    "    print('no human data')\n",
    "    \n"
   ]
  },
  {
   "cell_type": "code",
   "execution_count": null,
   "id": "85ca1684",
   "metadata": {},
   "outputs": [],
   "source": [
    "SUBJECT_human_df"
   ]
  },
  {
   "cell_type": "markdown",
   "id": "6cf108b2",
   "metadata": {},
   "source": [
    "## Organism\n",
    "- problems: AOC is something that will be hard to map, depending on what we are doing. We might have to change the sections or add them together?"
   ]
  },
  {
   "cell_type": "code",
   "execution_count": null,
   "id": "56002ea5",
   "metadata": {},
   "outputs": [],
   "source": [
    "\"\"\"\n",
    "For Syrain Hamster: https://www.ncbi.nlm.nih.gov/Taxonomy/Browser/wwwtax.cgi?name=Syrian+hamsters \n",
    "\n",
    "Use latin name -- or look at lk species\n",
    "https://www.immport.org/shared/templateDocumentation?tab=2&table=lk_species\n",
    "\n",
    "\n",
    "\"\"\"\n",
    "\n"
   ]
  },
  {
   "cell_type": "code",
   "execution_count": null,
   "id": "4b48c3b1",
   "metadata": {},
   "outputs": [],
   "source": [
    "if SUBJECT_ORGANISM:  # Not sure how this plays out. Might need to do a mock one. Will it be 1 subject per study?\n",
    "    species = SUBJECT_ORGANISM.User_Defined_ID\n",
    "    empty = ['']*len(species)\n",
    "    \n",
    "    if len(SUBJECT_ORGANISM.SARS_CoV_2_Vaccine_Type):\n",
    "        vaccine_name = [i.split('; ')[0] for i in SUBJECT_ORGANISM.SARS_CoV_2_Vaccine_Type]\n",
    "        vaccine_type = [i.split('; ')[1] for i in SUBJECT_ORGANISM.SARS_CoV_2_Vaccine_Type]\n",
    "    else:\n",
    "        vaccine_name = empty\n",
    "        vaccine_type = empty\n",
    "    \n",
    "    print (\"SUBJECT_organism data\")\n",
    "    SUBJECT_organism_df = pd.DataFrame({\n",
    "        'Column Name':empty,\n",
    "        'Subject ID': [f\"PMID{PMID}_organism_subject-0{int(i+1)}\" for i in range(len(species))], \n",
    "        'Arm Or Cohort ID': SUBJECT_ORGANISM.User_Defined_ID, #I feel like this needs to be defined\n",
    "        'Gender': SUBJECT_ORGANISM.Sex_at_Birth,\n",
    "        'Min Subject Age': [STUDY_DETAILS.Minimum_Age]*len(species),\n",
    "        'Max Subject Age': [STUDY_DETAILS.Maximum_Age]*len(species),\n",
    "        'Age Unit': [STUDY_DETAILS.Age_Unit] * len(species),\n",
    "        'Age Event': SUBJECT_ORGANISM.Age_Event,\n",
    "        'Age Event Specify': empty,\n",
    "        'Subject Phenotype': empty, ## This does not exist\n",
    "        'Subject Location': SUBJECT_ORGANISM.Study_Location, # This needs to be changed. SUBJECT.Study_Location,\n",
    "        'Species': SUBJECT_ORGANISM.Species,\n",
    "        'Strain': SUBJECT_ORGANISM.Biosample_Types,\n",
    "        'Strain Characteristics': SUBJECT_ORGANISM.Strain_Characteristics,\n",
    "        'Result Separator Column': empty,\n",
    "        'Exposure Process Reported': ['unknown']*len(species),\n",
    "        'Exposure Material Reported': vaccine_name,\n",
    "        'Exposure Material ID': vaccine_type, \n",
    "        'Disease Reported': [COD.Reported_Health_Condition[0]]*len(species), # also maybe not...\n",
    "        'Disease Ontology ID': empty,\n",
    "        'Disease Stage Reported': SUBJECT_ORGANISM.COVID_19_Disease_Severity\n",
    "    })\n",
    "    \n",
    "        # loading experiment template and removing excess rows and columns\n",
    "    organism_ws = load_workbook(PATH_subject_organism)['subjectAnimals.txt']\n",
    "    organism_ws = seroFxn.remove_excess(organism_ws)\n",
    "\n",
    "    # adding df to bottom of ws\n",
    "    seroFxn.add_df(organism_ws, SUBJECT_organism_df, add_header = False)\n",
    "    SUBJECT_organism_df = pd.DataFrame(organism_ws.values).replace({None: '', 'None': ''})\n",
    "\n",
    "    # saving df\n",
    "    SUBJECT_organism_df.to_csv(os.path.join(OUT_DIR,f'{SUBJ_ORGANISM_TEMPLATE}.txt'),\n",
    "                       header = False, \n",
    "                       index = False,\n",
    "                       sep = '\\t')\n",
    "\n",
    "    SUBJECT_organism_df\n",
    "    \n",
    "#     subjectAnimals\n",
    "else:\n",
    "    print(\"no data\")"
   ]
  },
  {
   "cell_type": "markdown",
   "id": "e18218fb",
   "metadata": {},
   "source": [
    "### Error"
   ]
  },
  {
   "cell_type": "code",
   "execution_count": null,
   "id": "0e8a6820",
   "metadata": {},
   "outputs": [],
   "source": [
    "# PMIDTEST_subject_organism.txt\t\tParsing\t\tTemplate: subjectanimals.txt, Size:591 bytes\n",
    "# PMIDTEST_subject_organism.txt\t\tInformation\t\tValidation Level = Standard\n",
    "# PMIDTEST_subject_organism.txt\t3\tStored in:file_info\t\tSize:591 bytes\n",
    "# PMIDTEST_subject_organism.txt\t4\tInformation\t\tThe combined status for subject_id (PMIDTEST_organism-01) and table subject has values:  subject_required (yes), subject_user_defined_id (PMIDTEST_organism-01), and subject_accession ().\n",
    "# PMIDTEST_subject_organism.txt\t4\tInformation\t\tThe combined status for arm_or_cohort_id () and table arm_or_cohort has values:  arm_or_cohort_required (yes), arm_or_cohort_user_defined_id (), and arm_accession ().\n",
    "# PMIDTEST_subject_organism.txt\t4\tError\tValue reported in template does not match preferred vocabulary. See template documentation for preferred vocabulary terms.\tThe Lookup Table check \"lk_species\" in field \"Species\" \"Golden Hampster\".  The row has ID field(s) \"subject_user_defined_id\" and value \"PMIDTEST_organism-01\".\n",
    "# PMIDTEST_subject_organism.txt\t4\tError\tValue reported in template does not match preferred vocabulary. See template documentation for preferred vocabulary terms.\tThe Lookup Table check \"lk_subject_location\" in field \"Subject Location\" \"Northeast\".  The row has ID field(s) \"subject_user_defined_id\" and value \"PMIDTEST_organism-01\".\n",
    "# PMIDTEST_subject_organism.txt\t4\tError\tThe Arm Or Cohort ID must always be predefined\tThe check uses fields [\"arm_or_cohort_required_value\", \"arm_or_cohort_required\"] whose values are [no, yes].  The row has ID field(s) \"subject_user_defined_id\" and value \"PMIDTEST_organism-01\".\n",
    "# PMIDTEST_subject_organism.txt\t4\tError\tsubject age_unit \"Years\" is not in age_unit list linked to study_accession \"[]\"\tThe check-value-in-entity check \"Years\" in field \"study_accession\" \"\".  The row has ID field(s) \"subject_user_defined_id\" and value \"PMIDTEST_organism-01\".\n",
    "# PMIDTEST_subject_organism.txt\t4\tError\tMissing required value\tThe Rule check \"Required Column\" for Field \"Arm Or Cohort ID\".  The row has ID field(s) \"subject_user_defined_id\" and value \"PMIDTEST_organism-01\".\n",
    "# PMIDTEST_subject_organism.txt\t4\tInformation\t\tAdding User Defined ID \"SUB1000000117:ARM1000000118:Infected:N/A::COVID-19:DOID:0080600:Mild\" for table \"immune_exposure\"\n",
    "# PMIDTEST_subject_organism.txt\t\tFailed\t\tTemplate: subjectanimals.txt, Size:591 bytes"
   ]
  },
  {
   "cell_type": "markdown",
   "id": "40631a2a",
   "metadata": {},
   "source": [
    "# ASSESSMENT \n",
    "There will be 1 excel document produced per assesment. (wide format) <br>\n",
    "    - 1 subj with multiple panels -> seperate \n",
    "    - 1 panel with multiple subject -> 1 row per, long format\n",
    "assesment doc. need to be uploaded one at a time\n"
   ]
  },
  {
   "cell_type": "code",
   "execution_count": null,
   "id": "052e074c",
   "metadata": {},
   "outputs": [],
   "source": [
    "if SUBJECT_HUMAN and SUBJECT_ORGANISM:\n",
    "    print('Both human and model organism are used')\n",
    "    allCovSymtoms = list(SUBJECT_HUMAN.Measured_Behavioral_or_Psychological_Factor) + list(SUBJECT_HUMAN.Measured_Social_Factor) + list(SUBJECT_HUMAN.SARS_CoV_2_Symptoms) + list(SUBJECT_ORGANISM.SARS_CoV_2_Symptoms)\n",
    "    \n",
    "if SUBJECT_HUMAN and not SUBJECT_ORGANISM:\n",
    "    print('Only human is used')\n",
    "    allCovSymtoms = list(SUBJECT_HUMAN.Measured_Behavioral_or_Psychological_Factor) + list(SUBJECT_HUMAN.Measured_Social_Factor) + list(SUBJECT_HUMAN.SARS_CoV_2_Symptoms)\n",
    "    \n",
    "if SUBJECT_ORGANISM and not SUBJECT_HUMAN:\n",
    "    print('Only organism is used')\n",
    "    allCovSymtoms = list(SUBJECT_ORGANISM.SARS_CoV_2_Symptoms)"
   ]
  },
  {
   "cell_type": "code",
   "execution_count": null,
   "id": "b966b256",
   "metadata": {},
   "outputs": [],
   "source": [
    "allCovSymtoms = [i for i in allCovSymtoms if i != None]"
   ]
  },
  {
   "cell_type": "code",
   "execution_count": null,
   "id": "2b3b4019",
   "metadata": {},
   "outputs": [],
   "source": [
    "allCovSymtoms"
   ]
  },
  {
   "cell_type": "code",
   "execution_count": null,
   "id": "072b48df",
   "metadata": {},
   "outputs": [],
   "source": [
    "NumAssessments = len(allCovSymtoms)\n",
    "empty = [''] \n",
    "def makeAssessmentDf(subj, assess):\n",
    "    for i, k in enumerate(NumAssessments): ### THIS NEEDS TO BE 1 cell to the right. So the actual vaules \n",
    "\n",
    "        assessment_df = pd.DataFrame({\n",
    "            'Column Name': empty,\n",
    "            'Subject ID': SUBJECT.Subject_ID,  #assuming 1 subj per study .. treat as a study id\n",
    "            'Assessment Panel ID': ASSESSMENT.Assessment_ID[i],\n",
    "            'Study ID': STUDY.Study_Identifier,\n",
    "            'Name Reported': assessment_name,\n",
    "            'Assessment Type': ASSESSMENT.Assessment_Clinical_and_Demographic_Data_Provenance[i],\n",
    "            'Status': ASSESSMENT.Assessment_Demographic_Data_Types_Collected[i],\n",
    "            'CRF File Names': empty,\n",
    "            'Result Separator Column': empty,\n",
    "            'User Defined ID': ASSESSMENT.Assessment_ID[i], #\n",
    "            'Planned Visit ID': PLANNED_VISIT.User_Defined_ID[i],\n",
    "            'Name Reported ': f\"component_{assessment_name}\", # space might not work\n",
    "            'Study Day': i, # Not sure, this says assessment component study day\n",
    "            'Age At Onset Reported': empty,\n",
    "            'Age At Onset Unit Reported': empty,\n",
    "            'Is Clinically Significant': empty,\n",
    "            'Location Of Finding Reported': empty,\n",
    "            'Organ Or Body System Reported': empty,\n",
    "            'Result Value Reported': 'NA',\n",
    "            'Result Unit Reported': empty,\n",
    "            'Result Value Category': empty,\n",
    "            'Subject Position Reported': empty,\n",
    "            'Time Of Day': empty,\n",
    "            'Verbatim Question': empty,\n",
    "            'Who Is Assessed': empty\n",
    "        })\n",
    "\n",
    "        # loading experiment template and removing excess rows and columns\n",
    "        assessment_ws = load_workbook(PATH_assessment)['assessments.txt']\n",
    "        assessment_ws = seroFxn.remove_excess(assessment_ws)\n",
    "\n",
    "        # adding df to bottom of ws\n",
    "        seroFxn.add_df(assessment_ws, assessment_df, add_header = False)\n",
    "        assessment_df = pd.DataFrame(assessment_ws.values).replace({None: '', 'None': ''})\n",
    "    #     assessment_df.rename(columns=lambda x: x.strip())\n",
    "\n",
    "        # saving file\n",
    "        assessment_df.to_csv(os.path.join(OUT_DIR,f'panel0{i}_{ASSESSMENT_TEMPLATE}.txt'),\n",
    "                           header = False, \n",
    "                           index = False,\n",
    "                           sep = '\\t')\n",
    "    #     print(assessment_df.head())"
   ]
  },
  {
   "cell_type": "code",
   "execution_count": null,
   "id": "185a5c12",
   "metadata": {},
   "outputs": [],
   "source": [
    "# class my_class(object):\n",
    "#     def __init__(self):\n",
    "#         self.lis1 = []\n",
    "#         self.dict1 = []\n",
    "\n",
    "# #     def __nonzero__(self):\n",
    "# #         return bool(self.lis1 or self.dict1)\n",
    "    \n",
    "#     def __len__(self):\n",
    "#         for field in self.fields():\n",
    "#             print(field.name, getattr(self, field.name))\n",
    "            \n",
    "#         return len(self.lis1) + len(self.dict1)\n",
    "    \n",
    "#     def __post_init__(self):\n",
    "#         for field in self.__dataclass_fields__:\n",
    "#             value = getattr(self, field)\n",
    "#             print(field, value)"
   ]
  },
  {
   "cell_type": "code",
   "execution_count": null,
   "id": "686d494d",
   "metadata": {},
   "outputs": [],
   "source": [
    "# obj = my_class()\n",
    "# # obj.lis1 = [1,2,3,4]\n",
    "# # obj.dict1 = [1,2,3,4]\n",
    "\n",
    "# if obj:\n",
    "#     print (\"Available\")\n",
    "# else:\n",
    "#     print (\"Not available\")"
   ]
  },
  {
   "cell_type": "code",
   "execution_count": null,
   "id": "948d1ef2",
   "metadata": {},
   "outputs": [],
   "source": []
  }
 ],
 "metadata": {
  "kernelspec": {
   "display_name": "Python 3",
   "language": "python",
   "name": "python3"
  },
  "language_info": {
   "codemirror_mode": {
    "name": "ipython",
    "version": 3
   },
   "file_extension": ".py",
   "mimetype": "text/x-python",
   "name": "python",
   "nbconvert_exporter": "python",
   "pygments_lexer": "ipython3",
   "version": "3.8.8"
  }
 },
 "nbformat": 4,
 "nbformat_minor": 5
}
