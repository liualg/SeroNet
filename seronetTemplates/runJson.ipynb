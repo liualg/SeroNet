{
 "cells": [
  {
   "cell_type": "code",
   "execution_count": 1,
   "id": "91a9694b",
   "metadata": {},
   "outputs": [],
   "source": [
    "import pandas as pd"
   ]
  },
  {
   "cell_type": "code",
   "execution_count": 2,
   "id": "6c3706d1",
   "metadata": {},
   "outputs": [
    {
     "name": "stderr",
     "output_type": "stream",
     "text": [
      "/Users/liualg/opt/anaconda3/lib/python3.9/site-packages/openpyxl/worksheet/_reader.py:312: UserWarning: Data Validation extension is not supported and will be removed\n",
      "  warn(msg)\n"
     ]
    }
   ],
   "source": [
    "import seronetFunctions as serofxn\n",
    "import JSONparse_template as pt\n",
    "import json\n",
    "from glob import glob\n",
    "import os\n",
    "from tqdm import tqdm"
   ]
  },
  {
   "cell_type": "code",
   "execution_count": 3,
   "id": "3f89fd48",
   "metadata": {},
   "outputs": [],
   "source": [
    "box_dir = '/Users/liualg/Library/CloudStorage/Box-Box/SeroNet Public Data'\n",
    "out_dir = './archive/JSON/'\n",
    "file_type = 'json'\n",
    "PMID_LIST = [\n",
    "    35180044, 35390296, 34368647, 35284808, 35483404, 34546094, 34250518, 34320281, 35085183, 35061630, 35704428, 33688034, 35756977, 34150933, 35090596, 35932763, 35839768, 35081612, 34383889, 36058184, 35576468, 34308390, 35881010, 35881005\n",
    "]\n",
    "# PMID = str(PMID_LIST[0])\n"
   ]
  },
  {
   "cell_type": "code",
   "execution_count": 4,
   "id": "be2b90ac",
   "metadata": {},
   "outputs": [],
   "source": [
    "# PMID_LIST = [35061630]"
   ]
  },
  {
   "cell_type": "code",
   "execution_count": null,
   "id": "b66643ef",
   "metadata": {},
   "outputs": [],
   "source": [
    "for PMID in PMID_LIST:\n",
    "    PMID = str(PMID)\n",
    "    print(PMID)\n",
    "    \n",
    "    BASE_DIR = serofxn.get_box_dir(box_dir, PMID)\n",
    "    df_path = glob(os.path.join(BASE_DIR,'templated_data',f'PMID{PMID}*.xlsm'))[0]\n",
    "\n",
    "    output_file = os.path.join(out_dir, f'PMID{PMID}_JSON.{file_type}')\n",
    "    df = pd.read_excel(df_path, sheet_name = 0, header=None)\n",
    "    df.index += 1\n",
    "    template = {}\n",
    "    pt.parse_registry_template(df, template)\n",
    "\n",
    "    f = open(output_file, \"w\")\n",
    "    print(json.dumps(template, indent=4), file = f)\n",
    "    f.close()"
   ]
  },
  {
   "cell_type": "code",
   "execution_count": null,
   "id": "1f57394b",
   "metadata": {},
   "outputs": [],
   "source": [
    "from openpyxl import load_workbook\n",
    "#\n",
    "wb = load_workbook(\n",
    "    glob(\"/Users/liualg/Library/CloudStorage/\" \\\n",
    "              \"OneDrive-NationalInstitutesofHealth/Curation channel/*.xlsm\")[0],\n",
    "                  )\n",
    "sheet = wb['Cntrl\\'d Vocab']\n",
    "immport_dict = dict()\n",
    "\n",
    "for column in sheet.iter_cols( #sheet.max_column, \n",
    "                              max_row=sheet.max_row, \n",
    "                              min_row=4):\n",
    "    name = []\n",
    "    start_index = []\n",
    "    for icol, cell in enumerate(column):\n",
    "        if icol == 0:\n",
    "            name.append(cell.value)\n",
    "            start_index.append(icol)\n",
    "        else:\n",
    "            if cell.value is not None and (column[icol-1].value is None):\n",
    "                name.append(cell.value)\n",
    "                start_index.append(icol)\n",
    "    \n",
    "#     print(start_index)\n",
    "    try:\n",
    "        for i in range(len(start_index)-1):\n",
    "            # This does the main rows\n",
    "            immport_dict[name[i]] = [k.value for k in column[start_index[i]+1 : start_index[i+1]] if k.value is not None]\n",
    "        #this does the last row\n",
    "        immport_dict[name[-1]] = [k.value for k in column[start_index[i+1]+1 :] if k.value is not None]\n",
    "    \n",
    "    except:\n",
    "#         print(start_index[i-1])\n",
    "        #this does the first row \n",
    "        immport_dict[name[-1]] = [k.value for k in column[start_index[i-1]+1 :] if k.value is not None]\n",
    "        pass\n"
   ]
  },
  {
   "cell_type": "code",
   "execution_count": null,
   "id": "8bff3f33",
   "metadata": {},
   "outputs": [],
   "source": [
    "# for i in immport_dict.values():\n",
    "#     print(i)"
   ]
  },
  {
   "cell_type": "code",
   "execution_count": null,
   "id": "fe19ce68",
   "metadata": {},
   "outputs": [],
   "source": [
    "immport_dict.get('SARS-CoV-2 Vaccine Type - STUDY')"
   ]
  },
  {
   "cell_type": "code",
   "execution_count": null,
   "id": "fe34075a",
   "metadata": {},
   "outputs": [],
   "source": [
    "matching = [s for s in immport_dict.get('SARS-CoV-2 Vaccine Type - STUDY') if \"Moderna\".lower() in s.lower()]\n",
    "matching"
   ]
  },
  {
   "cell_type": "code",
   "execution_count": null,
   "id": "2a1e65f4",
   "metadata": {},
   "outputs": [],
   "source": [
    "'france' in "
   ]
  },
  {
   "cell_type": "code",
   "execution_count": null,
   "id": "379b13bb",
   "metadata": {},
   "outputs": [],
   "source": [
    "import numpy as np \n",
    "a = [1,2,3,4,5,63,8,99]"
   ]
  },
  {
   "cell_type": "code",
   "execution_count": null,
   "id": "dc802bcd",
   "metadata": {},
   "outputs": [],
   "source": [
    "np.std(a)"
   ]
  },
  {
   "cell_type": "code",
   "execution_count": null,
   "id": "1fc28b3d",
   "metadata": {},
   "outputs": [],
   "source": [
    "a[-1]/np.std(a) > 2"
   ]
  },
  {
   "cell_type": "code",
   "execution_count": null,
   "id": "47e5a1d6",
   "metadata": {},
   "outputs": [],
   "source": [
    "b = [('alex',1),('asd',2),('dfg',15),('qwe',31),('xcv',16),('fhhjf',11),]"
   ]
  },
  {
   "cell_type": "code",
   "execution_count": null,
   "id": "f98a7a37",
   "metadata": {},
   "outputs": [],
   "source": [
    "[n[1] for n in b[:3]]"
   ]
  },
  {
   "cell_type": "code",
   "execution_count": null,
   "id": "6e48eab8",
   "metadata": {},
   "outputs": [],
   "source": [
    "b[0][1]"
   ]
  },
  {
   "cell_type": "markdown",
   "id": "871cb17b",
   "metadata": {},
   "source": [
    "1# "
   ]
  }
 ],
 "metadata": {
  "kernelspec": {
   "display_name": "Python 3 (ipykernel)",
   "language": "python",
   "name": "python3"
  },
  "language_info": {
   "codemirror_mode": {
    "name": "ipython",
    "version": 3
   },
   "file_extension": ".py",
   "mimetype": "text/x-python",
   "name": "python",
   "nbconvert_exporter": "python",
   "pygments_lexer": "ipython3",
   "version": "3.9.13"
  }
 },
 "nbformat": 4,
 "nbformat_minor": 5
}
