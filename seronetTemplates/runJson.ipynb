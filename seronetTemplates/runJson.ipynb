{
 "cells": [
  {
   "cell_type": "code",
   "execution_count": 6,
   "id": "91a9694b",
   "metadata": {},
   "outputs": [],
   "source": [
    "import pandas as pd"
   ]
  },
  {
   "cell_type": "code",
   "execution_count": 7,
   "id": "6c3706d1",
   "metadata": {},
   "outputs": [],
   "source": [
    "import seronetFunctions as serofxn\n",
    "import JSONparse_template as pt\n",
    "import json\n",
    "from glob import glob\n",
    "import os\n",
    "from tqdm import tqdm"
   ]
  },
  {
   "cell_type": "code",
   "execution_count": 8,
   "id": "3f89fd48",
   "metadata": {},
   "outputs": [
    {
     "data": {
      "text/plain": [
       "18"
      ]
     },
     "execution_count": 8,
     "metadata": {},
     "output_type": "execute_result"
    }
   ],
   "source": [
    "box_dir = '/Users/liualg/Library/CloudStorage/Box-Box/SeroNet Curation/SeroNet Public Data'\n",
    "out_dir = './UPDATES/JSON_files/DR50.2'\n",
    "out_dir = '/Users/liualg/Library/CloudStorage/OneDrive-NationalInstitutesofHealth/Curation channel/ImmPort Uploads/Data Release Updates_/DR50.2'\n",
    "file_type = 'json'\n",
    "PMID_LIST = [\n",
    "    32884153, 33971664, 34242577, 34270939, 34664987, 34664987, 34767812, \n",
    "    35313451, 35483404, 35483404, 35632708, 35835107, 35835107, 35857635, \n",
    "    35857635, 35879545, 36454813, 36680154\n",
    "]\n",
    "## ERRORS:\n",
    "# 34952892 - missing COD (on hold) => use not applicable \n",
    "# 34835131 - SARs-COV-1 (post process)\n",
    "len(PMID_LIST)"
   ]
  },
  {
   "cell_type": "markdown",
   "id": "58f9516b",
   "metadata": {},
   "source": [
    "General Notes: <br>\n",
    "[SARS-CoV2 History] Designate replacement word for Not Specified vs Not Applicable<br>\n",
    "[COVID-19 Disease Severity] Designate replacement word for Not Specified => unknown<br>\n",
    "[Virus Strain] Designate replacement word for: Not Specified => not applicable<br>\n",
    "Critical => severe<br>\n",
    "[Study Location] Designate replacement word for: Other<br>\n",
    "<br>\n",
    "EDITS:<br>\n",
    "34952892 - condition or disease empty; changing to not applicable (asking renuka to replace) (fixed)<br>\n",
    "34835131 - [Reported Health Condition] Designate replacement word for SARS-CoV-1 (ME) -> manual edit to Covid 19, leave sars-cov-1 in virus variant. <br>\n",
    "\n",
    "<br>\n",
    "Fixed Notes:<br>\n",
    "35427477 - FIX. not working. PBMCs or inguinal LN cells. bronchoalveolar lavage and nasal swab: (done)<br>\n",
    "35148837 - FIX.  associated planned visit id: expected string or bytes-like object (done)<br>\n",
    "<br>\n",
    "33142304 - Rectal Swab (ME)<br>\n",
    "33065030 - FIX.   Fluorescent Antibody Procedure (added to list)<br>\n",
    "33830946 - [Arm Type [ImmPort only]] Designate replacement word for: Cell Line, <br>\n",
    "        [Biosample Type [in vitro Model; ImmPort only]] Designate replacement word for Not specified: more<br>\n",
    "33993265 - FIX.   Immune Response | Vaccine Response (ME). [Assay Type] Designate replacement word for: PCR - Pre-vaccination (ME)<br>\n",
    "<br>\n",
    "33961839 - FIX.  [Assay Type] Designate replacement word for: In situ hybridization (added to template)<br>\n",
    "33169014 - FIX.  [SARS-CoV2 History] Designate replacement word for Mild: more<br>\n",
    "    [Study Location] Designate replacement word for: Other (ME)<br>\n",
    "    <br>\n",
    "33571162 - FIX.  [Study Location] Designate replacement word for: MD (Me)<br>\n",
    "33727353 - FIX.  [Arm Type [ImmPort only]] Designate replacement word for Uninfected control (done)<br>\n",
    "<br>\n",
    "<br>\n",
    "===========<br>\n",
    "33622794 - rectal swab (done)<br>\n",
    "33830946 - cell line (done)<br>\n",
    "35390296 - change reported health condition (done_)<br>\n",
    "    \n"
   ]
  },
  {
   "cell_type": "code",
   "execution_count": 9,
   "id": "46c03230",
   "metadata": {},
   "outputs": [
    {
     "name": "stdout",
     "output_type": "stream",
     "text": [
      "32884153\n"
     ]
    },
    {
     "name": "stderr",
     "output_type": "stream",
     "text": [
      "/Users/liualg/opt/anaconda3/lib/python3.8/site-packages/openpyxl/worksheet/_read_only.py:79: UserWarning: Data Validation extension is not supported and will be removed\n",
      "  for idx, row in parser.parse():\n",
      "/Users/liualg/opt/anaconda3/lib/python3.8/site-packages/openpyxl/worksheet/_read_only.py:79: UserWarning: Data Validation extension is not supported and will be removed\n",
      "  for idx, row in parser.parse():\n"
     ]
    },
    {
     "name": "stdout",
     "output_type": "stream",
     "text": [
      "33971664\n",
      "[INFO]:: [Fuzzy] ​JSON Summary Description => JSON Summary Description : score 94\n",
      "INFO:: [Fuzzy] Closest Match Found. Changing Nasal Swab => Nasal Swab or Nose Specimen\n",
      "[INFO]:: [Fuzzy] WIV-1 => WIV1 : score 89\n",
      "INFO:: [Fuzzy] Closest Match Found. Changing Nasal Swab => Nasal Swab or Nose Specimen\n",
      "34242577\n"
     ]
    },
    {
     "name": "stderr",
     "output_type": "stream",
     "text": [
      "/Users/liualg/opt/anaconda3/lib/python3.8/site-packages/openpyxl/worksheet/_read_only.py:79: UserWarning: Data Validation extension is not supported and will be removed\n",
      "  for idx, row in parser.parse():\n",
      "/Users/liualg/opt/anaconda3/lib/python3.8/site-packages/openpyxl/worksheet/_read_only.py:79: UserWarning: Data Validation extension is not supported and will be removed\n",
      "  for idx, row in parser.parse():\n"
     ]
    },
    {
     "name": "stdout",
     "output_type": "stream",
     "text": [
      "[INFO]:: [Fuzzy] ​JSON Summary Description => JSON Summary Description : score 94\n",
      "INFO:: [Fuzzy] Closest Match Found. Changing Not Specified => Not specified\n",
      "[NOTE]:: Field empty: SARS-CoV-2 Vaccine Type - SUBJECT\n",
      "INFO:: [Fuzzy] Closest Match Found. Changing Not Specified => Not specified\n",
      "[NOTE]:: Field empty: SARS-CoV-2 Vaccine Type - SUBJECT\n",
      "INFO:: [Fuzzy] Closest Match Found. Changing Not Specified => Not specified\n",
      "[NOTE]:: Field empty: SARS-CoV-2 Vaccine Type - SUBJECT\n",
      "INFO:: [Fuzzy] Closest Match Found. Changing Not Specified => Not specified\n",
      "[NOTE]:: Field empty: SARS-CoV-2 Vaccine Type - SUBJECT\n",
      "INFO:: [Fuzzy] Closest Match Found. Changing Not Specified => Not specified\n",
      "[NOTE]:: Field empty: SARS-CoV-2 Vaccine Type - SUBJECT\n",
      "INFO:: [Fuzzy] Closest Match Found. Changing Not Specified => Not specified\n",
      "[NOTE]:: Field empty: SARS-CoV-2 Vaccine Type - SUBJECT\n",
      "INFO:: [Fuzzy] Closest Match Found. Changing Not Specified => Not specified\n",
      "[NOTE]:: Field empty: SARS-CoV-2 Vaccine Type - SUBJECT\n",
      "INFO:: [Fuzzy] Closest Match Found. Changing Not Specified => Not specified\n",
      "[NOTE]:: Field empty: SARS-CoV-2 Vaccine Type - SUBJECT\n",
      "INFO:: [Fuzzy] Closest Match Found. Changing Not Specified => Not specified\n",
      "[NOTE]:: Field empty: SARS-CoV-2 Vaccine Type - SUBJECT\n",
      "INFO:: [Fuzzy] Closest Match Found. Changing Not Specified => Not specified\n",
      "[NOTE]:: Field empty: SARS-CoV-2 Vaccine Type - SUBJECT\n",
      "INFO:: [Fuzzy] Closest Match Found. Changing Not Specified => Not specified\n",
      "[NOTE]:: Field empty: SARS-CoV-2 Vaccine Type - SUBJECT\n",
      "INFO:: [Fuzzy] Closest Match Found. Changing Not Specified => Not specified\n",
      "[NOTE]:: Field empty: SARS-CoV-2 Vaccine Type - SUBJECT\n",
      "INFO:: [Fuzzy] Closest Match Found. Changing Not Specified => Not specified\n",
      "[NOTE]:: Field empty: SARS-CoV-2 Vaccine Type - SUBJECT\n",
      "INFO:: [Fuzzy] Closest Match Found. Changing Not Specified => Not specified\n",
      "[NOTE]:: Field empty: SARS-CoV-2 Vaccine Type - SUBJECT\n",
      "INFO:: [Fuzzy] Closest Match Found. Changing Not Specified => Not specified\n",
      "[NOTE]:: Field empty: SARS-CoV-2 Vaccine Type - SUBJECT\n",
      "INFO:: [Fuzzy] Closest Match Found. Changing Not Specified => Not specified\n",
      "[NOTE]:: Field empty: SARS-CoV-2 Vaccine Type - SUBJECT\n",
      "INFO:: [Fuzzy] Closest Match Found. Changing Not Specified => Not specified\n",
      "[NOTE]:: Field empty: SARS-CoV-2 Vaccine Type - SUBJECT\n",
      "INFO:: [Fuzzy] Closest Match Found. Changing Not Specified => Not specified\n",
      "[NOTE]:: Field empty: SARS-CoV-2 Vaccine Type - SUBJECT\n",
      "INFO:: [Fuzzy] Closest Match Found. Changing Not Specified => Not specified\n",
      "[NOTE]:: Field empty: SARS-CoV-2 Vaccine Type - SUBJECT\n",
      "INFO:: [Fuzzy] Closest Match Found. Changing Not Specified => Not specified\n",
      "[NOTE]:: Field empty: SARS-CoV-2 Vaccine Type - SUBJECT\n",
      "INFO:: [Fuzzy] Closest Match Found. Changing Not Specified => Not specified\n",
      "[NOTE]:: Field empty: SARS-CoV-2 Vaccine Type - SUBJECT\n",
      "INFO:: [Fuzzy] Closest Match Found. Changing Not Specified => Not specified\n",
      "[NOTE]:: Field empty: SARS-CoV-2 Vaccine Type - SUBJECT\n",
      "INFO:: [Fuzzy] Closest Match Found. Changing Not Specified => Not specified\n",
      "[NOTE]:: Field empty: SARS-CoV-2 Vaccine Type - SUBJECT\n",
      "INFO:: [Fuzzy] Closest Match Found. Changing Not Specified => Not specified\n",
      "[NOTE]:: Field empty: SARS-CoV-2 Vaccine Type - SUBJECT\n",
      "INFO:: [Fuzzy] Closest Match Found. Changing Nasal Swab => Nasal Swab or Nose Specimen\n",
      "34270939\n",
      "[INFO]:: [Fuzzy] ​JSON Summary Description => JSON Summary Description : score 94\n",
      "34664987\n"
     ]
    },
    {
     "name": "stderr",
     "output_type": "stream",
     "text": [
      "/Users/liualg/opt/anaconda3/lib/python3.8/site-packages/openpyxl/worksheet/_read_only.py:79: UserWarning: Data Validation extension is not supported and will be removed\n",
      "  for idx, row in parser.parse():\n"
     ]
    },
    {
     "name": "stdout",
     "output_type": "stream",
     "text": [
      "Previous Input: Virus Target, Not Specified => Not Applicable\n",
      "[NOTE]:: Field empty: SARS-CoV-2 Vaccine Type - SUBJECT\n",
      "[NOTE]:: Field empty: SARS-CoV-2 Vaccine Type - SUBJECT\n",
      "[NOTE]:: Field empty: SARS-CoV-2 Vaccine Type - SUBJECT\n",
      "[NOTE]:: Field empty: SARS-CoV-2 Vaccine Type - SUBJECT\n",
      "34664987\n"
     ]
    },
    {
     "name": "stderr",
     "output_type": "stream",
     "text": [
      "/Users/liualg/opt/anaconda3/lib/python3.8/site-packages/openpyxl/worksheet/_read_only.py:79: UserWarning: Data Validation extension is not supported and will be removed\n",
      "  for idx, row in parser.parse():\n"
     ]
    },
    {
     "name": "stdout",
     "output_type": "stream",
     "text": [
      "Previous Input: Virus Target, Not Specified => Not Applicable\n",
      "[NOTE]:: Field empty: SARS-CoV-2 Vaccine Type - SUBJECT\n",
      "[NOTE]:: Field empty: SARS-CoV-2 Vaccine Type - SUBJECT\n",
      "[NOTE]:: Field empty: SARS-CoV-2 Vaccine Type - SUBJECT\n",
      "[NOTE]:: Field empty: SARS-CoV-2 Vaccine Type - SUBJECT\n",
      "34767812\n"
     ]
    },
    {
     "name": "stderr",
     "output_type": "stream",
     "text": [
      "/Users/liualg/opt/anaconda3/lib/python3.8/site-packages/openpyxl/worksheet/_read_only.py:79: UserWarning: Data Validation extension is not supported and will be removed\n",
      "  for idx, row in parser.parse():\n"
     ]
    },
    {
     "name": "stdout",
     "output_type": "stream",
     "text": [
      "[NOTE]:: Field empty: SARS-CoV-2 Vaccine Type - SUBJECT\n",
      "[NOTE]:: Field empty: SARS-CoV-2 Vaccine Type - SUBJECT\n",
      "[NOTE]:: Field empty: SARS-CoV-2 Antigen\n",
      "[NOTE]:: Field empty: SARS-CoV-2 Antigen\n",
      "[NOTE]:: Field empty: SARS-CoV-2 Antigen\n",
      "[NOTE]:: Field empty: SARS-CoV-2 Antigen\n",
      "35313451\n"
     ]
    },
    {
     "name": "stderr",
     "output_type": "stream",
     "text": [
      "/Users/liualg/opt/anaconda3/lib/python3.8/site-packages/openpyxl/worksheet/_read_only.py:79: UserWarning: Data Validation extension is not supported and will be removed\n",
      "  for idx, row in parser.parse():\n",
      "/Users/liualg/opt/anaconda3/lib/python3.8/site-packages/openpyxl/worksheet/_read_only.py:79: UserWarning: Data Validation extension is not supported and will be removed\n",
      "  for idx, row in parser.parse():\n"
     ]
    },
    {
     "name": "stdout",
     "output_type": "stream",
     "text": [
      "[NOTE]:: Field empty: SARS-CoV-2 Vaccine Type - STUDY\n",
      "[NOTE]:: Field empty: SARS-CoV-2 Vaccine Type - SUBJECT\n",
      "[NOTE]:: Field empty: SARS-CoV-2 Vaccine Type - SUBJECT\n",
      "[NOTE]:: Field empty: SARS-CoV-2 Vaccine Type - SUBJECT\n",
      "[NOTE]:: Field empty: SARS-CoV-2 Vaccine Type - SUBJECT\n",
      "[NOTE]:: Field empty: SARS-CoV-2 Vaccine Type - SUBJECT\n",
      "[NOTE]:: Field empty: SARS-CoV-2 Vaccine Type - SUBJECT\n",
      "INFO:: [Fuzzy] Closest Match Found. Changing Nasal Swab => Nasal Swab or Nose Specimen\n",
      "[INFO]:: [Fuzzy] SARS-CoV-2 WA1/2020 (D614 variant) => SARS-CoV-2 WA1/2020 (D614G variant) : score 99\n",
      "[INFO]:: [Fuzzy] SARS-CoV-2 Alpha (B.1.1.7) => SARS-CoV-2 Alpha; B.1.1.7 : score 94\n",
      "[INFO]:: [Fuzzy] SARS-CoV-2 Beta (B.1.351) => SARS-CoV-2 Beta; B.1.351 : score 94\n",
      "[INFO]:: [Fuzzy] SARS-CoV-2 Delta (B.1.617.2) => SARS-CoV-2 Delta; B.1.617.2 : score 95\n",
      "[INFO]:: [Fuzzy] SARS-CoV-2 Omicron (B.1.1.529) => SARS-CoV-2 Omicron; B.1.1.529 : score 95\n",
      "[INFO]:: [Fuzzy] SARS-CoV-2 WA1/2020 (D614 variant) => SARS-CoV-2 WA1/2020 (D614G variant) : score 99\n",
      "[INFO]:: [Fuzzy] SARS-CoV-2 Alpha (B.1.1.7) => SARS-CoV-2 Alpha; B.1.1.7 : score 94\n",
      "[INFO]:: [Fuzzy] SARS-CoV-2 Beta (B.1.351) => SARS-CoV-2 Beta; B.1.351 : score 94\n",
      "[INFO]:: [Fuzzy] SARS-CoV-2 Delta (B.1.617.2) => SARS-CoV-2 Delta; B.1.617.2 : score 95\n",
      "[INFO]:: [Fuzzy] SARS-CoV-2 Omicron (B.1.1.529) => SARS-CoV-2 Omicron; B.1.1.529 : score 95\n",
      "[INFO]:: [Fuzzy] SARS-CoV-2 WA1/2020 (D614 variant) => SARS-CoV-2 WA1/2020 (D614G variant) : score 99\n",
      "[INFO]:: [Fuzzy] SARS-CoV-2 Alpha (B.1.1.7) => SARS-CoV-2 Alpha; B.1.1.7 : score 94\n",
      "[INFO]:: [Fuzzy] SARS-CoV-2 Beta (B.1.351) => SARS-CoV-2 Beta; B.1.351 : score 94\n",
      "[INFO]:: [Fuzzy] SARS-CoV-2 Delta (B.1.617.2) => SARS-CoV-2 Delta; B.1.617.2 : score 95\n",
      "[INFO]:: [Fuzzy] SARS-CoV-2 Omicron (B.1.1.529) => SARS-CoV-2 Omicron; B.1.1.529 : score 95\n",
      "35483404\n",
      "[INFO]:: [Fuzzy] ​JSON Summary Description => JSON Summary Description : score 94\n",
      "Previous Input: Reported Health Condition, Covid-19 => COVID-19\n",
      "Previous Input: Reported Health Condition, Pneumonia => Streptococcus Pneumonia\n",
      "Previous Input: Virus Target, Not Specified => Not Applicable\n",
      "[NOTE]:: Field empty: SARS-CoV-2 Vaccine Type - STUDY\n",
      "[NOTE]:: Field empty: SARS-CoV-2 Vaccine Type - SUBJECT\n",
      "[NOTE]:: Field empty: SARS-CoV-2 Vaccine Type - SUBJECT\n",
      "[NOTE]:: Field empty: COVID-19 Disease Severity\n",
      "\n",
      "\n",
      "######  ACTION REQUIRED ###### \n",
      "[Biospecimen Type] Designate replacement word for: Bone-marrow derived macrophages\n",
      "Top three choices:\n",
      "('Blood: Sorted B-cells', 42)\n",
      "('Blood: Sorted T-cells', 42)\n",
      "('Bronchoalveolar lavage', 42)\n"
     ]
    },
    {
     "name": "stdin",
     "output_type": "stream",
     "text": [
      "[Biospecimen Type] Designate replacement word for: Bone-marrow derived macrophages:  more\n"
     ]
    },
    {
     "name": "stdout",
     "output_type": "stream",
     "text": [
      "\n",
      "*** Please use a number to designate word you want substituted ***\n",
      "\t-OR type more or more options\n",
      "\t-OR type exit\n"
     ]
    },
    {
     "name": "stdin",
     "output_type": "stream",
     "text": [
      "[Biospecimen Type] Designate replacement word for Bone-marrow derived macrophages:  more\n"
     ]
    },
    {
     "name": "stdout",
     "output_type": "stream",
     "text": [
      "1. ('Blood: Sorted B-cells', 42)\n",
      "2. ('Blood: Sorted T-cells', 42)\n",
      "3. ('Bronchoalveolar lavage', 42)\n",
      "4. ('Blood: leukocytes', 33)\n",
      "5. ('Other tissue (sorted)', 31)\n",
      "6. ('Dried Blood Spot', 30)\n",
      "7. ('Other blood populations (sorted)', 29)\n",
      "8. ('Cerebrospinal Fluid', 28)\n",
      "9. ('Nasal Swab or Nose Specimen', 28)\n",
      "10. ('Tissue components (unsorted)', 27)\n",
      "11. ('Trachea', 26)\n",
      "12. ('Cell culture supernatant', 25)\n",
      "13. ('Multiple Epithelial subtypes (Tissue/Nasopharyngeal Sample/Bronchoaleveolar Lavage)', 25)\n",
      "14. ('Multiple Immune Cell types (blood)', 25)\n",
      "15. ('Multiple Immune Cell types (Tissue/Nasopharyngeal Sample/Bronchoaleveolar Lavage)', 25)\n",
      "16. ('Peripheral Blood Mononuclear Cell (PBMC)', 25)\n",
      "17. ('Breast Milk', 24)\n",
      "18. ('Cord blood', 24)\n",
      "19. ('Neutrophil', 24)\n",
      "20. ('Blood', 22)\n",
      "21. ('Liver', 22)\n",
      "22. ('Saliva', 22)\n",
      "23. ('Cell Line', 20)\n",
      "24. ('Lymph Node', 20)\n",
      "25. ('Brain', 17)\n",
      "26. ('Heart', 17)\n",
      "27. ('Serum', 17)\n",
      "28. ('Urine', 17)\n",
      "29. ('Kidney', 16)\n",
      "30. ('Mucosa', 16)\n",
      "31. ('NK cell', 16)\n",
      "32. ('Plasma', 16)\n",
      "33. ('Placenta', 15)\n",
      "34. ('n/a', 12)\n",
      "35. ('Lung', 11)\n",
      "36. ('Other', 11)\n",
      "37. ('Spleen', 11)\n",
      "38. ('Stool', 11)\n",
      "39. ('Sputum', 5)\n",
      "\n",
      "*** Please use a number to designate word you want substituted ***\n",
      "\t-OR type more or more options\n",
      "\t-OR type exit\n"
     ]
    },
    {
     "name": "stdin",
     "output_type": "stream",
     "text": [
      "[Biospecimen Type] Designate replacement word for Bone-marrow derived macrophages:  36\n"
     ]
    },
    {
     "name": "stdout",
     "output_type": "stream",
     "text": [
      "35483404\n",
      "[INFO]:: [Fuzzy] ​JSON Summary Description => JSON Summary Description : score 94\n",
      "Previous Input: Reported Health Condition, Covid-19 => COVID-19\n",
      "Previous Input: Reported Health Condition, Pneumonia => Streptococcus Pneumonia\n",
      "Previous Input: Virus Target, Not Specified => Not Applicable\n",
      "[NOTE]:: Field empty: SARS-CoV-2 Vaccine Type - STUDY\n",
      "[NOTE]:: Field empty: SARS-CoV-2 Vaccine Type - SUBJECT\n",
      "[NOTE]:: Field empty: SARS-CoV-2 Vaccine Type - SUBJECT\n",
      "[NOTE]:: Field empty: COVID-19 Disease Severity\n",
      "Previous Input: Biospecimen Type, Bone-marrow derived macrophages => Other\n",
      "35632708\n"
     ]
    },
    {
     "name": "stderr",
     "output_type": "stream",
     "text": [
      "/Users/liualg/opt/anaconda3/lib/python3.8/site-packages/openpyxl/worksheet/_read_only.py:79: UserWarning: Data Validation extension is not supported and will be removed\n",
      "  for idx, row in parser.parse():\n",
      "/Users/liualg/opt/anaconda3/lib/python3.8/site-packages/openpyxl/worksheet/_read_only.py:79: UserWarning: Data Validation extension is not supported and will be removed\n",
      "  for idx, row in parser.parse():\n"
     ]
    },
    {
     "name": "stdout",
     "output_type": "stream",
     "text": [
      "[INFO]:: [Fuzzy] ​JSON Summary Description => JSON Summary Description : score 94\n",
      "Previous Input: Reported Health Condition, Covid-19 => COVID-19\n",
      "[NOTE]:: Field empty: SARS-CoV-2 Vaccine Type - SUBJECT\n",
      "[NOTE]:: Field empty: SARS-CoV-2 Vaccine Type - SUBJECT\n",
      "[NOTE]:: Field empty: SARS-CoV-2 Vaccine Type - SUBJECT\n",
      "[NOTE]:: Field empty: SARS-CoV-2 Vaccine Type - SUBJECT\n",
      "[NOTE]:: Field empty: SARS-CoV-2 Vaccine Type - SUBJECT\n",
      "[NOTE]:: Field empty: SARS-CoV-2 Vaccine Type - SUBJECT\n",
      "[NOTE]:: Field empty: SARS-CoV-2 Vaccine Type - SUBJECT\n",
      "[NOTE]:: Field empty: SARS-CoV-2 Vaccine Type - SUBJECT\n",
      "[NOTE]:: Field empty: SARS-CoV-2 Antigen\n",
      "[NOTE]:: Field empty: SARS-CoV-2 Antigen\n",
      "35835107\n",
      "Previous Input: Virus Target, Not Specified => Not Applicable\n",
      "[NOTE]:: Field empty: SARS-CoV-2 Vaccine Type - SUBJECT\n",
      "[NOTE]:: Field empty: SARS-CoV-2 Vaccine Type - SUBJECT\n",
      "[NOTE]:: Field empty: SARS-CoV-2 Vaccine Type - SUBJECT\n",
      "[NOTE]:: Field empty: SARS-CoV-2 Vaccine Type - SUBJECT\n",
      "[NOTE]:: Field empty: SARS-CoV-2 Vaccine Type - SUBJECT\n",
      "[NOTE]:: Field empty: SARS-CoV-2 Vaccine Type - SUBJECT\n",
      "[NOTE]:: Field empty: SARS-CoV-2 Antigen\n",
      "[NOTE]:: Field empty: SARS-CoV-2 Antigen\n",
      "[NOTE]:: Field empty: SARS-CoV-2 Antigen\n",
      "[NOTE]:: Field empty: SARS-CoV-2 Antigen\n",
      "[NOTE]:: Field empty: SARS-CoV-2 Antigen\n",
      "[NOTE]:: Field empty: SARS-CoV-2 Antigen\n",
      "[NOTE]:: Field empty: SARS-CoV-2 Antigen\n"
     ]
    },
    {
     "name": "stderr",
     "output_type": "stream",
     "text": [
      "/Users/liualg/opt/anaconda3/lib/python3.8/site-packages/openpyxl/worksheet/_read_only.py:79: UserWarning: Data Validation extension is not supported and will be removed\n",
      "  for idx, row in parser.parse():\n",
      "/Users/liualg/opt/anaconda3/lib/python3.8/site-packages/openpyxl/worksheet/_read_only.py:79: UserWarning: Data Validation extension is not supported and will be removed\n",
      "  for idx, row in parser.parse():\n"
     ]
    },
    {
     "name": "stdout",
     "output_type": "stream",
     "text": [
      "35835107\n",
      "Previous Input: Virus Target, Not Specified => Not Applicable\n",
      "[NOTE]:: Field empty: SARS-CoV-2 Vaccine Type - SUBJECT\n",
      "[NOTE]:: Field empty: SARS-CoV-2 Vaccine Type - SUBJECT\n",
      "[NOTE]:: Field empty: SARS-CoV-2 Vaccine Type - SUBJECT\n",
      "[NOTE]:: Field empty: SARS-CoV-2 Vaccine Type - SUBJECT\n",
      "[NOTE]:: Field empty: SARS-CoV-2 Vaccine Type - SUBJECT\n",
      "[NOTE]:: Field empty: SARS-CoV-2 Vaccine Type - SUBJECT\n",
      "[NOTE]:: Field empty: SARS-CoV-2 Antigen\n",
      "[NOTE]:: Field empty: SARS-CoV-2 Antigen\n",
      "[NOTE]:: Field empty: SARS-CoV-2 Antigen\n",
      "[NOTE]:: Field empty: SARS-CoV-2 Antigen\n",
      "[NOTE]:: Field empty: SARS-CoV-2 Antigen\n",
      "[NOTE]:: Field empty: SARS-CoV-2 Antigen\n",
      "[NOTE]:: Field empty: SARS-CoV-2 Antigen\n",
      "35857635\n"
     ]
    },
    {
     "name": "stderr",
     "output_type": "stream",
     "text": [
      "/Users/liualg/opt/anaconda3/lib/python3.8/site-packages/openpyxl/worksheet/_read_only.py:79: UserWarning: Data Validation extension is not supported and will be removed\n",
      "  for idx, row in parser.parse():\n",
      "/Users/liualg/opt/anaconda3/lib/python3.8/site-packages/openpyxl/worksheet/_read_only.py:79: UserWarning: Data Validation extension is not supported and will be removed\n",
      "  for idx, row in parser.parse():\n"
     ]
    },
    {
     "name": "stdout",
     "output_type": "stream",
     "text": [
      "INFO:: [Fuzzy] Closest Match Found. Changing SARS-CoV-2 MA10 => SARS-CoV-2 MA10 [mouse adapted]\n",
      "[NOTE]:: Field empty: SARS-CoV-2 Vaccine Type - SUBJECT\n",
      "[NOTE]:: Field empty: SARS-CoV-2 Vaccine Type - SUBJECT\n",
      "[NOTE]:: Field empty: SARS-CoV-2 Vaccine Type - SUBJECT\n",
      "[NOTE]:: Field empty: SARS-CoV-2 Vaccine Type - SUBJECT\n",
      "[NOTE]:: Field empty: SARS-CoV-2 Vaccine Type - SUBJECT\n",
      "[NOTE]:: Field empty: SARS-CoV-2 Vaccine Type - SUBJECT\n",
      "INFO:: [Fuzzy] Closest Match Found. Changing SARS-CoV-2 MA10 => SARS-CoV-2 MA10 [mouse adapted]\n",
      "INFO:: [Fuzzy] Closest Match Found. Changing SARS-CoV-2 MA10 => SARS-CoV-2 MA10 [mouse adapted]\n",
      "INFO:: [Fuzzy] Closest Match Found. Changing SARS-CoV-2 MA10 => SARS-CoV-2 MA10 [mouse adapted]\n",
      "35857635\n",
      "INFO:: [Fuzzy] Closest Match Found. Changing SARS-CoV-2 MA10 => SARS-CoV-2 MA10 [mouse adapted]\n",
      "[NOTE]:: Field empty: SARS-CoV-2 Vaccine Type - SUBJECT\n",
      "[NOTE]:: Field empty: SARS-CoV-2 Vaccine Type - SUBJECT\n",
      "[NOTE]:: Field empty: SARS-CoV-2 Vaccine Type - SUBJECT\n",
      "[NOTE]:: Field empty: SARS-CoV-2 Vaccine Type - SUBJECT\n",
      "[NOTE]:: Field empty: SARS-CoV-2 Vaccine Type - SUBJECT\n",
      "[NOTE]:: Field empty: SARS-CoV-2 Vaccine Type - SUBJECT\n",
      "INFO:: [Fuzzy] Closest Match Found. Changing SARS-CoV-2 MA10 => SARS-CoV-2 MA10 [mouse adapted]\n",
      "INFO:: [Fuzzy] Closest Match Found. Changing SARS-CoV-2 MA10 => SARS-CoV-2 MA10 [mouse adapted]\n",
      "INFO:: [Fuzzy] Closest Match Found. Changing SARS-CoV-2 MA10 => SARS-CoV-2 MA10 [mouse adapted]\n",
      "35879545\n"
     ]
    },
    {
     "name": "stderr",
     "output_type": "stream",
     "text": [
      "/Users/liualg/opt/anaconda3/lib/python3.8/site-packages/openpyxl/worksheet/_read_only.py:79: UserWarning: Data Validation extension is not supported and will be removed\n",
      "  for idx, row in parser.parse():\n"
     ]
    },
    {
     "name": "stdout",
     "output_type": "stream",
     "text": [
      "[NOTE]:: Field empty: SARS-CoV-2 Vaccine Type - SUBJECT\n",
      "[NOTE]:: Field empty: SARS-CoV-2 Vaccine Type - SUBJECT\n",
      "[NOTE]:: Field empty: SARS-CoV-2 Vaccine Type - SUBJECT\n",
      "[NOTE]:: Field empty: SARS-CoV-2 Vaccine Type - SUBJECT\n",
      "[NOTE]:: Field empty: SARS-CoV-2 Vaccine Type - SUBJECT\n",
      "[NOTE]:: Field empty: SARS-CoV-2 Vaccine Type - SUBJECT\n",
      "[NOTE]:: Field empty: SARS-CoV-2 Vaccine Type - SUBJECT\n",
      "[NOTE]:: Field empty: SARS-CoV-2 Vaccine Type - SUBJECT\n",
      "[NOTE]:: Field empty: SARS-CoV-2 Antigen\n",
      "[NOTE]:: Field empty: SARS-CoV-2 Antigen\n",
      "36454813\n",
      "INFO:: [Fuzzy] Closest Match Found. Changing Nasal Swab => Nasal Swab or Nose Specimen\n",
      "INFO:: [Fuzzy] Closest Match Found. Changing Nasal Swab => Nasal Swab or Nose Specimen\n",
      "36680154\n",
      "INFO:: [Fuzzy] Closest Match Found. Changing SARS-CoV-2 MA10 => SARS-CoV-2 MA10 [mouse adapted]\n",
      "[NOTE]:: Field empty: SARS-CoV-2 Vaccine Type - SUBJECT\n",
      "[NOTE]:: Field empty: SARS-CoV-2 Vaccine Type - SUBJECT\n",
      "[NOTE]:: Field empty: SARS-CoV-2 Vaccine Type - SUBJECT\n",
      "[NOTE]:: Field empty: SARS-CoV-2 Vaccine Type - SUBJECT\n",
      "[NOTE]:: Field empty: SARS-CoV-2 Vaccine Type - SUBJECT\n",
      "[NOTE]:: Field empty: SARS-CoV-2 Vaccine Type - SUBJECT\n",
      "[NOTE]:: Field empty: SARS-CoV-2 Antigen\n",
      "Previous Input: Biospecimen Collection Point, Post-infection => Other\n",
      "[NOTE]:: Field empty: SARS-CoV-2 Antigen\n",
      "Previous Input: Biospecimen Collection Point, Post-infection => Other\n",
      "[NOTE]:: Field empty: SARS-CoV-2 Antigen\n"
     ]
    },
    {
     "name": "stderr",
     "output_type": "stream",
     "text": [
      "/Users/liualg/opt/anaconda3/lib/python3.8/site-packages/openpyxl/worksheet/_read_only.py:79: UserWarning: Data Validation extension is not supported and will be removed\n",
      "  for idx, row in parser.parse():\n",
      "/Users/liualg/opt/anaconda3/lib/python3.8/site-packages/openpyxl/worksheet/_read_only.py:79: UserWarning: Data Validation extension is not supported and will be removed\n",
      "  for idx, row in parser.parse():\n"
     ]
    }
   ],
   "source": [
    "for PMID in PMID_LIST:\n",
    "    PMID = str(PMID)\n",
    "    print(PMID)\n",
    "    \n",
    "    BASE_DIR = serofxn.get_box_dir(box_dir, PMID)\n",
    "#     print(box_dir)\n",
    "    df_path = glob(os.path.join(BASE_DIR,'templated_data',f'PMID{PMID}*.xlsm'))[0]\n",
    "\n",
    "    output_file = os.path.join(out_dir, f'PMID{PMID}_JSON-02.{file_type}')\n",
    "    df = pd.read_excel(df_path, sheet_name = 0, header=None)\n",
    "    df.index += 1\n",
    "    template = {}\n",
    "    pt.parse_registry_template(df, template)\n",
    "\n",
    "    f = open(output_file, \"w\")\n",
    "    print(json.dumps(template, indent=4), file = f)\n",
    "    f.close()"
   ]
  },
  {
   "cell_type": "code",
   "execution_count": 20,
   "id": "2c53f6a1",
   "metadata": {},
   "outputs": [
    {
     "data": {
      "text/plain": [
       "Index(['clinical_trial', 'gender', 'ethnicity', 'brief_title',\n",
       "       'initial_data_release_version_number', 'program_name',\n",
       "       'latest_data_release_version', 'arm_name', 'lab_test_panel_count',\n",
       "       'assay_method_count', 'clinicaltrials_link', 'pubmed_id', 'age_range',\n",
       "       'planned_visit_total_count', 'arm_accession', 'minimum_age',\n",
       "       'has_lab_test', 'latest_data_release_date', 'gender_included',\n",
       "       'analyte_preferred_count', 'maximum_age', 'research_focus',\n",
       "       'contract_grant_external_id', 'latest_data_release_version_number',\n",
       "       'race', 'actual_enrollment', 'initial_data_release_date',\n",
       "       'brief_description', 'biosample_type', 'shared_subject_count',\n",
       "       'max_age', 'study_accession', 'contract_grant_name', 'study_pi',\n",
       "       'species', 'initial_data_release_version', 'condition_or_disease',\n",
       "       'has_assessment', 'assessment_panel_count', 'age_unit', 'assay_method',\n",
       "       'min_age', 'doi'],\n",
       "      dtype='object')"
      ]
     },
     "execution_count": 20,
     "metadata": {},
     "output_type": "execute_result"
    }
   ],
   "source": [
    "# finding Study ID for immport\n",
    "df = pd.read_csv('/Users/liualg/Downloads/ImmPort_study_download_map.csv')\n",
    "df.columns"
   ]
  },
  {
   "cell_type": "code",
   "execution_count": 21,
   "id": "ca029477",
   "metadata": {},
   "outputs": [
    {
     "name": "stdout",
     "output_type": "stream",
     "text": [
      "SDY1803\n",
      "SDY1816\n",
      "SDY1812\n",
      "SDY1809\n",
      "SDY1781\n",
      "SDY1818\n",
      "SDY1870\n",
      "SDY1821\n",
      "SDY1819\n",
      "SDY1829\n",
      "SDY1850\n",
      "SDY1813\n",
      "SDY1800\n",
      "SDY1810\n",
      "SDY1965\n",
      "SDY1849\n",
      "SDY2176\n",
      "SDY2052\n",
      "SDY1868\n",
      "SDY1798\n",
      "SDY1815\n",
      "SDY1976\n",
      "SDY2167\n",
      "SDY1840\n",
      "SDY1973\n",
      "SDY2043\n",
      "SDY1852\n",
      "SDY2168\n",
      "SDY1969\n",
      "SDY1835\n",
      "SDY2041\n",
      "SDY1851\n",
      "SDY1832\n",
      "SDY2125\n",
      "SDY1831\n",
      "SDY1963\n",
      "SDY2044\n",
      "SDY2117\n",
      "SDY2173\n",
      "SDY2040\n",
      "SDY2133\n",
      "SDY2118\n",
      "SDY1916\n",
      "SDY2114\n",
      "SDY2141\n",
      "SDY1975\n",
      "SDY2047\n",
      "SDY2108\n",
      "SDY1962\n",
      "SDY1977\n",
      "SDY1947\n",
      "SDY2172\n",
      "SDY1927\n",
      "SDY1967\n",
      "SDY1964\n",
      "SDY1917\n",
      "SDY1932\n",
      "SDY1978\n",
      "SDY1972\n",
      "SDY1945\n",
      "None\n",
      "SDY1974\n",
      "SDY2037\n",
      "SDY2039\n",
      "SDY2038\n",
      "SDY2121\n",
      "SDY2130\n",
      "SDY2119\n",
      "SDY2126\n",
      "SDY2171\n",
      "SDY2036\n",
      "SDY1966\n",
      "SDY2035\n",
      "SDY2053\n",
      "SDY2111\n",
      "SDY2115\n",
      "SDY2174\n",
      "SDY2042\n",
      "SDY2034\n",
      "SDY2113\n",
      "SDY2033\n",
      "SDY2024\n",
      "SDY2116\n",
      "SDY2012\n",
      "SDY2134\n",
      "SDY2026\n",
      "SDY2170\n",
      "SDY2122\n",
      "SDY2124\n",
      "SDY2045\n",
      "SDY2175\n",
      "SDY2129\n",
      "SDY2169\n",
      "SDY2131\n",
      "SDY2132\n",
      "SDY2166\n",
      "SDY2127\n",
      "SDY2135\n"
     ]
    }
   ],
   "source": [
    "SDY_PMID_MAP = dict(zip(df['pubmed_id'],df['study_accession']))\n",
    "THELIST = [\n",
    "33035201, 33065030, 33142304, 33160316, 33169014, 33276369, 33408181, 33440148, 33472939, 33478949, 33479118, 33521695, 33571162, 33602725, 33622794, 33666169, 33688034, 33704352, 33727353, 33743211, 33830946, 33846272, 33915337, 33961839, 33993265, 34001652, 34003112, 34047304, 34086877, 34095338, 34107529, 34130883, 34145263, 34150933, 34151306, 34161961, 34250512, 34250518, 34253053, 34260834, 34308390, 34320281, 34353890, 34368647, 34383889, 34452006, 34523968, 34546094, 34652783, 34687893, 34696403, 34706273, 34730254, 34759001, 34794169, 34802457, 34835131, 34877479, 34910927, 34921308, 34937699, 34952892, 35013325, 35025672, 35040666, 35061630, 35081612, 35085183, 35090596, 35092678, 35129576, 35132398, 35143473, 35148837, 35180044, 35284808, 35289114, 35289637, 35348368, 35390296, 35427477, 35455241, 35483404, 35504289, 35576468, 35589681, 35632708, 35704428, 35756977, 35764643, 35795812, 35839768, 35877413, 35881005, 35881010, 35915094, 35932763, 36058184]\n",
    "for i in THELIST:\n",
    "    i = str(i)\n",
    "    print(SDY_PMID_MAP.get(i))"
   ]
  },
  {
   "cell_type": "code",
   "execution_count": 19,
   "id": "ff9e35a1",
   "metadata": {},
   "outputs": [],
   "source": [
    "# SDY_PMID_MAP"
   ]
  },
  {
   "cell_type": "code",
   "execution_count": null,
   "id": "828eccda",
   "metadata": {},
   "outputs": [],
   "source": [
    "# ----- TESTING CODE -------"
   ]
  },
  {
   "cell_type": "markdown",
   "id": "871cb17b",
   "metadata": {},
   "source": [
    "1# "
   ]
  }
 ],
 "metadata": {
  "kernelspec": {
   "display_name": "Python 3 (ipykernel)",
   "language": "python",
   "name": "python3"
  },
  "language_info": {
   "codemirror_mode": {
    "name": "ipython",
    "version": 3
   },
   "file_extension": ".py",
   "mimetype": "text/x-python",
   "name": "python",
   "nbconvert_exporter": "python",
   "pygments_lexer": "ipython3",
   "version": "3.8.16"
  }
 },
 "nbformat": 4,
 "nbformat_minor": 5
}
