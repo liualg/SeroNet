{
 "cells": [
  {
   "cell_type": "code",
   "execution_count": 1,
   "id": "f7c7dc41",
   "metadata": {},
   "outputs": [],
   "source": [
    "import pandas as pd \n",
    "import numpy as np\n",
    "import os\n",
    "\n",
    "from dataclasses import dataclass, field\n",
    "import openpyxl\n",
    "from openpyxl import load_workbook, Workbook\n",
    "from openpyxl.utils.dataframe import dataframe_to_rows\n",
    "\n",
    "warnings = 0\n",
    "warn = 0\n"
   ]
  },
  {
   "cell_type": "code",
   "execution_count": 2,
   "id": "3c8a3d8f",
   "metadata": {},
   "outputs": [],
   "source": [
    "# Creating a class for each part in the Excel Doc. \n",
    "# have a defult NA\n",
    "@dataclass\n",
    "class study:\n",
    "    \"\"\"1 Column to the right\"\"\"\n",
    "    Study_Identifier: str\n",
    "    Study_Name: str\n",
    "    Publication_Title: str\n",
    "    Study_Objective: str\n",
    "    Description: str\n",
    "    SARS_CoV_2_Vaccine_Type: str\n",
    "    Assay_Type: str\n",
    "    Primary_Institution_Name: str\n",
    "    Age_Unit: str\n",
    "    Enrollment_Start_Date: str = None\n",
    "    Clinical_Outcome_Measure: str = None\n",
    "    Study_Type: str = None\n",
    "    Number_of_Study_Subjects: str = None\n",
    "    Minimum_Age: int = None\n",
    "    Maximum_Age: int = None\n",
    "\n",
    "@dataclass\n",
    "class study_categorization:\n",
    "    \"\"\"1 Column to the right\"\"\"\n",
    "    Research_Focus: str\n",
    "\n",
    "@dataclass\n",
    "class study_2_condition_or_disease:\n",
    "    \"\"\"1 Column to the right\"\"\"\n",
    "    Reported_Health_Condition: str\n",
    "        \n",
    "@dataclass\n",
    "class arm_or_cohort: #these can be a list, or we can do multiple ones \n",
    "    \"\"\"1 row below, 4 Columns\"\"\"\n",
    "    User_Defined_ID: list\n",
    "    Name: list\n",
    "    Description: list\n",
    "    Type: list\n",
    "\n",
    "@dataclass\n",
    "class study_personnel:\n",
    "    \"\"\"1 row below, 11 Columns\"\"\"\n",
    "    User_Defined_ID: list \n",
    "    Honorific: list = None\n",
    "    Last_Name: list = field(default_factory=list)\n",
    "    First_Name: list = field(default_factory=list)\n",
    "    Suffixes: list = None\n",
    "    Organization: list = field(default_factory=list)\n",
    "    ORCID_ID: list = None\n",
    "    Email: list = field(default_factory=list)\n",
    "    Title_In_Study: list = field(default_factory=list)\n",
    "    Role_In_Study: list = field(default_factory=list)\n",
    "    Site_Name: list = field(default_factory=list)\n",
    "\n",
    "@dataclass\n",
    "class planned_visit:\n",
    "    \"\"\"1 row below, 7 Columns\"\"\"\n",
    "    User_Defined_ID: list = field(default_factory=list)\n",
    "    Name: list = field(default_factory=list)\n",
    "    Order_Number: list = field(default_factory=list)\n",
    "    Min_Start_Day: list = field(default_factory=list)\n",
    "    Max_Start_Day: list = None\n",
    "    Start_Rule: list = None\n",
    "    End_Rule: list = None\n",
    "\n",
    "@dataclass\n",
    "class inclusion_exclusion:\n",
    "    \"\"\"1 row below, 3 Columns\"\"\"\n",
    "    User_Defined_ID: list\n",
    "    Criterion: list = field(default_factory=list)\n",
    "    Criterion_Category: list = field(default_factory=list)\n",
    "    \n",
    "@dataclass\n",
    "class study_2_protocol:\n",
    "    \"\"\"1 column to the right\"\"\"\n",
    "    Protocol_ID: str\n",
    "        \n",
    "@dataclass\n",
    "class study_file:\n",
    "    File_Name: list = field(default_factory=list)\n",
    "    Description: list = field(default_factory=list)\n",
    "    Study_File_Type: list = field(default_factory=list)\n",
    "        \n",
    "@dataclass\n",
    "class study_link:\n",
    "    Name: list = field(default_factory=list)\n",
    "    Value: list = field(default_factory=list)\n",
    "        \n",
    "@dataclass\n",
    "class study_pubmed:\n",
    "    Pubmed_ID: int\n",
    "\n",
    "@dataclass\n",
    "class protocols:\n",
    "    User_Defined_ID: str\n",
    "    File_Name: str\n",
    "    Name: str\n",
    "    Description: str = None\n",
    "    Type: str = None\n",
    "        \n",
    "@dataclass\n",
    "class UNMAPPED_FIELDS:\n",
    "    Enrollment_End_Date: str = None\n",
    "    Keyword: list  = None\n",
    "    Clinical_Study_Design: str = None\n",
    "    in_silico_Model_Type: str = None"
   ]
  },
  {
   "cell_type": "code",
   "execution_count": 3,
   "id": "92e9d777",
   "metadata": {},
   "outputs": [],
   "source": [
    "# Return start index for each section in the SeroNet Registry Template \n",
    "def get_sections(df, class_names):\n",
    "    temp = []\n",
    "    for i in range(1,df.max_row):\n",
    "        if df[\"A\"][i].value in class_names:\n",
    "            temp.append(i+1)\n",
    "    return temp\n"
   ]
  },
  {
   "cell_type": "code",
   "execution_count": 4,
   "id": "5150f451",
   "metadata": {},
   "outputs": [],
   "source": [
    "# Return column of data based off a range\n",
    "def get_col(df, col, range1, range2):\n",
    "    return list(filter(None, [df[row][col].value for row in range(range1,range2)]))"
   ]
  },
  {
   "cell_type": "code",
   "execution_count": 5,
   "id": "6712eb94",
   "metadata": {},
   "outputs": [],
   "source": [
    "# Class names\n",
    "class_names = ['study', 'study_categorization', 'study_2_condition_or_disease', 'arm_or_cohort',\n",
    "              'study_personnel', 'planned_visit', 'inclusion_exclusion', 'study_2_protocol',\n",
    "              'study_file', 'study_link', 'study_pubmed', 'protocols', 'UNMAPPED FIELDS']"
   ]
  },
  {
   "cell_type": "code",
   "execution_count": 6,
   "id": "593bb1da",
   "metadata": {},
   "outputs": [
    {
     "name": "stderr",
     "output_type": "stream",
     "text": [
      "/Users/liualg/opt/anaconda3/lib/python3.8/site-packages/openpyxl/worksheet/_reader.py:312: UserWarning: Data Validation extension is not supported and will be removed\n",
      "  warn(msg)\n"
     ]
    }
   ],
   "source": [
    "# directory Information\n",
    "sep = os.path.sep\n",
    "parent = \"33993265\"\n",
    "file = \"PMID\" + parent\n",
    "\n",
    "sheet_name = \"SeroNet Registry Template\"\n",
    "df_path = \".\" + sep + parent + sep + file + \".xlsx\"\n",
    "\n",
    "# import file\n",
    "book = load_workbook(df_path)\n",
    "registry = book[sheet_name]\n"
   ]
  },
  {
   "cell_type": "code",
   "execution_count": 7,
   "id": "8a612c0a",
   "metadata": {},
   "outputs": [],
   "source": [
    "sp = get_sections(registry, class_names)"
   ]
  },
  {
   "cell_type": "code",
   "execution_count": 8,
   "id": "da95023f",
   "metadata": {},
   "outputs": [],
   "source": [
    "# Study\n",
    "study1 = study(\n",
    "    get_col(registry, 1, sp[0], sp[1])[0],\n",
    "    get_col(registry, 1, sp[0], sp[1])[1],\n",
    "    get_col(registry, 1, sp[0], sp[1])[2],\n",
    "    get_col(registry, 1, sp[0], sp[1])[3],\n",
    "    get_col(registry, 1, sp[0], sp[1])[4],\n",
    "    get_col(registry, 1, sp[0], sp[1])[5],\n",
    "    get_col(registry, 1, sp[0], sp[1])[6],\n",
    "    get_col(registry, 1, sp[0], sp[1])[7],\n",
    "    get_col(registry, 1, sp[0], sp[1])[8])\n",
    "\n",
    "# study_categorization\n",
    "study_cat = study_categorization(\n",
    "    get_col(registry, 1, sp[1], sp[2])[0])\n",
    "\n",
    "# study_2_condition_or_disease\n",
    "stdy_c_d = study_2_condition_or_disease(\n",
    "    get_col(registry, 1, sp[2], sp[3])[0]\n",
    ")\n",
    "\n",
    "# arm_or_cohort\n",
    "a_or_c = arm_or_cohort(\n",
    "    get_col(registry, 1, sp[3]+2, sp[4]),\n",
    "    get_col(registry, 2, sp[3]+2, sp[4]),\n",
    "    get_col(registry, 3, sp[3]+2, sp[4]),\n",
    "    get_col(registry, 4, sp[3]+2, sp[4])\n",
    ")\n",
    "\n",
    "#study_personnel\n",
    "stdy_person = study_personnel(\n",
    "    get_col(registry, 0, sp[4]+2, sp[5]),\n",
    "    get_col(registry, 1, sp[4]+2, sp[5]),\n",
    "    get_col(registry, 2, sp[4]+2, sp[5]),\n",
    "    get_col(registry, 3, sp[4]+2, sp[5]),\n",
    "    get_col(registry, 4, sp[4]+2, sp[5]),\n",
    "    get_col(registry, 5, sp[4]+2, sp[5]),\n",
    "    get_col(registry, 6, sp[4]+2, sp[5]),\n",
    "    get_col(registry, 7, sp[4]+2, sp[5]),\n",
    "    get_col(registry, 8, sp[4]+2, sp[5]),\n",
    "    get_col(registry, 9, sp[4]+2, sp[5]),\n",
    "    get_col(registry, 10, sp[4]+2, sp[5])\n",
    ")\n",
    "\n",
    "#planned_visit\n",
    "plan_visit = planned_visit(\n",
    "    get_col(registry, 0, sp[5]+2, sp[6]),\n",
    "    get_col(registry, 1, sp[5]+2, sp[6]),\n",
    "    get_col(registry, 2, sp[5]+2, sp[6]),\n",
    "    get_col(registry, 3, sp[5]+2, sp[6]),\n",
    "    get_col(registry, 4, sp[5]+2, sp[6]),\n",
    "    get_col(registry, 5, sp[5]+2, sp[6]),\n",
    "    get_col(registry, 6, sp[5]+2, sp[6])\n",
    ")\n",
    "\n",
    "#inclusion_exclusion\n",
    "in_ex = inclusion_exclusion(\n",
    "    get_col(registry, 0, sp[6]+2, sp[7]),\n",
    "    get_col(registry, 1, sp[6]+2, sp[7]),\n",
    "    get_col(registry, 2, sp[6]+2, sp[7])\n",
    ")\n",
    "\n",
    "#study_2_protocol\n",
    "stdy_2_protocol = study_2_protocol(\n",
    "    get_col(registry, 1, sp[7], sp[8])\n",
    ")\n",
    "\n",
    "#study_file\n",
    "stdy_file = study_file(\n",
    "    get_col(registry, 0, sp[8]+2, sp[9]),\n",
    "    get_col(registry, 1, sp[8]+2, sp[9]),\n",
    "    get_col(registry, 2, sp[8]+2, sp[9])\n",
    ")\n",
    "\n",
    "#study_link\n",
    "stdy_link = study_link(\n",
    "    get_col(registry, 0, sp[9]+2, sp[10]),\n",
    "    get_col(registry, 1, sp[9]+2, sp[10])\n",
    ")\n",
    "\n",
    "#study_pubmed\n",
    "pmid = study_pubmed(\n",
    "    get_col(registry, 0, sp[10]+2, sp[11])\n",
    ")\n",
    "\n",
    "#protocols\n",
    "protocol = protocols(\n",
    "    \"\".join(get_col(registry, 0, sp[11]+2, sp[12])),\n",
    "    \"\".join(get_col(registry, 1, sp[11]+2, sp[12])),\n",
    "    \"\".join(get_col(registry, 2, sp[11]+2, sp[12])),\n",
    "    \"\".join(get_col(registry, 3, sp[11]+2, sp[12])),\n",
    "    \"\".join(get_col(registry, 4, sp[11]+2, sp[12]))\n",
    ")\n",
    "\n",
    "#UNMAPPED FIELDS\n",
    "unmapped = UNMAPPED_FIELDS(\n",
    "    get_col(registry, 1, sp[12]+2, registry.max_row)\n",
    ")"
   ]
  },
  {
   "cell_type": "code",
   "execution_count": 11,
   "id": "12a7e1d5",
   "metadata": {},
   "outputs": [],
   "source": [
    "# Openpyxl will read in all the empty spaces as data. This function will return \n",
    "# the row index that actaully has data (not None)\n",
    "def find_header_index(sheet):\n",
    "    count = 0\n",
    "    row_index = 1\n",
    "\n",
    "    for row in sheet.iter_rows():\n",
    "        if [cell.value for cell in row] == [None]*sheet.max_column:\n",
    "            break\n",
    "        row_index += 1\n",
    "    \n",
    "    return row_index"
   ]
  },
  {
   "cell_type": "code",
   "execution_count": 12,
   "id": "406bc2d2",
   "metadata": {},
   "outputs": [],
   "source": [
    "# Printing Openpyxl object. Got tired of making the code\n",
    "def print_sheet(sheet):\n",
    "    for row in sheet.iter_rows(min_row=0,\n",
    "                               max_col=sheet.max_column,\n",
    "                               max_row= sheet.max_row,\n",
    "                               values_only=True):\n",
    "        print(row)"
   ]
  },
  {
   "cell_type": "code",
   "execution_count": null,
   "id": "db3a9644",
   "metadata": {},
   "outputs": [],
   "source": [
    "# add automate validation -- talk to Mani and Elaine\n",
    "#   - error reporting through classes \n",
    "# no empty cell \n",
    "# date format (datetime) yyyy-mm-dd\n",
    "# Error reporting \n"
   ]
  },
  {
   "cell_type": "code",
   "execution_count": 13,
   "id": "3646f998",
   "metadata": {},
   "outputs": [
    {
     "name": "stdout",
     "output_type": "stream",
     "text": [
      "Rows before removing: 200\n",
      "Rows after removing: 3\n"
     ]
    }
   ],
   "source": [
    "# Fill protocol template\n",
    "protocol_path = \"./template/protocols.xlsx\"\n",
    "# import file\n",
    "ws = load_workbook(protocol_path)['protocols.txt']\n",
    "\n",
    "print(\"Rows before removing:\", ws.max_row)\n",
    "\n",
    "ws.delete_rows(find_header_index(ws),ws.max_row)\n",
    "    \n",
    "print(\"Rows after removing:\",ws.max_row)\n",
    "new_row = [\"\", protocol.User_Defined_ID, protocol.File_Name, protocol.Description, protocol.Type]\n",
    "ws.append(new_row)"
   ]
  },
  {
   "cell_type": "code",
   "execution_count": 14,
   "id": "affddf2e",
   "metadata": {},
   "outputs": [
    {
     "data": {
      "text/plain": [
       "<generator object Worksheet.values at 0x7f7f89c46a50>"
      ]
     },
     "execution_count": 14,
     "metadata": {},
     "output_type": "execute_result"
    }
   ],
   "source": [
    "ws.values"
   ]
  },
  {
   "cell_type": "code",
   "execution_count": 15,
   "id": "9a215c0e",
   "metadata": {},
   "outputs": [
    {
     "name": "stdout",
     "output_type": "stream",
     "text": [
      "('protocols', 'Schema Version 3.33', None, None, None, None)\n",
      "('Please do not delete or edit this column', None, None, None, None, None)\n",
      "('Column Name', 'User Defined ID', 'File Name', 'Name', 'Description', 'Type')\n",
      "('', 'PMID33993265_protocol-01', 'PMID33993265_protocol-01.txt', '', '', None)\n"
     ]
    }
   ],
   "source": [
    "for row in ws.iter_rows(min_row=0,\n",
    "                        max_col=ws.max_column,\n",
    "                        max_row= ws.max_row,\n",
    "                        values_only=True):\n",
    "    print(row)"
   ]
  },
  {
   "cell_type": "code",
   "execution_count": 113,
   "id": "e5fa11fb",
   "metadata": {},
   "outputs": [],
   "source": [
    "# pd.DataFrame(ws.values).to_excel(\"./temp2.xlsx\")"
   ]
  }
 ],
 "metadata": {
  "kernelspec": {
   "display_name": "Python 3",
   "language": "python",
   "name": "python3"
  },
  "language_info": {
   "codemirror_mode": {
    "name": "ipython",
    "version": 3
   },
   "file_extension": ".py",
   "mimetype": "text/x-python",
   "name": "python",
   "nbconvert_exporter": "python",
   "pygments_lexer": "ipython3",
   "version": "3.8.8"
  }
 },
 "nbformat": 4,
 "nbformat_minor": 5
}
