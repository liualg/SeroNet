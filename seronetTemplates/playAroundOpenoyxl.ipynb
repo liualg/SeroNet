{
 "cells": [
  {
   "cell_type": "markdown",
   "id": "118883c2",
   "metadata": {},
   "source": [
    "#### notes with Anjan ###\n",
    "Anjan Notes:\n",
    "1 work book to give to the PI. \n",
    "- Demographic \n",
    "- Clinical history (clicilc ID being the 1st var)\n",
    "- Assay result \n",
    "- Assay information \n",
    "- …. etc. \n",
    "\n",
    "** check back in next week **\n",
    "\n",
    "Code Is in file/doc/… \n",
    "\n",
    "Df = pd.read_excel(“file.xlsx”, sheet_name = None, engine = ‘openpyxl’)\n",
    "\n",
    "pd.read_csv(“./file.txt”, sep= \\t, Header = 2) \n",
    "\n",
    "Submitter data frame and concate them together in the correct order that aligns them to the ImmPort datagram\n",
    "\n",
    "(User friendly, universal template) -> mapping scheme \n",
    "\n",
    "\n",
    "— — — \n",
    "Research the template to maintain rows 1 and 2, while being able to manipulate rows 3 and below (openpyxl).  \n",
    "\t- merge \n",
    "\n",
    "Or\n",
    "\n",
    "Save pd as is, and then write another code that will add those lines post (pandas) "
   ]
  },
  {
   "cell_type": "code",
   "execution_count": 270,
   "id": "ac3b28ea",
   "metadata": {},
   "outputs": [],
   "source": [
    "import pandas as pd \n",
    "import numpy as np\n",
    "from openpyxl import load_workbook\n",
    "from openpyxl.utils.dataframe import dataframe_to_rows\n",
    "\n",
    "warnings = 0"
   ]
  },
  {
   "cell_type": "code",
   "execution_count": 292,
   "id": "ac3658a6",
   "metadata": {},
   "outputs": [
    {
     "name": "stderr",
     "output_type": "stream",
     "text": [
      "/Users/liualg/opt/anaconda3/envs/dataMapper/lib/python3.9/site-packages/openpyxl/worksheet/_reader.py:312: UserWarning: Data Validation extension is not supported and will be removed\n",
      "  warn(msg)\n"
     ]
    },
    {
     "data": {
      "text/plain": [
       "dict_keys(['demographic', 'clinical_history', 'assay_result', 'assay_information', 'Value_Lists'])"
      ]
     },
     "execution_count": 292,
     "metadata": {},
     "output_type": "execute_result"
    }
   ],
   "source": [
    "PI_df = pd.read_excel(\"./20211202_immport-template-mapper/docs/seronet-data-submission-template.xlsx\",\n",
    "                     sheet_name = None,\n",
    "                      engine = 'openpyxl')\n",
    "PI_df.keys()"
   ]
  },
  {
   "cell_type": "code",
   "execution_count": 293,
   "id": "11182fa1",
   "metadata": {
    "scrolled": true
   },
   "outputs": [
    {
     "data": {
      "text/html": [
       "<div>\n",
       "<style scoped>\n",
       "    .dataframe tbody tr th:only-of-type {\n",
       "        vertical-align: middle;\n",
       "    }\n",
       "\n",
       "    .dataframe tbody tr th {\n",
       "        vertical-align: top;\n",
       "    }\n",
       "\n",
       "    .dataframe thead th {\n",
       "        text-align: right;\n",
       "    }\n",
       "</style>\n",
       "<table border=\"1\" class=\"dataframe\">\n",
       "  <thead>\n",
       "    <tr style=\"text-align: right;\">\n",
       "      <th></th>\n",
       "      <th>subject_id</th>\n",
       "      <th>age</th>\n",
       "      <th>race</th>\n",
       "      <th>ethnicity</th>\n",
       "      <th>sex</th>\n",
       "      <th>marital status</th>\n",
       "      <th>pregnancy_status</th>\n",
       "      <th>state</th>\n",
       "      <th>region</th>\n",
       "    </tr>\n",
       "  </thead>\n",
       "  <tbody>\n",
       "    <tr>\n",
       "      <th>0</th>\n",
       "      <td>S123456</td>\n",
       "      <td>12</td>\n",
       "      <td>White</td>\n",
       "      <td>Not Hispanic or Latino</td>\n",
       "      <td>Male</td>\n",
       "      <td>Y</td>\n",
       "      <td>Y</td>\n",
       "      <td>AR</td>\n",
       "      <td>1.0</td>\n",
       "    </tr>\n",
       "    <tr>\n",
       "      <th>1</th>\n",
       "      <td>S123457</td>\n",
       "      <td>23</td>\n",
       "      <td>American Indian or Alaska Native</td>\n",
       "      <td>Not Hispanic or Latino</td>\n",
       "      <td>Female</td>\n",
       "      <td>N</td>\n",
       "      <td>N</td>\n",
       "      <td>MD</td>\n",
       "      <td>3.0</td>\n",
       "    </tr>\n",
       "  </tbody>\n",
       "</table>\n",
       "</div>"
      ],
      "text/plain": [
       "  subject_id  age                              race               ethnicity  \\\n",
       "0    S123456   12                             White  Not Hispanic or Latino   \n",
       "1    S123457   23  American Indian or Alaska Native  Not Hispanic or Latino   \n",
       "\n",
       "      sex marital status pregnancy_status state  region  \n",
       "0    Male              Y                Y    AR     1.0  \n",
       "1  Female              N                N    MD     3.0  "
      ]
     },
     "execution_count": 293,
     "metadata": {},
     "output_type": "execute_result"
    }
   ],
   "source": [
    "PI_df['demographic'].head(2)"
   ]
  },
  {
   "cell_type": "code",
   "execution_count": 294,
   "id": "bf5af9cc",
   "metadata": {},
   "outputs": [],
   "source": [
    "parent = \"./20211202_immport-template-mapper/docs/ImmPortTemplates/excel-templates/\"\n",
    "file = \"ELISPOT_Results\"\n",
    "df_path = parent + file + \".xlsx\""
   ]
  },
  {
   "cell_type": "code",
   "execution_count": 296,
   "id": "72baafea",
   "metadata": {},
   "outputs": [],
   "source": [
    "def column_header_index(sheet):\n",
    "    count = 0\n",
    "    row_index = 1\n",
    "\n",
    "    for row in sheet.iter_rows():\n",
    "        if [cell.value for cell in row] == [None]*sheet.max_column:\n",
    "            break\n",
    "        row_index += 1\n",
    "    \n",
    "    return row_index\n",
    "    "
   ]
  },
  {
   "cell_type": "code",
   "execution_count": 297,
   "id": "bb8b1e64",
   "metadata": {},
   "outputs": [
    {
     "name": "stdout",
     "output_type": "stream",
     "text": [
      "Rows before removing: 200\n",
      "Rows after removing: 3\n"
     ]
    },
    {
     "name": "stderr",
     "output_type": "stream",
     "text": [
      "/Users/liualg/opt/anaconda3/envs/dataMapper/lib/python3.9/site-packages/openpyxl/styles/stylesheet.py:226: UserWarning: Workbook contains no default style, apply openpyxl's default\n",
      "  warn(\"Workbook contains no default style, apply openpyxl's default\")\n"
     ]
    }
   ],
   "source": [
    "book = openpyxl.load_workbook(df_path)\n",
    "  \n",
    "# select the sheet\n",
    "sheet = book[f'{file}.txt']\n",
    "\n",
    "print(\"Rows before removing:\", sheet.max_row)\n",
    "\n",
    "sheet.delete_rows(column_header_index(sheet),sheet.max_row)\n",
    "    \n",
    "print(\"Rows after removing:\",sheet.max_row)"
   ]
  },
  {
   "cell_type": "code",
   "execution_count": 298,
   "id": "b533fac3",
   "metadata": {},
   "outputs": [],
   "source": [
    "# for r in test_matric:\n",
    "#     sheet.append(r)\n",
    "    \n",
    "for r in dataframe_to_rows(PI_df['demographic'], index=True, header=False):\n",
    "    sheet.append(r)"
   ]
  },
  {
   "cell_type": "code",
   "execution_count": 299,
   "id": "a28f89b9",
   "metadata": {},
   "outputs": [
    {
     "name": "stdout",
     "output_type": "stream",
     "text": [
      "('elispot_results', 'Schema Version 3.32', None, None, None, None, None, None, None, None)\n",
      "('Please do not delete or edit this column', None, None, None, None, None, None, None, None, None)\n",
      "('Column Name', 'Expsample ID', 'Analyte Reported', 'Spot Number Reported', 'Cell Number Reported', 'Comments', None, None, None, None)\n",
      "(None, None, None, None, None, None, None, None, None, None)\n",
      "(0, 'S123456', 12, 'White', 'Not Hispanic or Latino', 'Male', 'Y', 'Y', 'AR', 1.0)\n",
      "(1, 'S123457', 23, 'American Indian or Alaska Native', 'Not Hispanic or Latino', 'Female', 'N', 'N', 'MD', 3.0)\n",
      "(2, 'S123458', 34, 'Black or African American', 'Hispanic or Latino', 'Other', 'Y', 'Y', 'DE', 4.0)\n",
      "(3, 'S123459', 45, 'Asian', 'Not Hispanic or Latino', 'Not Reported', 'Y', 'N', 'NY', 6.0)\n",
      "(4, 'S123460', 56, 'Native Hawaiian or Other Pacific Islander', 'Not Hispanic or Latino', 'Unknown', 'Y', 'Y', 'MD', 5.0)\n",
      "(5, 'S123461', 67, 'Other', 'Not Hispanic or Latino', 'Male', 'N', 'N', 'AR', nan)\n",
      "(6, 'S123462', 78, 'Multirace', 'Not Hispanic or Latino', 'Female', 'Y', nan, 'NY', 2.0)\n",
      "(7, 'S123463', 89, 'Unknown', 'Not Hispanic or Latino', 'Other', 'Y', 'Y', 'NY', 1.0)\n",
      "(8, 'S123464', 90, 'Not Reported', 'Not Hispanic or Latino', 'Not Reported', 'N', 'N', 'MD', 4.0)\n"
     ]
    }
   ],
   "source": [
    "for row in sheet.iter_rows(min_row=0,\n",
    "                               max_col=sheet.max_column,\n",
    "                               max_row= sheet.max_row,\n",
    "                               values_only=True):\n",
    "    print(row)"
   ]
  },
  {
   "cell_type": "code",
   "execution_count": null,
   "id": "d4900401",
   "metadata": {},
   "outputs": [],
   "source": []
  }
 ],
 "metadata": {
  "kernelspec": {
   "display_name": "Python 3",
   "language": "python",
   "name": "python3"
  },
  "language_info": {
   "codemirror_mode": {
    "name": "ipython",
    "version": 3
   },
   "file_extension": ".py",
   "mimetype": "text/x-python",
   "name": "python",
   "nbconvert_exporter": "python",
   "pygments_lexer": "ipython3",
   "version": "3.8.8"
  }
 },
 "nbformat": 4,
 "nbformat_minor": 5
}
