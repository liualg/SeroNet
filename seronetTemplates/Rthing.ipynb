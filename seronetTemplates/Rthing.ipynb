{
 "cells": [
  {
   "cell_type": "code",
   "execution_count": null,
   "id": "42bee568-5f8c-4217-b847-f00397c3c827",
   "metadata": {},
   "outputs": [],
   "source": [
    "library(dplyr)\n",
    "library(Dict)\n",
    "library(outbreakinfo)\n",
    "authenticateUser()\n"
   ]
  },
  {
   "cell_type": "code",
   "execution_count": null,
   "id": "83d85978-33f2-4343-a797-255b79c367b5",
   "metadata": {},
   "outputs": [],
   "source": [
    "\n",
    "states=c(\"New York\",\"Arizona\", \"Minnesota\") #THESE STATES, \n",
    "states=c(\"Connecticut\",\"Iowa\",\"Minnesota\",\"Michigan\",\"North Dakota\", \"New Jersey\", \"Oklahoma\", \"Pennsylvania\", \"Rhode Island\", \"Wisconsin\",\"New York\",\"Arizona\",\"South Dakota\")\n",
    "states=c(\"Minnesota\",\"Michigan\",\"North Dakota\", \"New Jersey\", \"Oklahoma\", \"Pennsylvania\", \"Rhode Island\", \"Wisconsin\",\"New York\",\"Arizona\",\"South Dakota\")\n",
    "\n"
   ]
  },
  {
   "cell_type": "code",
   "execution_count": null,
   "id": "e9079d88-b1e0-4cd1-a0b7-fcd9b66f45d3",
   "metadata": {},
   "outputs": [],
   "source": [
    "\n",
    "length(states)\n",
    "#Pulling lineages for each of the states above. \n",
    "for (state in states){\n",
    "  print(state)\n",
    "  \n",
    "  df = getAllLineagesByLocation(location = state, other_threshold=0.00001, nday_threshold=50, ndays = 1300, cumulative = F)\n",
    "  write.csv(df, paste(\"./\",state,\"_raw-01.csv\", sep = ''))\n",
    "}\n",
    "\n",
    "lineage_dat_dic = getCuratedLineages()\n",
    "\n",
    "`%like%` <- function (x, pattern) { \n",
    "  pattern_fix <-paste0('\\\\b',pattern,'\\\\b')\n",
    "  grepl(pattern_fix, x, ignore.case=TRUE)\n",
    "}\n",
    "\n",
    "## Adding WHO names to each of the variants see in pull above. \n",
    "for (state in states){\n",
    "  print(paste(\"##############\",state,\"##############\"))\n",
    "  temp = read.csv(paste(\"./\",state,\"_raw-01.csv\", sep = ''))\n",
    "  aa<-c()\n",
    "  dd <- Dict$new(\n",
    "    info = 'Dict to speed up search time.'\n",
    "  )\n",
    "\n",
    "\n",
    "  for (i in trimws(temp$lineage)){\n",
    "    \n",
    "    if (is.null(dd$get(i))){\n",
    "        #a<-which(lineage_dat_dic$searchTerms %like% i)\n",
    "        #a<-which(lineage_dat_dic$reportQuery$pango %like% i)\n",
    "        \n",
    "        #for (n in range(1:length(lineage_dat_dic$reportQuery$pango):1)){\n",
    "        for (n in seq_len(nrow(lineage_dat_dic))){\n",
    "          #print(n)\n",
    "          if (i %in% tolower(lineage_dat_dic$reportQuery$pango[[n]])){\n",
    "            term=lineage_dat_dic$label[n]\n",
    "            print(paste(i,term, sep=' - '))\n",
    "            dd[i] <- term\n",
    "            aa = append(aa,term)\n",
    "          }\n",
    "          else{\n",
    "            if(i != \"\"){\n",
    "              dd[i]=NA\n",
    "            }\n",
    "        }\n",
    "        \n",
    "        \n",
    "\n",
    "        }\n",
    "\n",
    "        aa = append(aa,NA)\n",
    "      }\n",
    "      else{\n",
    "        aa = append(aa,dd$get(i))\n",
    "      }\n",
    "      \n",
    "    }\n",
    "\n",
    "temp$term <- aa\n",
    "write.csv(temp, paste(\"./\",state,\"_data-pangoterms.csv\", sep = ''))\n",
    "\n",
    "}"
   ]
  }
 ],
 "metadata": {
  "kernelspec": {
   "display_name": "R",
   "language": "R",
   "name": "ir"
  },
  "language_info": {
   "name": ""
  }
 },
 "nbformat": 4,
 "nbformat_minor": 5
}
