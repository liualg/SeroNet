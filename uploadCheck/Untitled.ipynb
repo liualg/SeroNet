{
 "cells": [
  {
   "cell_type": "code",
   "execution_count": 3,
   "id": "1a468f1a",
   "metadata": {},
   "outputs": [],
   "source": [
    "import pandas as pd\n",
    "import glob"
   ]
  },
  {
   "cell_type": "code",
   "execution_count": 6,
   "id": "73645721",
   "metadata": {},
   "outputs": [],
   "source": [
    "base = '/Users/liualg/Desktop/June_upload/update2'\n",
    "files = glob.glob(base+'/*.txt')"
   ]
  },
  {
   "cell_type": "code",
   "execution_count": 20,
   "id": "11a5d489",
   "metadata": {},
   "outputs": [
    {
     "data": {
      "text/plain": [
       "10"
      ]
     },
     "execution_count": 20,
     "metadata": {},
     "output_type": "execute_result"
    }
   ],
   "source": [
    "len(files)"
   ]
  },
  {
   "cell_type": "code",
   "execution_count": 21,
   "id": "895e8052",
   "metadata": {},
   "outputs": [
    {
     "name": "stdout",
     "output_type": "stream",
     "text": [
      "\n",
      "/Users/liualg/Desktop/June_upload/update2/seronet_dr44_studies_061522b.txt\n",
      "/Users/liualg/Desktop/June_upload/update2/seronet_experiments_061522b.txt\n"
     ]
    }
   ],
   "source": [
    "for f in files:\n",
    "#     print(list(pd.read_csv(f, sep = '\\t').columns))\n",
    "    try:\n",
    "        if 'SDY1868' not in list(pd.read_csv(f, sep = '\\t')['STUDY_ACCESSION']):\n",
    "            print(f)\n",
    "    except:\n",
    "        print('')"
   ]
  },
  {
   "cell_type": "code",
   "execution_count": null,
   "id": "6d3dc9bf",
   "metadata": {},
   "outputs": [],
   "source": []
  }
 ],
 "metadata": {
  "kernelspec": {
   "display_name": "Python 3",
   "language": "python",
   "name": "python3"
  },
  "language_info": {
   "codemirror_mode": {
    "name": "ipython",
    "version": 3
   },
   "file_extension": ".py",
   "mimetype": "text/x-python",
   "name": "python",
   "nbconvert_exporter": "python",
   "pygments_lexer": "ipython3",
   "version": "3.8.8"
  }
 },
 "nbformat": 4,
 "nbformat_minor": 5
}
