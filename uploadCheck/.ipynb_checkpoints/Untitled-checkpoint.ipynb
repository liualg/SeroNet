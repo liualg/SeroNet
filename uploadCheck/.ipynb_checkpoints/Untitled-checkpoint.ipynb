{
 "cells": [
  {
   "cell_type": "code",
   "execution_count": 3,
   "id": "8f88a15e",
   "metadata": {},
   "outputs": [],
   "source": [
    "import pandas as pd\n",
    "import glob"
   ]
  },
  {
   "cell_type": "code",
   "execution_count": 6,
   "id": "00595af1",
   "metadata": {},
   "outputs": [],
   "source": [
    "base = '/Users/liualg/Desktop/June_upload/update2'\n",
    "files = glob.glob(base+'/*.txt')"
   ]
  },
  {
   "cell_type": "code",
   "execution_count": 15,
   "id": "bc96071d",
   "metadata": {},
   "outputs": [
    {
     "name": "stdout",
     "output_type": "stream",
     "text": [
      "/Users/liualg/Desktop/June_upload/update2/seronet_cg_061522b.txt\n",
      "/Users/liualg/Desktop/June_upload/update2/seronet_inclusionexclusion_061522b.txt\n",
      "/Users/liualg/Desktop/June_upload/update2/seronet_protocol_061522b.txt\n"
     ]
    }
   ],
   "source": [
    "for f in files:\n",
    "#     print(list(pd.read_csv(f, sep = '\\t').columns))\n",
    "    if 'SDY1868' in list(pd.read_csv(f, sep = '\\t')['STUDY_ACCESSION']):\n",
    "        print(f)"
   ]
  },
  {
   "cell_type": "code",
   "execution_count": null,
   "id": "070e3284",
   "metadata": {},
   "outputs": [],
   "source": []
  }
 ],
 "metadata": {
  "kernelspec": {
   "display_name": "Python 3",
   "language": "python",
   "name": "python3"
  },
  "language_info": {
   "codemirror_mode": {
    "name": "ipython",
    "version": 3
   },
   "file_extension": ".py",
   "mimetype": "text/x-python",
   "name": "python",
   "nbconvert_exporter": "python",
   "pygments_lexer": "ipython3",
   "version": "3.8.8"
  }
 },
 "nbformat": 4,
 "nbformat_minor": 5
}
