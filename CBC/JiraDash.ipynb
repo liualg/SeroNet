{
 "cells": [
  {
   "cell_type": "code",
   "execution_count": 15,
   "id": "157764ff",
   "metadata": {},
   "outputs": [],
   "source": [
    "import pandas as pd\n",
    "import numpy as np\n",
    "import collections\n",
    "from tqdm import tqdm\n",
    "\n",
    "from collections import Counter\n",
    "from typing import cast\n",
    "\n",
    "from jira import JIRA\n",
    "from jira.client import ResultList\n",
    "from jira.resources import Issue"
   ]
  },
  {
   "cell_type": "code",
   "execution_count": 2,
   "id": "cb59acf6",
   "metadata": {},
   "outputs": [],
   "source": [
    "jiraOptions = {'server': \"https://tracker.nci.nih.gov/\"}\n",
    "token = \"MzUyMjU5OTg4NzE5OnPkspkDA1jZhuVfljmWEsfMQCBH\"\n",
    "  "
   ]
  },
  {
   "cell_type": "code",
   "execution_count": 47,
   "id": "e567787f",
   "metadata": {},
   "outputs": [],
   "source": [
    "jira = JIRA(\n",
    "    server=\"https://tracker.nci.nih.gov\",\n",
    "    # token_auth=(token)\n",
    "\n",
    "    basic_auth=('liualg', 'TRPTRPTRP1029e$$')\n",
    "    )\n",
    "\n",
    "# Get all projects viewable by anonymous users.\n",
    "projects = jira.projects()\n",
    "\n",
    "# Sort available project keys, then return the second, third, and fourth keys.\n",
    "keys = sorted(project.key for project in projects)[2:5]\n",
    "\n",
    "# Get an issue.\n",
    "in_progress = jira.search_issues('project=SPDC and assignee != breadsp2',maxResults=1000000)\n"
   ]
  },
  {
   "cell_type": "code",
   "execution_count": 70,
   "id": "0e24037e",
   "metadata": {},
   "outputs": [
    {
     "ename": "AttributeError",
     "evalue": "'PropertyHolder' object has no attribute 'type'",
     "output_type": "error",
     "traceback": [
      "\u001b[0;31m---------------------------------------------------------------------------\u001b[0m",
      "\u001b[0;31mAttributeError\u001b[0m                            Traceback (most recent call last)",
      "\u001b[0;32m<ipython-input-70-2198597c1237>\u001b[0m in \u001b[0;36m<module>\u001b[0;34m\u001b[0m\n\u001b[0;32m----> 1\u001b[0;31m \u001b[0missue\u001b[0m\u001b[0;34m.\u001b[0m\u001b[0mfields\u001b[0m\u001b[0;34m.\u001b[0m\u001b[0mtype\u001b[0m\u001b[0;34m\u001b[0m\u001b[0;34m\u001b[0m\u001b[0m\n\u001b[0m",
      "\u001b[0;31mAttributeError\u001b[0m: 'PropertyHolder' object has no attribute 'type'"
     ]
    }
   ],
   "source": [
    "issue.fields."
   ]
  },
  {
   "cell_type": "code",
   "execution_count": 71,
   "id": "aa124352",
   "metadata": {},
   "outputs": [
    {
     "name": "stdout",
     "output_type": "stream",
     "text": [
      "SPDC-4554: Protocol Template - ['CA260492', 'Klein', 'PMID_35389888']\n",
      "SPDC-4537: PMID_35389888 - ['CA260492', 'Klein', 'PMID_35389888']\n",
      "SPDC-4474: Data Request sent - ['Barouch', 'CA260476', 'PMID_35348368']\n",
      "SPDC-4470: PMID_35348368 - ['Barouch', 'CA260476', 'PMID_35348368']\n",
      "SPDC-4457: Data Request sent - ['Barouch', 'CA260476', 'PMID_35289637']\n",
      "SPDC-4441: Data Request sent - ['Barouch', 'CA260476', 'PMID_35258323']\n",
      "SPDC-4437: PMID_35289637 - ['Barouch', 'CA260476', 'PMID_35289637']\n",
      "SPDC-4436: PMID_35258323 - ['Barouch', 'CA260476', 'PMID_35258323']\n",
      "SPDC-4423: Data Request sent - ['Barouch', 'CA260476', 'PMID_35313451']\n",
      "SPDC-4407: Data Request sent - ['Barouch', 'CA260476', 'PMID_35294809']\n",
      "SPDC-4391: Data Request sent - ['Barouch', 'CA260476', 'PMID_35143473']\n",
      "SPDC-4375: Data Request sent - ['Barouch', 'CA260476', 'PMID_35129576']\n",
      "SPDC-4358: POC Request Reminders - ['Barouch', 'CA260476', 'PMID_35102312']\n",
      "SPDC-4327: Data Request sent - ['CA260469', 'Lucas']\n",
      "SPDC-4311: Data Request sent - ['CA260469', 'Lucas']\n",
      "SPDC-4307: Lucas Manuscript 2 - ['CA260469', 'Lucas']\n",
      "SPDC-4306: Lucas manuscript 1  - ['CA260469', 'Lucas']\n",
      "SPDC-4255: PMID_35335012 - ['CA260582', 'Oltz', 'PMID_35335012']\n",
      "SPDC-4237: Protocol Template - ['CA260492', 'Klein', 'PMID_35289114']\n",
      "SPDC-4231: Review and Approval Requested - ['Boyd', 'CA260517', 'PMID_35040666']\n",
      "SPDC-4188: PMID_34335981 - ['CA260581', 'PMID_34335981', 'Robinson']\n",
      "SPDC-4167: PMID_35289114 - ['CA260492', 'Klein', 'PMID_35289114']\n",
      "SPDC-4166: PMID_35040666 - ['Boyd', 'CA260517', 'PMID_35040666']\n",
      "SPDC-4149: TEST_3-10_PMID - []\n",
      "SPDC-4143: Review and Approval Requested - ['Boyd', 'CA260517', 'PMID_35025672']\n",
      "SPDC-4130: POC Requested - ['Boyd', 'CA260517', 'PMID_35025672']\n",
      "SPDC-4129: Protocol Template - ['Boyd', 'CA260517', 'PMID_35025672']\n",
      "SPDC-4108: PMID_35025672 - ['Boyd', 'CA260517', 'PMID_35025672']\n",
      "SPDC-4107: PMID_35061630 - ['CA260492', 'Klein', 'PMID_35061630']\n",
      "SPDC-4106: PMID_35217407 - ['Baric', 'CA260543', 'PMID_35217407']\n",
      "SPDC-4089: Data Request sent - ['Barouch', 'CA260476', 'PMID_35132398']\n",
      "SPDC-4082: PMID_35132398 - ['Barouch', 'CA260476', 'PMID_35132398']\n",
      "SPDC-4036: Review and Approval Requested - ['Boyd', 'CA260517', 'PMID_35148837']\n",
      "SPDC-3979: PMID_35148837 - ['Boyd', 'CA260517', 'PMID_35148837']\n",
      "SPDC-3978: PMID_35085183 - ['CA260492', 'Klein', 'PMID_35085183']\n",
      "SPDC-3960: Data Request sent - ['CA260492', 'Klein', 'PMID_34951746']\n",
      "SPDC-3957: Protocol Template - ['CA260492', 'Klein', 'PMID_34951746']\n",
      "SPDC-3940: Data Request sent - ['Barouch', 'CA260476', 'PMID_35073738']\n",
      "SPDC-3936: PMID_35073738 - ['Barouch', 'CA260476', 'PMID_35073738']\n",
      "SPDC-3935: PMID_34951746 - ['CA260492', 'Klein', 'PMID_34951746']\n",
      "SPDC-3933: Exception Requested - ['Baric', 'CA260543', 'PMID_35090596']\n",
      "SPDC-3919: Institutional Certification Request Sent - ['Baric', 'CA260543', 'PMID_35090596']\n",
      "SPDC-3916: POC Requested - ['Baric', 'CA260543', 'PMID_35090596']\n",
      "SPDC-3904: Send templates to POC - ['Barouch', 'CA260476', 'PMID_35090580']\n",
      "SPDC-3892: ImmPort Informed - ['Barouch', 'CA260476', 'PMID_34794169']\n",
      "SPDC-3879: Institutional Certification Request Sent - ['Barouch', 'CA260476', 'PMID_34794169']\n",
      "SPDC-3873: PMID_35090596 - ['Baric', 'CA260543', 'PMID_35090596']\n",
      "SPDC-3872: PMID_35090580 - ['Barouch', 'CA260476', 'PMID_35090580']\n",
      "SPDC-3871: PMID_34794169 - ['Barouch', 'CA260476', 'PMID_34794169']\n",
      "SPDC-3835: Institutional Certification Request Sent - ['CA260582', 'Oltz', 'PMID_35055463']\n",
      "SPDC-3834: Data Request sent - ['CA260582', 'Oltz', 'PMID_35055463']\n",
      "SPDC-3825: Review and Approval Requested - ['Baric', 'CA260543', 'PMID_34726473']\n",
      "SPDC-3814: Data Request sent - ['Baric', 'CA260543', 'PMID_34726473']\n",
      "SPDC-3791: Protocol Template - ['CA260560', 'Hirsch', 'PMID_34669512']\n",
      "SPDC-3790: PMID_35068405 - ['CA261277', 'Lipsitch', 'PMID_35068405']\n",
      "SPDC-3789: PMID_35055463 - ['CA260582', 'Oltz', 'PMID_35055463']\n",
      "SPDC-3788: PMID_34726473 - ['Baric', 'CA260543', 'PMID_34726473']\n",
      "SPDC-3781: Review and Approval Requested - ['CA260563', 'PMID_34952892', 'Sanz']\n",
      "SPDC-3750: Data Request sent - ['CA260492', 'Klein', 'PMID_34424479']\n",
      "SPDC-3748: POC Requested - ['CA260492', 'Klein', 'PMID_34424479']\n",
      "SPDC-3747: Protocol Template - ['CA260492', 'Klein', 'PMID_34424479']\n",
      "SPDC-3727: Protocol Template - ['CA260539', 'King', 'PMID_34188786']\n",
      "SPDC-3726: PMID_34188786 - ['CA260539', 'King', 'PMID_34188786']\n",
      "SPDC-3725: PMID_34424479 - ['CA260492', 'Klein', 'PMID_34424479']\n",
      "SPDC-3724: PMID_34952892 - ['CA260563', 'PMID_34952892', 'Sanz']\n",
      "SPDC-3662: Institutional Certification Request Sent - ['Boyd', 'CA260517', 'PMID_34605900']\n",
      "SPDC-3659: POC Requested - ['Boyd', 'CA260517', 'PMID_34605900']\n",
      "SPDC-3658: Protocol Template - ['Boyd', 'CA260517', 'PMID_34605900']\n",
      "SPDC-3597: PMID_34960674 - ['CA260541', 'PMID_34960674', 'Sariol']\n",
      "SPDC-3595: PMID_34910927 - ['CA261277', 'Lipsitch', 'PMID_34910927']\n",
      "SPDC-3594: PMID_34605900 - ['Boyd', 'CA260517', 'PMID_34605900']\n",
      "SPDC-3567: Review and Approval Requested - ['CA260591', 'Cheng', 'PMID_34687893']\n",
      "SPDC-3550: ImmPort Informed - ['CA260541', 'PMID_34877479', 'Sariol']\n",
      "SPDC-3536: Data Request sent - ['CA260541', 'PMID_34877479', 'Sariol']\n",
      "SPDC-3489: Data validation and upload to ImmPort Private WS - ['CA260507', 'Fan', 'PMID_34921308']\n",
      "SPDC-3387: Review and Approval Requested - ['CA260591', 'Cheng', 'PMID_34759001']\n",
      "SPDC-3352: PMID_34909778 - ['CA261277', 'Lipsitch', 'PMID_34909778']\n",
      "SPDC-3350: PMID_34759001 - ['CA260591', 'Cheng', 'PMID_34759001']\n",
      "SPDC-3345: PMID_34921308 - ['CA260507', 'Fan', 'PMID_34921308']\n",
      "SPDC-3344: PMID_34909785 - ['CA260591', 'Cheng', 'PMID_34909785']\n",
      "SPDC-3342: PMID_34877479 - ['CA260541', 'PMID_34877479', 'Sariol']\n",
      "SPDC-3341: PMID_34687893 - ['CA260591', 'Cheng', 'PMID_34687893']\n",
      "SPDC-3324: Data Request sent - ['CA260560', 'Hirsch', 'PMID_33547084']\n",
      "SPDC-3288: Populate Study and Protocol Template - ['Barouch', 'CA260476', 'PMID_34546094']\n",
      "SPDC-3280: PMID_34546094 - ['Barouch', 'CA260476', 'PMID_34546094']\n",
      "SPDC-3242: Data Request sent - ['CA260492', 'Klein', 'PMID_34767812']\n",
      "SPDC-3240: POC Requested - ['CA260492', 'Klein', 'PMID_34767812']\n",
      "SPDC-3239: Protocol Template - ['CA260492', 'Klein', 'PMID_34767812']\n",
      "SPDC-3223: Institutional Certification Request Sent - ['Boyd', 'CA260517', 'PMID_34861167']\n",
      "SPDC-3220: POC Requested - ['Boyd', 'CA260517', 'PMID_34861167']\n",
      "SPDC-3218: PMID_34861167 - ['Boyd', 'CA260517', 'PMID_34861167']\n",
      "SPDC-3217: PMID_34767812 - ['CA260492', 'Klein', 'PMID_34767812']\n"
     ]
    }
   ],
   "source": [
    "PMID=[]; key=[]; label1=[]; label2=[]; label3=[]; \n",
    "\n",
    "for issue in in_progress:\n",
    "    if issue.fields.status.name == \"In Progress\":\n",
    "        print('{}: {} - {}'.format(issue.key, issue.fields.summary, issue.fields.labels))\n",
    "#     elif issue.fields.status.name == \"Open\":\n",
    "#         print('{}: Open'.format(issue.key))\n",
    "\n"
   ]
  },
  {
   "cell_type": "code",
   "execution_count": 50,
   "id": "f6d39332",
   "metadata": {},
   "outputs": [
    {
     "ename": "AttributeError",
     "evalue": "'ResultList' object has no attribute 'status'",
     "output_type": "error",
     "traceback": [
      "\u001b[0;31m---------------------------------------------------------------------------\u001b[0m",
      "\u001b[0;31mAttributeError\u001b[0m                            Traceback (most recent call last)",
      "\u001b[0;32m<ipython-input-50-b85b5158fcaa>\u001b[0m in \u001b[0;36m<module>\u001b[0;34m\u001b[0m\n\u001b[0;32m----> 1\u001b[0;31m \u001b[0min_progress\u001b[0m\u001b[0;34m.\u001b[0m\u001b[0mstatus\u001b[0m\u001b[0;34m\u001b[0m\u001b[0;34m\u001b[0m\u001b[0m\n\u001b[0m",
      "\u001b[0;31mAttributeError\u001b[0m: 'ResultList' object has no attribute 'status'"
     ]
    }
   ],
   "source": [
    "in_progress.status"
   ]
  },
  {
   "cell_type": "code",
   "execution_count": 40,
   "id": "08a01646",
   "metadata": {},
   "outputs": [],
   "source": [
    "all_labels = label1 + label2 + label3\n"
   ]
  },
  {
   "cell_type": "code",
   "execution_count": 42,
   "id": "92a51d00",
   "metadata": {},
   "outputs": [],
   "source": [
    "pd.DataFrame({\n",
    "\t'key':key,\n",
    "\t'PMID':PMID,\n",
    "\t'labels1':label1,\n",
    "\t'labels2':label2,\n",
    "\t'labels3':label3\n",
    "\n",
    "\t}).to_csv(\"~/Desktop/JiraInfo2.csv\")"
   ]
  },
  {
   "cell_type": "code",
   "execution_count": 43,
   "id": "9ef8ec96",
   "metadata": {},
   "outputs": [],
   "source": [
    "temp = pd.read_csv(\"~/Desktop/JiraInfo.csv\")"
   ]
  },
  {
   "cell_type": "code",
   "execution_count": 46,
   "id": "fc622ca0",
   "metadata": {},
   "outputs": [
    {
     "data": {
      "text/plain": [
       "[('Barouch', 40),\n",
       " ('Boyd', 24),\n",
       " ('Cheng', 18),\n",
       " ('Klein', 16),\n",
       " ('Lipsitch', 15),\n",
       " ('Baric', 14),\n",
       " ('Hirsch', 13),\n",
       " ('Oltz', 12),\n",
       " ('Sariol', 9),\n",
       " ('Sanz', 6),\n",
       " ('Robinson', 4),\n",
       " ('King', 3),\n",
       " ('Figueiredo', 3),\n",
       " ('Lucas', 2),\n",
       " (nan, 2),\n",
       " ('Mantis', 2),\n",
       " ('Cordon-Cardo', 2),\n",
       " ('Boppana', 2),\n",
       " ('CA260476', 2),\n",
       " ('Liu', 1),\n",
       " ('Fan', 1),\n",
       " ('Zidar', 1),\n",
       " ('CA260543', 1),\n",
       " ('Schieffelin', 1),\n",
       " ('Litsitch', 1),\n",
       " ('PMID_33478949', 1)]"
      ]
     },
     "execution_count": 46,
     "metadata": {},
     "output_type": "execute_result"
    }
   ],
   "source": [
    "collections.Counter(temp['labels2'], ).most_common()"
   ]
  },
  {
   "cell_type": "code",
   "execution_count": 72,
   "id": "06770048",
   "metadata": {},
   "outputs": [],
   "source": [
    "A = ['pmidxxxx_reagent-01','PMID12345678_reagent-01']"
   ]
  },
  {
   "cell_type": "code",
   "execution_count": 75,
   "id": "7f034dbb",
   "metadata": {},
   "outputs": [
    {
     "ename": "TypeError",
     "evalue": "expected string or bytes-like object",
     "output_type": "error",
     "traceback": [
      "\u001b[0;31m---------------------------------------------------------------------------\u001b[0m",
      "\u001b[0;31mTypeError\u001b[0m                                 Traceback (most recent call last)",
      "\u001b[0;32m<ipython-input-75-92c4e540c78a>\u001b[0m in \u001b[0;36m<module>\u001b[0;34m\u001b[0m\n\u001b[1;32m      2\u001b[0m \u001b[0;34m\u001b[0m\u001b[0m\n\u001b[1;32m      3\u001b[0m \u001b[0mpattern\u001b[0m \u001b[0;34m=\u001b[0m \u001b[0mre\u001b[0m\u001b[0;34m.\u001b[0m\u001b[0mcompile\u001b[0m\u001b[0;34m(\u001b[0m\u001b[0;34m\"PMID[\\d]{8}_reagent-[\\d]{2}\"\u001b[0m\u001b[0;34m)\u001b[0m\u001b[0;34m\u001b[0m\u001b[0;34m\u001b[0m\u001b[0m\n\u001b[0;32m----> 4\u001b[0;31m \u001b[0mpattern\u001b[0m\u001b[0;34m.\u001b[0m\u001b[0mmatch\u001b[0m\u001b[0;34m(\u001b[0m\u001b[0mA\u001b[0m\u001b[0;34m)\u001b[0m\u001b[0;34m\u001b[0m\u001b[0;34m\u001b[0m\u001b[0m\n\u001b[0m",
      "\u001b[0;31mTypeError\u001b[0m: expected string or bytes-like object"
     ]
    }
   ],
   "source": [
    "import re\n",
    "\n",
    "pattern = re.compile(\"PMID[\\d]{8}_reagent-[\\d]{2}\")\n",
    "pattern.match(A)"
   ]
  },
  {
   "cell_type": "code",
   "execution_count": null,
   "id": "bcd7e8b0",
   "metadata": {},
   "outputs": [],
   "source": [
    "https://dash.plotly.com/layout\n",
    "    https://www.justintodata.com/python-interactive-dashboard-with-plotly-dash-tutorial/#:~:text=Dash%20is%20a%20free%20Python,the%20Dash%20app%20looks%20like\n",
    "        "
   ]
  }
 ],
 "metadata": {
  "kernelspec": {
   "display_name": "Python 3",
   "language": "python",
   "name": "python3"
  },
  "language_info": {
   "codemirror_mode": {
    "name": "ipython",
    "version": 3
   },
   "file_extension": ".py",
   "mimetype": "text/x-python",
   "name": "python",
   "nbconvert_exporter": "python",
   "pygments_lexer": "ipython3",
   "version": "3.8.8"
  }
 },
 "nbformat": 4,
 "nbformat_minor": 5
}
