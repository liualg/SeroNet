{
 "cells": [
  {
   "cell_type": "code",
   "execution_count": 26,
   "id": "d3f46faa",
   "metadata": {},
   "outputs": [],
   "source": [
    "import pandas as pd\n",
    "import numpy as np\n",
    "import os\n",
    "import regex\n",
    "from glob import glob\n",
    "import warnings\n",
    "warnings.simplefilter(\"ignore\")"
   ]
  },
  {
   "cell_type": "code",
   "execution_count": 27,
   "id": "cccad026",
   "metadata": {},
   "outputs": [],
   "source": [
    "jenns_file = pd.read_excel(\"new_paper_1.xlsx\")\n",
    "master_list = pd.read_excel(\"Master-List-copy.xlsx\")\n",
    "gov_df = pd.read_excel('gov_side.xlsx', 'Full Publication List')\n",
    "\n",
    "file_sep = os.path.sep\n",
    "box_dir = file_sep + 'Users' + file_sep + os.getlogin() + file_sep + 'Box'\n",
    "sero_net = box_dir + file_sep + 'SeroNet Public Data' \n",
    "\n"
   ]
  },
  {
   "cell_type": "code",
   "execution_count": 28,
   "id": "72b496f8",
   "metadata": {},
   "outputs": [
    {
     "data": {
      "text/plain": [
       "15"
      ]
     },
     "execution_count": 28,
     "metadata": {},
     "output_type": "execute_result"
    }
   ],
   "source": [
    "jenns_file.head()\n",
    "len(jenns_file.Base_Project)"
   ]
  },
  {
   "cell_type": "code",
   "execution_count": 29,
   "id": "1a694d55",
   "metadata": {},
   "outputs": [],
   "source": [
    "def get_PI_name(jenn, master):\n",
    "    pi_names = []\n",
    "    grant_number = [e[3:] for e in jenn.Base_Project]\n",
    "    for i in grant_number:\n",
    "        name = glob(sero_net + file_sep + i + '*')[0].split('_')[1]\n",
    "        matching = [s for s in np.unique(master.PI) if name.lower() in s.lower()]\n",
    "        pi_names.append(matching[0])\n",
    "    return(pi_names)\n"
   ]
  },
  {
   "cell_type": "code",
   "execution_count": 30,
   "id": "ac434548",
   "metadata": {},
   "outputs": [],
   "source": [
    "# finding new papers \n",
    "def new_paper_list(gov, master):\n",
    "    new_papers_PMID = list(set(gov.PMID)- set(master.PMID))\n",
    "    return(gov[gov['PMID'].isin(new_papers_PMID)])"
   ]
  },
  {
   "cell_type": "code",
   "execution_count": 31,
   "id": "f2d2e61b",
   "metadata": {},
   "outputs": [],
   "source": [
    "#changing to correct format to merge to master list \n",
    "def to_master_format(new_papers, master):\n",
    "    data_dic = {}\n",
    "    empty = ['']*len(new_papers.PubMed_ID)\n",
    "    updating_fields = {\n",
    "        'Base_Project':list(new_papers['Base_Project']),\n",
    "        'Base_Project.1':[e[3:] for e in new_papers.Base_Project], \n",
    "        'PMID':list(new_papers['PubMed_ID']), \n",
    "        'Folder name':list(['PMID_'+str(e) for e in new_papers.PubMed_ID]),\n",
    "        'PubMed_ID link':list(new_papers['PubMed_ID']),\n",
    "        'Publication_Title':list(new_papers['Publication_Title']), \n",
    "        'Journal':list(new_papers['Journal']),\n",
    "        'Author(s)':list(new_papers['Author(s)']),\n",
    "        'Pub Date':list(new_papers['Pub Date']),\n",
    "        'PI':get_PI_name(new_papers, master_list)\n",
    "    }\n",
    "\n",
    "    for col_name in master_list.columns:\n",
    "        if (col_name in updating_fields.keys()):\n",
    "            data_dic[col_name] = updating_fields[col_name]\n",
    "        else:\n",
    "            data_dic[col_name] = empty\n",
    "\n",
    "    return(pd.DataFrame(data_dic))"
   ]
  },
  {
   "cell_type": "code",
   "execution_count": 32,
   "id": "cd47142b",
   "metadata": {},
   "outputs": [],
   "source": [
    "def find_repeat(list1, list2):\n",
    "    return(set(list1).intersection(set(list2)))"
   ]
  },
  {
   "cell_type": "code",
   "execution_count": 33,
   "id": "db54720e",
   "metadata": {},
   "outputs": [
    {
     "data": {
      "text/plain": [
       "0"
      ]
     },
     "execution_count": 33,
     "metadata": {},
     "output_type": "execute_result"
    }
   ],
   "source": [
    "# finding new papers \n",
    "new_papers = new_paper_list(gov_df, master_list)\n",
    "\n",
    "# creating df to concat to master list\n",
    "add_on = to_master_format(new_papers, master_list)\n",
    "len(add_on.PMID)"
   ]
  },
  {
   "cell_type": "code",
   "execution_count": 34,
   "id": "e23a5b41",
   "metadata": {},
   "outputs": [
    {
     "data": {
      "text/html": [
       "<div>\n",
       "<style scoped>\n",
       "    .dataframe tbody tr th:only-of-type {\n",
       "        vertical-align: middle;\n",
       "    }\n",
       "\n",
       "    .dataframe tbody tr th {\n",
       "        vertical-align: top;\n",
       "    }\n",
       "\n",
       "    .dataframe thead th {\n",
       "        text-align: right;\n",
       "    }\n",
       "</style>\n",
       "<table border=\"1\" class=\"dataframe\">\n",
       "  <thead>\n",
       "    <tr style=\"text-align: right;\">\n",
       "      <th></th>\n",
       "      <th>Base_Project</th>\n",
       "      <th>PD_Name</th>\n",
       "      <th>PD_Email</th>\n",
       "      <th>PMID</th>\n",
       "      <th>PubMed_ID</th>\n",
       "      <th>Compliance_Status</th>\n",
       "      <th>Notification_Date</th>\n",
       "      <th>Journal</th>\n",
       "      <th>Publication_Title</th>\n",
       "      <th>Author(s)</th>\n",
       "      <th>Pub Date</th>\n",
       "      <th>Unnamed: 11</th>\n",
       "      <th>Unnamed: 12</th>\n",
       "      <th>Unnamed: 13</th>\n",
       "      <th>Unnamed: 14</th>\n",
       "      <th>Unnamed: 15</th>\n",
       "      <th>Unnamed: 16</th>\n",
       "    </tr>\n",
       "  </thead>\n",
       "  <tbody>\n",
       "  </tbody>\n",
       "</table>\n",
       "</div>"
      ],
      "text/plain": [
       "Empty DataFrame\n",
       "Columns: [Base_Project, PD_Name, PD_Email, PMID, PubMed_ID, Compliance_Status, Notification_Date, Journal, Publication_Title, Author(s), Pub Date, Unnamed: 11, Unnamed: 12, Unnamed: 13, Unnamed: 14, Unnamed: 15, Unnamed: 16]\n",
       "Index: []"
      ]
     },
     "execution_count": 34,
     "metadata": {},
     "output_type": "execute_result"
    }
   ],
   "source": [
    "new_papers"
   ]
  },
  {
   "cell_type": "code",
   "execution_count": 35,
   "id": "1cc699fe",
   "metadata": {},
   "outputs": [
    {
     "data": {
      "text/plain": [
       "Index(['NOTES', 'Primary Research Topic', 'Secondary Research Topic',\n",
       "       'Research Topic Comments', 'Publication Owner', 'JIRA Epic #',\n",
       "       'Base_Project', 'Status/ImmPort Study ID', 'Base_Project.1', 'PMID',\n",
       "       'Folder name', 'PubMed_ID link', 'Publication_Title', 'Journal',\n",
       "       'Author(s)', 'Pub Date', 'PI', 'poc name', 'poc email', 'Status',\n",
       "       'status comment', 'QA Review Responsible', 'QA review complete (Y/N)'],\n",
       "      dtype='object')"
      ]
     },
     "execution_count": 35,
     "metadata": {},
     "output_type": "execute_result"
    }
   ],
   "source": [
    "new_master_list = pd.concat([master_list, add_on])\n",
    "new_master_list = new_master_list.replace(np.nan, '', regex=True)\n",
    "new_master_list.head()\n",
    "new_master_list.columns"
   ]
  },
  {
   "cell_type": "code",
   "execution_count": 36,
   "id": "deefb530",
   "metadata": {},
   "outputs": [
    {
     "data": {
      "text/html": [
       "<div>\n",
       "<style scoped>\n",
       "    .dataframe tbody tr th:only-of-type {\n",
       "        vertical-align: middle;\n",
       "    }\n",
       "\n",
       "    .dataframe tbody tr th {\n",
       "        vertical-align: top;\n",
       "    }\n",
       "\n",
       "    .dataframe thead th {\n",
       "        text-align: right;\n",
       "    }\n",
       "</style>\n",
       "<table border=\"1\" class=\"dataframe\">\n",
       "  <thead>\n",
       "    <tr style=\"text-align: right;\">\n",
       "      <th></th>\n",
       "      <th>NOTES</th>\n",
       "      <th>Primary Research Topic</th>\n",
       "      <th>Secondary Research Topic</th>\n",
       "      <th>Research Topic Comments</th>\n",
       "      <th>Publication Owner</th>\n",
       "      <th>JIRA Epic #</th>\n",
       "      <th>Base_Project</th>\n",
       "      <th>Status/ImmPort Study ID</th>\n",
       "      <th>Base_Project.1</th>\n",
       "      <th>PMID</th>\n",
       "      <th>...</th>\n",
       "      <th>Journal</th>\n",
       "      <th>Author(s)</th>\n",
       "      <th>Pub Date</th>\n",
       "      <th>PI</th>\n",
       "      <th>poc name</th>\n",
       "      <th>poc email</th>\n",
       "      <th>Status</th>\n",
       "      <th>status comment</th>\n",
       "      <th>QA Review Responsible</th>\n",
       "      <th>QA review complete (Y/N)</th>\n",
       "    </tr>\n",
       "  </thead>\n",
       "  <tbody>\n",
       "    <tr>\n",
       "      <th>0</th>\n",
       "      <td>SKIP (review)</td>\n",
       "      <td></td>\n",
       "      <td></td>\n",
       "      <td></td>\n",
       "      <td></td>\n",
       "      <td></td>\n",
       "      <td>U01CA260476</td>\n",
       "      <td></td>\n",
       "      <td>CA260476</td>\n",
       "      <td>33581646.0</td>\n",
       "      <td>...</td>\n",
       "      <td>Current opinion in virology</td>\n",
       "      <td>Webb, Nicholas E; Bernshtein, Biana; Alter, Galit</td>\n",
       "      <td>2021 Apr</td>\n",
       "      <td>Alter, Galit</td>\n",
       "      <td></td>\n",
       "      <td></td>\n",
       "      <td></td>\n",
       "      <td></td>\n",
       "      <td></td>\n",
       "      <td></td>\n",
       "    </tr>\n",
       "    <tr>\n",
       "      <th>1</th>\n",
       "      <td></td>\n",
       "      <td>Clinical</td>\n",
       "      <td></td>\n",
       "      <td></td>\n",
       "      <td>Liu</td>\n",
       "      <td>SPDC-125</td>\n",
       "      <td>U01CA260476</td>\n",
       "      <td>SDY1825</td>\n",
       "      <td>CA260476</td>\n",
       "      <td>33589636.0</td>\n",
       "      <td>...</td>\n",
       "      <td>Nature communications</td>\n",
       "      <td>Bartsch, Yannic C; Fischinger, Stephanie; Sidd...</td>\n",
       "      <td>2021 02 15</td>\n",
       "      <td>Alter, Galit</td>\n",
       "      <td>gentle reminder sent 8/16</td>\n",
       "      <td></td>\n",
       "      <td>pending POC</td>\n",
       "      <td></td>\n",
       "      <td></td>\n",
       "      <td></td>\n",
       "    </tr>\n",
       "    <tr>\n",
       "      <th>2</th>\n",
       "      <td></td>\n",
       "      <td>Clinical</td>\n",
       "      <td></td>\n",
       "      <td></td>\n",
       "      <td>Liu</td>\n",
       "      <td>SPDC-129</td>\n",
       "      <td>U01CA260476</td>\n",
       "      <td>SDY1787</td>\n",
       "      <td>CA260476</td>\n",
       "      <td>33589825.0</td>\n",
       "      <td>...</td>\n",
       "      <td>Nature medicine</td>\n",
       "      <td>Yannic C Bartsch # 1, Chuangqi Wang # 2, Tomer...</td>\n",
       "      <td></td>\n",
       "      <td>Alter, Galit</td>\n",
       "      <td>gentle reminder sent 8/16</td>\n",
       "      <td></td>\n",
       "      <td>pending POC</td>\n",
       "      <td></td>\n",
       "      <td></td>\n",
       "      <td></td>\n",
       "    </tr>\n",
       "    <tr>\n",
       "      <th>3</th>\n",
       "      <td></td>\n",
       "      <td>Clinical</td>\n",
       "      <td></td>\n",
       "      <td></td>\n",
       "      <td>Liu</td>\n",
       "      <td>SPDC-161</td>\n",
       "      <td>U01CA260476</td>\n",
       "      <td>SDY1826</td>\n",
       "      <td>CA260476</td>\n",
       "      <td>33775692.0</td>\n",
       "      <td>...</td>\n",
       "      <td>American journal of obstetrics and gynecology</td>\n",
       "      <td>Gray, Kathryn J; Bordt, Evan A; Atyeo, Carolin...</td>\n",
       "      <td>2021 Mar 26</td>\n",
       "      <td>Alter, Galit</td>\n",
       "      <td>gentle reminder sent 8/16</td>\n",
       "      <td></td>\n",
       "      <td>pending POC</td>\n",
       "      <td></td>\n",
       "      <td></td>\n",
       "      <td></td>\n",
       "    </tr>\n",
       "    <tr>\n",
       "      <th>4</th>\n",
       "      <td></td>\n",
       "      <td>Clinical</td>\n",
       "      <td></td>\n",
       "      <td></td>\n",
       "      <td>Liu</td>\n",
       "      <td>SPDC-61</td>\n",
       "      <td>U01CA260476</td>\n",
       "      <td>SDY1817</td>\n",
       "      <td>CA260476</td>\n",
       "      <td>33207184.0</td>\n",
       "      <td>...</td>\n",
       "      <td>Cell</td>\n",
       "      <td>Zohar, Tomer; Loos, Carolin; Fischinger, Steph...</td>\n",
       "      <td>2020 12 10</td>\n",
       "      <td>Alter, Galit</td>\n",
       "      <td>gentle reminder sent 8/16</td>\n",
       "      <td></td>\n",
       "      <td>pending POC</td>\n",
       "      <td></td>\n",
       "      <td>CC</td>\n",
       "      <td>Y</td>\n",
       "    </tr>\n",
       "  </tbody>\n",
       "</table>\n",
       "<p>5 rows × 23 columns</p>\n",
       "</div>"
      ],
      "text/plain": [
       "           NOTES Primary Research Topic Secondary Research Topic  \\\n",
       "0  SKIP (review)                                                   \n",
       "1                              Clinical                            \n",
       "2                              Clinical                            \n",
       "3                              Clinical                            \n",
       "4                              Clinical                            \n",
       "\n",
       "  Research Topic Comments Publication Owner JIRA Epic # Base_Project  \\\n",
       "0                                                        U01CA260476   \n",
       "1                                       Liu    SPDC-125  U01CA260476   \n",
       "2                                       Liu    SPDC-129  U01CA260476   \n",
       "3                                       Liu    SPDC-161  U01CA260476   \n",
       "4                                       Liu     SPDC-61  U01CA260476   \n",
       "\n",
       "  Status/ImmPort Study ID Base_Project.1        PMID  ...  \\\n",
       "0                               CA260476  33581646.0  ...   \n",
       "1                 SDY1825       CA260476  33589636.0  ...   \n",
       "2                 SDY1787       CA260476  33589825.0  ...   \n",
       "3                 SDY1826       CA260476  33775692.0  ...   \n",
       "4                 SDY1817       CA260476  33207184.0  ...   \n",
       "\n",
       "                                         Journal  \\\n",
       "0                    Current opinion in virology   \n",
       "1                          Nature communications   \n",
       "2                                Nature medicine   \n",
       "3  American journal of obstetrics and gynecology   \n",
       "4                                           Cell   \n",
       "\n",
       "                                           Author(s)     Pub Date  \\\n",
       "0  Webb, Nicholas E; Bernshtein, Biana; Alter, Galit     2021 Apr   \n",
       "1  Bartsch, Yannic C; Fischinger, Stephanie; Sidd...   2021 02 15   \n",
       "2  Yannic C Bartsch # 1, Chuangqi Wang # 2, Tomer...                \n",
       "3  Gray, Kathryn J; Bordt, Evan A; Atyeo, Carolin...  2021 Mar 26   \n",
       "4  Zohar, Tomer; Loos, Carolin; Fischinger, Steph...   2020 12 10   \n",
       "\n",
       "             PI                   poc name poc email       Status  \\\n",
       "0  Alter, Galit                                                     \n",
       "1  Alter, Galit  gentle reminder sent 8/16            pending POC   \n",
       "2  Alter, Galit  gentle reminder sent 8/16            pending POC   \n",
       "3  Alter, Galit  gentle reminder sent 8/16            pending POC   \n",
       "4  Alter, Galit  gentle reminder sent 8/16            pending POC   \n",
       "\n",
       "  status comment QA Review Responsible QA review complete (Y/N)  \n",
       "0                                                                \n",
       "1                                                                \n",
       "2                                                                \n",
       "3                                                                \n",
       "4                                   CC                        Y  \n",
       "\n",
       "[5 rows x 23 columns]"
      ]
     },
     "execution_count": 36,
     "metadata": {},
     "output_type": "execute_result"
    }
   ],
   "source": [
    "new_master_list.head()"
   ]
  },
  {
   "cell_type": "code",
   "execution_count": 227,
   "id": "57ee8c1a",
   "metadata": {},
   "outputs": [
    {
     "data": {
      "text/plain": [
       "set()"
      ]
     },
     "execution_count": 227,
     "metadata": {},
     "output_type": "execute_result"
    }
   ],
   "source": [
    "a = list(set(gov_df.PubMed_ID)- set(master_list.PMID))\n",
    "b = list(set(jenns_file.PubMed_ID))  \n",
    "set(a) - set(b)"
   ]
  },
  {
   "cell_type": "code",
   "execution_count": 19,
   "id": "10c35aaa",
   "metadata": {},
   "outputs": [
    {
     "data": {
      "text/plain": [
       "True"
      ]
     },
     "execution_count": 19,
     "metadata": {},
     "output_type": "execute_result"
    }
   ],
   "source": [
    "a.sort() == b.sort()"
   ]
  },
  {
   "cell_type": "code",
   "execution_count": null,
   "id": "1f26a38a",
   "metadata": {},
   "outputs": [],
   "source": []
  }
 ],
 "metadata": {
  "kernelspec": {
   "display_name": "Python 3",
   "language": "python",
   "name": "python3"
  },
  "language_info": {
   "codemirror_mode": {
    "name": "ipython",
    "version": 3
   },
   "file_extension": ".py",
   "mimetype": "text/x-python",
   "name": "python",
   "nbconvert_exporter": "python",
   "pygments_lexer": "ipython3",
   "version": "3.8.8"
  }
 },
 "nbformat": 4,
 "nbformat_minor": 5
}
