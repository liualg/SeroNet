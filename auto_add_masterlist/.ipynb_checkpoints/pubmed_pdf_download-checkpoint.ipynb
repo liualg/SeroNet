{
 "cells": [
  {
   "cell_type": "code",
   "execution_count": null,
   "metadata": {},
   "outputs": [],
   "source": [
    "# How do I auto download pdf and save them? `"
   ]
  },
  {
   "cell_type": "code",
   "execution_count": 1,
   "metadata": {},
   "outputs": [],
   "source": [
    "import requests \n",
    "from bs4 import BeautifulSoup\n",
    "from urllib.request import urlopen\n",
    "import pandas as pd \n",
    "from datetime import date \n",
    "import re"
   ]
  },
  {
   "cell_type": "code",
   "execution_count": 2,
   "metadata": {},
   "outputs": [],
   "source": [
    "def doi_id(search_url,ids):\n",
    "    url = search_url + str(ids)\n",
    "    # print(url)\n",
    "\n",
    "    page = urlopen(url)\n",
    "    html_doc = page.read()\n",
    "    html = html_doc.decode(\"utf-8\")\n",
    "\n",
    "    # parse html content\n",
    "    soup = BeautifulSoup( html_doc , 'html.parser')\n",
    "\n",
    "    # =============================================== #\n",
    "    # Finding by class name (title)\n",
    "    return(re.findall('(https:\\/\\/doi.*\\d)(?:\\\" ref)', str(soup), re.MULTILINE)[0])"
   ]
  },
  {
   "cell_type": "code",
   "execution_count": 3,
   "metadata": {},
   "outputs": [],
   "source": [
    "today = date.today()\n",
    "today = today.strftime(\"%y-%m-%d\")\n",
    "df = pd.read_csv(f'~/Documents/SeroNet/auto_add_masterlist/new_pmids/data_pull_{today}.csv')\n",
    "search_url= 'https://pubmed.ncbi.nlm.nih.gov/'\n"
   ]
  },
  {
   "cell_type": "code",
   "execution_count": 4,
   "metadata": {},
   "outputs": [
    {
     "name": "stdout",
     "output_type": "stream",
     "text": [
      "34652783 https://doi.org/10.1007/s40520-021-01987-9\n",
      "34648703 https://doi.org/10.1056/nejmc2115596\n",
      "34604788 https://doi.org/10.1158/2643-3230.bcd-20-0177\n",
      "34594341 https://doi.org/10.3389/fimmu.2021.739037\n",
      "34587763 https://doi.org/10.1161/circheartfailure.121.008573\n",
      "34584899 https://doi.org/10.1093/ofid/ofab448\n",
      "34545370 https://doi.org/10.1101/2021.09.11.21263211\n"
     ]
    }
   ],
   "source": [
    "for i in df.PMID:\n",
    "    print(i, doi_id(search_url,i))"
   ]
  },
  {
   "cell_type": "code",
   "execution_count": 68,
   "metadata": {},
   "outputs": [],
   "source": [
    "url = 'https://doi.org/10.1097/ede.0000000000001415'\n",
    "\n",
    "# page = urlopen(url)\n",
    "# html_doc = page.read()\n",
    "# html = html_doc.decode(\"utf-8\")\n",
    "\n",
    "# # parse html content\n",
    "# soup = BeautifulSoup( html_doc , 'html.parser')\n"
   ]
  },
  {
   "cell_type": "code",
   "execution_count": null,
   "metadata": {},
   "outputs": [],
   "source": []
  },
  {
   "cell_type": "code",
   "execution_count": null,
   "metadata": {},
   "outputs": [],
   "source": [
    "options = webdriver.ChromeOptions()\n",
    "options.add_experimental_option('prefs', {\n",
    "\"download.default_directory\": \"C:/Users/XXXX/Desktop\", #Change default directory for downloads\n",
    "\"download.prompt_for_download\": False, #To auto download the file\n",
    "\"download.directory_upgrade\": True,\n",
    "\"plugins.always_open_pdf_externally\": True #It will not show PDF directly in chrome\n",
    "})\n",
    "self.driver = webdriver.Chrome(options=options"
   ]
  },
  {
   "cell_type": "code",
   "execution_count": null,
   "metadata": {},
   "outputs": [],
   "source": []
  }
 ],
 "metadata": {
  "kernelspec": {
   "display_name": "Python 3",
   "language": "python",
   "name": "python3"
  },
  "language_info": {
   "codemirror_mode": {
    "name": "ipython",
    "version": 3
   },
   "file_extension": ".py",
   "mimetype": "text/x-python",
   "name": "python",
   "nbconvert_exporter": "python",
   "pygments_lexer": "ipython3",
   "version": "3.6.10"
  }
 },
 "nbformat": 4,
 "nbformat_minor": 5
}
