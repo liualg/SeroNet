{
 "cells": [
  {
   "cell_type": "code",
   "execution_count": 1,
   "metadata": {},
   "outputs": [],
   "source": [
    "import pandas as pd \n",
    "import numpy as np"
   ]
  },
  {
   "cell_type": "code",
   "execution_count": 2,
   "metadata": {},
   "outputs": [],
   "source": [
    "masterList = pd.read_excel(\"./../MasterList.xlsx\")"
   ]
  },
  {
   "cell_type": "code",
   "execution_count": 59,
   "metadata": {},
   "outputs": [
    {
     "data": {
      "text/html": [
       "<div>\n",
       "<style scoped>\n",
       "    .dataframe tbody tr th:only-of-type {\n",
       "        vertical-align: middle;\n",
       "    }\n",
       "\n",
       "    .dataframe tbody tr th {\n",
       "        vertical-align: top;\n",
       "    }\n",
       "\n",
       "    .dataframe thead th {\n",
       "        text-align: right;\n",
       "    }\n",
       "</style>\n",
       "<table border=\"1\" class=\"dataframe\">\n",
       "  <thead>\n",
       "    <tr style=\"text-align: right;\">\n",
       "      <th></th>\n",
       "      <th>Base_Project.1</th>\n",
       "      <th>PI</th>\n",
       "    </tr>\n",
       "  </thead>\n",
       "  <tbody>\n",
       "    <tr>\n",
       "      <th>0</th>\n",
       "      <td>21X092</td>\n",
       "      <td>Krammer (Cordon-Cardo)</td>\n",
       "    </tr>\n",
       "    <tr>\n",
       "      <th>1</th>\n",
       "      <td>21X092</td>\n",
       "      <td>Krammer (Cordon-Cardo)</td>\n",
       "    </tr>\n",
       "    <tr>\n",
       "      <th>2</th>\n",
       "      <td>CA260591</td>\n",
       "      <td>Vijayanand, Pandurangan</td>\n",
       "    </tr>\n",
       "    <tr>\n",
       "      <th>3</th>\n",
       "      <td>CA016520</td>\n",
       "      <td>NaN</td>\n",
       "    </tr>\n",
       "    <tr>\n",
       "      <th>4</th>\n",
       "      <td>CA260476</td>\n",
       "      <td>Barouch, Dan H</td>\n",
       "    </tr>\n",
       "  </tbody>\n",
       "</table>\n",
       "</div>"
      ],
      "text/plain": [
       "  Base_Project.1                       PI\n",
       "0         21X092   Krammer (Cordon-Cardo)\n",
       "1         21X092   Krammer (Cordon-Cardo)\n",
       "2       CA260591  Vijayanand, Pandurangan\n",
       "3       CA016520                      NaN\n",
       "4       CA260476           Barouch, Dan H"
      ]
     },
     "execution_count": 59,
     "metadata": {},
     "output_type": "execute_result"
    }
   ],
   "source": [
    "temp = masterList[['Base_Project.1','PI']]\n",
    "# .dropna().reset_index(drop=True)\n",
    "temp.head()"
   ]
  },
  {
   "cell_type": "code",
   "execution_count": 60,
   "metadata": {},
   "outputs": [
    {
     "data": {
      "text/plain": [
       "{'21X092': 'Krammer (Cordon-Cardo)',\n",
       " 'CA260591': 'Vijayanand, Pandurangan',\n",
       " 'CA016520': nan,\n",
       " 'CA260476': 'Barouch, Dan H',\n",
       " 'CA260462': nan,\n",
       " 'CA260508': 'Mantis, Nicholas J',\n",
       " 'CA260513': 'Zidar, David A',\n",
       " 'CA260539': nan,\n",
       " 'CA260492': 'Klein, Sabra L',\n",
       " 'CA260541': 'Sariol',\n",
       " 'CA260517': 'Boyd, Scott D',\n",
       " 'CA261277': 'Lipsitch, Marc',\n",
       " 'CA260543': 'Baric, Ralph S',\n",
       " 'CA260560': 'Hirsch, Fred',\n",
       " 'CA260563': 'Suthar, Mehul S (Sanz)',\n",
       " 'CA260581': 'Schieffelin, John S (Robinson)',\n",
       " 'CA260582': 'Oltz, Eugene',\n",
       " 'CA260588': 'Vijayanand, Pandurangan',\n",
       " nan: 'Jane C. Figueiredo'}"
      ]
     },
     "execution_count": 60,
     "metadata": {},
     "output_type": "execute_result"
    }
   ],
   "source": [
    "a = []\n",
    "b = []\n",
    "for i in range(len(temp['Base_Project.1'])):\n",
    "    if temp['Base_Project.1'][i] not in a:\n",
    "        a.append(temp['Base_Project.1'][i])\n",
    "        b.append(temp['PI'][i])\n",
    "\n",
    "dic = dict(zip(a,b))\n",
    "dic"
   ]
  },
  {
   "cell_type": "code",
   "execution_count": 75,
   "metadata": {},
   "outputs": [
    {
     "data": {
      "text/plain": [
       "['Barouch, Dan H', 'Boyd, Scott D', 'Vijayanand, Pandurangan', None]"
      ]
     },
     "execution_count": 75,
     "metadata": {},
     "output_type": "execute_result"
    }
   ],
   "source": [
    "test = ['CA260476','CA260517','CA260588','1231']\n",
    "[*map(dic.get,test)]\n"
   ]
  },
  {
   "cell_type": "code",
   "execution_count": null,
   "metadata": {},
   "outputs": [],
   "source": []
  }
 ],
 "metadata": {
  "kernelspec": {
   "display_name": "Python 3",
   "language": "python",
   "name": "python3"
  },
  "language_info": {
   "codemirror_mode": {
    "name": "ipython",
    "version": 3
   },
   "file_extension": ".py",
   "mimetype": "text/x-python",
   "name": "python",
   "nbconvert_exporter": "python",
   "pygments_lexer": "ipython3",
   "version": "3.6.10"
  }
 },
 "nbformat": 4,
 "nbformat_minor": 4
}
