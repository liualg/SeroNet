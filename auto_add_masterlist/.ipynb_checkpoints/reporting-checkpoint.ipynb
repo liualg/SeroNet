{
 "cells": [
  {
   "cell_type": "code",
   "execution_count": 79,
   "id": "90658de6",
   "metadata": {},
   "outputs": [],
   "source": [
    "import pandas as pd \n",
    "import numpy as np\n",
    "import shutil\n",
    "import glob\n",
    "import re\n",
    "\n",
    "from os.path import exists, basename\n",
    "from datetime import datetime\n"
   ]
  },
  {
   "cell_type": "code",
   "execution_count": 81,
   "id": "cd84d20b",
   "metadata": {},
   "outputs": [],
   "source": [
    "#finding Jira Pull from downloads\n",
    "base_dir = \"./Jira\"\n",
    "today = str(datetime.today().strftime(\"%Y-%m-%d\"))\n",
    "# today = 'TEST'\n",
    "today = '2021-12-17'\n",
    "tracker = f\"Manuscript Task Progress (NCI Tracker) {today}T\"\n",
    "\n",
    "#reporting file\n",
    "# reporting_file = base_dir + \"/reporting.csv\"\n",
    "reporting_file = base_dir + \"/reporting_test.csv\"\n",
    "\n",
    "#curation steps\n",
    "curation_step = \"./curationSteps.csv\"\n",
    "\n",
    "#moving to workspace\n",
    "try:\n",
    "    tracker_path = glob.glob(f\"/Users/liualg/Downloads/{tracker}*\")[0]\n",
    "    shutil.move(tracker_path, f\"{base_dir}/pull\")\n",
    "except:\n",
    "    print(\"NCI Tracker: does not exist\")"
   ]
  },
  {
   "cell_type": "code",
   "execution_count": 82,
   "id": "964861cc",
   "metadata": {},
   "outputs": [],
   "source": [
    "def condense_labels(df):\n",
    "    dfTracker = df\n",
    "    pmids = []\n",
    "    for count in range(len(dfTracker)):\n",
    "        if re.match(\"PMID_.*\", dfTracker['Labels'][count]):\n",
    "            pmids.append(dfTracker['Labels'][count])\n",
    "\n",
    "        elif re.match(\"PMID_.*\", dfTracker['Labels.1'][count]):\n",
    "            pmids.append(dfTracker['Labels.1'][count])\n",
    "\n",
    "        elif re.match(\"PMID_.*\", dfTracker['Labels.2'][count]):\n",
    "            pmids.append(dfTracker['Labels.2'][count])\n",
    "        else:\n",
    "            print(f'{count}: no PMID')\n",
    "\n",
    "    return(pmids)"
   ]
  },
  {
   "cell_type": "code",
   "execution_count": 83,
   "id": "4e1f8d3f",
   "metadata": {},
   "outputs": [],
   "source": [
    "if exists(f\"{base_dir}/pull/{basename(tracker_path)}\"):\n",
    "    dfTracker = pd.read_csv(f\"{base_dir}/pull/{basename(tracker_path)}\") #new data pull\n",
    "    pmids = condense_labels(dfTracker) # PMIDS for datapull\n",
    "    \n",
    "    if exists(reporting_file):\n",
    "        print('file exists')\n",
    "        report = pd.read_csv(reporting_file)\n",
    "        print(report)\n",
    "    else:\n",
    "        reporting_dict = {\n",
    "            'Percent done':['']*len(pmids),\n",
    "            'PMID':pmids,\n",
    "            today: dfTracker['Summary']\n",
    "        }\n",
    "        report = pd.DataFrame(reporting_dict)\n",
    "        report.to_csv(reporting_file,)\n",
    "else:\n",
    "    print('Tracker not in /Pull')"
   ]
  },
  {
   "cell_type": "code",
   "execution_count": 84,
   "id": "68884181",
   "metadata": {},
   "outputs": [],
   "source": [
    "new_pull = pd.DataFrame({\"PMID\":pmids, today: dfTracker['Summary']})\n",
    "new_column = ['']*len(report['PMID'])\n",
    "new_rows = []\n",
    "\n",
    "#matching PMIDs to current reporting document \n",
    "for specific_PMID in new_pull['PMID']:\n",
    "    if len(report.loc[report['PMID'] == specific_PMID]) > 0:\n",
    "        \n",
    "        #If the PMIDs exist, add to new_column list (using index)\n",
    "        index_PMID = report.loc[report['PMID'] == specific_PMID].index[0]\n",
    "        new_column[index_PMID] = new_pull[today][index_PMID]\n",
    "    else:\n",
    "        #Save the new PMIDs so we can add them as rows after \n",
    "         new_rows.append(specific_PMID)   \n",
    "\n",
    "report[today] = new_column"
   ]
  },
  {
   "cell_type": "code",
   "execution_count": 85,
   "id": "974ebba7",
   "metadata": {},
   "outputs": [],
   "source": [
    "#Adding new PMIDs as rows\n",
    "for new_PMID in new_rows:\n",
    "    #finding the index \n",
    "    index_PMID = new_pull.loc[new_pull['PMID'] == new_PMID].index[0]\n",
    "    \n",
    "    #Creating the row and adding it to the df\n",
    "    report.loc[len(report.index)] = [new_PMID,\n",
    "                                 ['']*(len(report.columns)-2),\n",
    "                                 new_pull[today][index_PMID]] \n",
    "    \n",
    "# display(report)\n"
   ]
  },
  {
   "cell_type": "markdown",
   "id": "cd3b5e3e",
   "metadata": {},
   "source": [
    "#### Adding % done ####"
   ]
  },
  {
   "cell_type": "code",
   "execution_count": 86,
   "id": "981b46ad",
   "metadata": {},
   "outputs": [],
   "source": [
    "step_list = pd.read_csv(curation_step)"
   ]
  },
  {
   "cell_type": "code",
   "execution_count": 87,
   "id": "1fd1df0b",
   "metadata": {},
   "outputs": [],
   "source": [
    "percent_done = []\n",
    "for current_step in report[today]:\n",
    "    step = step_list.loc[step_list['Curation Steps'] == current_step].index[0] + 1\n",
    "    percent_done.append('%' + str(int(step/len(step_list)*100)))\n",
    "\n",
    "report['Percent done'] = percent_done"
   ]
  },
  {
   "cell_type": "code",
   "execution_count": 88,
   "id": "dc830494",
   "metadata": {},
   "outputs": [
    {
     "data": {
      "text/html": [
       "<div>\n",
       "<style scoped>\n",
       "    .dataframe tbody tr th:only-of-type {\n",
       "        vertical-align: middle;\n",
       "    }\n",
       "\n",
       "    .dataframe tbody tr th {\n",
       "        vertical-align: top;\n",
       "    }\n",
       "\n",
       "    .dataframe thead th {\n",
       "        text-align: right;\n",
       "    }\n",
       "</style>\n",
       "<table border=\"1\" class=\"dataframe\">\n",
       "  <thead>\n",
       "    <tr style=\"text-align: right;\">\n",
       "      <th></th>\n",
       "      <th>Percent done</th>\n",
       "      <th>PMID</th>\n",
       "      <th>2021-12-17</th>\n",
       "    </tr>\n",
       "  </thead>\n",
       "  <tbody>\n",
       "    <tr>\n",
       "      <th>0</th>\n",
       "      <td>%15</td>\n",
       "      <td>PMID_33547084</td>\n",
       "      <td>POC Request Reminders</td>\n",
       "    </tr>\n",
       "    <tr>\n",
       "      <th>1</th>\n",
       "      <td>%20</td>\n",
       "      <td>PMID_34546094</td>\n",
       "      <td>Data Request sent</td>\n",
       "    </tr>\n",
       "    <tr>\n",
       "      <th>2</th>\n",
       "      <td>%5</td>\n",
       "      <td>PMID_34767812</td>\n",
       "      <td>Protocol Template</td>\n",
       "    </tr>\n",
       "    <tr>\n",
       "      <th>3</th>\n",
       "      <td>%5</td>\n",
       "      <td>PMID_34861167</td>\n",
       "      <td>Protocol Template</td>\n",
       "    </tr>\n",
       "    <tr>\n",
       "      <th>4</th>\n",
       "      <td>%40</td>\n",
       "      <td>PMID_34250518</td>\n",
       "      <td>Populate Study and Protocol Template</td>\n",
       "    </tr>\n",
       "  </tbody>\n",
       "</table>\n",
       "</div>"
      ],
      "text/plain": [
       "  Percent done           PMID                            2021-12-17\n",
       "0          %15  PMID_33547084                 POC Request Reminders\n",
       "1          %20  PMID_34546094                     Data Request sent\n",
       "2           %5  PMID_34767812                     Protocol Template\n",
       "3           %5  PMID_34861167                     Protocol Template\n",
       "4          %40  PMID_34250518  Populate Study and Protocol Template"
      ]
     },
     "execution_count": 88,
     "metadata": {},
     "output_type": "execute_result"
    }
   ],
   "source": [
    "report.head()"
   ]
  },
  {
   "cell_type": "code",
   "execution_count": 89,
   "id": "5e15ca70",
   "metadata": {},
   "outputs": [],
   "source": [
    "report.to_csv(reporting_file, index= False)"
   ]
  },
  {
   "cell_type": "code",
   "execution_count": null,
   "id": "3b33b0af",
   "metadata": {},
   "outputs": [],
   "source": []
  }
 ],
 "metadata": {
  "kernelspec": {
   "display_name": "Python 3",
   "language": "python",
   "name": "python3"
  },
  "language_info": {
   "codemirror_mode": {
    "name": "ipython",
    "version": 3
   },
   "file_extension": ".py",
   "mimetype": "text/x-python",
   "name": "python",
   "nbconvert_exporter": "python",
   "pygments_lexer": "ipython3",
   "version": "3.8.8"
  }
 },
 "nbformat": 4,
 "nbformat_minor": 5
}
