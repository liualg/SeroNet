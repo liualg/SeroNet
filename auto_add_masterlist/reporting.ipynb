{
 "cells": [
  {
   "cell_type": "code",
   "execution_count": 134,
   "id": "852e686b",
   "metadata": {},
   "outputs": [],
   "source": [
    "import pandas as pd \n",
    "import numpy as np\n",
    "import shutil\n",
    "import glob\n",
    "import re\n",
    "\n",
    "from os.path import exists, basename\n",
    "from datetime import datetime\n"
   ]
  },
  {
   "cell_type": "code",
   "execution_count": 142,
   "id": "27f1668c",
   "metadata": {},
   "outputs": [
    {
     "name": "stdout",
     "output_type": "stream",
     "text": [
      "NCI Tracker: does not exist\n"
     ]
    }
   ],
   "source": [
    "#finding Jira Pull from downloads\n",
    "base_dir = \"./Jira\"\n",
    "today = datetime.today().strftime(\"%Y-%m-%d\")\n",
    "tracker = f\"Manuscript Task Progress (NCI Tracker) {today}T\"\n",
    "\n",
    "#reporting file\n",
    "reporting_file = base_dir + \"/reporting.csv\"\n",
    "\n",
    "#curation steps\n",
    "curation_step = base_dir + \"/curationSteps.csv\"\n",
    "\n",
    "#moving to workspace\n",
    "try:\n",
    "    tracker_path = glob.glob(f\"/Users/liualg/Downloads/{tracker}*\")[0]\n",
    "    shutil.move(tracker_path, f\"{base_dir}/pull\")\n",
    "except:\n",
    "    print(\"NCI Tracker: does not exist\")"
   ]
  },
  {
   "cell_type": "code",
   "execution_count": 136,
   "id": "c818f15d",
   "metadata": {},
   "outputs": [],
   "source": [
    "if exists(f\"{base_dir}/pull/{basename(tracker_path)}\"):\n",
    "    dfTracker = pd.read_csv(f\"{base_dir}/pull/{basename(tracker_path)}\")"
   ]
  },
  {
   "cell_type": "code",
   "execution_count": 137,
   "id": "6fb2960d",
   "metadata": {},
   "outputs": [
    {
     "data": {
      "text/html": [
       "<div>\n",
       "<style scoped>\n",
       "    .dataframe tbody tr th:only-of-type {\n",
       "        vertical-align: middle;\n",
       "    }\n",
       "\n",
       "    .dataframe tbody tr th {\n",
       "        vertical-align: top;\n",
       "    }\n",
       "\n",
       "    .dataframe thead th {\n",
       "        text-align: right;\n",
       "    }\n",
       "</style>\n",
       "<table border=\"1\" class=\"dataframe\">\n",
       "  <thead>\n",
       "    <tr style=\"text-align: right;\">\n",
       "      <th></th>\n",
       "      <th>Summary</th>\n",
       "      <th>Labels</th>\n",
       "      <th>Labels.1</th>\n",
       "      <th>Labels.2</th>\n",
       "    </tr>\n",
       "  </thead>\n",
       "  <tbody>\n",
       "    <tr>\n",
       "      <th>0</th>\n",
       "      <td>POC Request Reminders</td>\n",
       "      <td>CA260560</td>\n",
       "      <td>Hirsch</td>\n",
       "      <td>PMID_33547084</td>\n",
       "    </tr>\n",
       "    <tr>\n",
       "      <th>1</th>\n",
       "      <td>Data Request sent</td>\n",
       "      <td>Barouch</td>\n",
       "      <td>CA260476</td>\n",
       "      <td>PMID_34546094</td>\n",
       "    </tr>\n",
       "    <tr>\n",
       "      <th>2</th>\n",
       "      <td>Protocol Template</td>\n",
       "      <td>CA260492</td>\n",
       "      <td>Klein</td>\n",
       "      <td>PMID_34767812</td>\n",
       "    </tr>\n",
       "    <tr>\n",
       "      <th>3</th>\n",
       "      <td>Protocol Template</td>\n",
       "      <td>Boyd</td>\n",
       "      <td>CA260517</td>\n",
       "      <td>PMID_34861167</td>\n",
       "    </tr>\n",
       "    <tr>\n",
       "      <th>4</th>\n",
       "      <td>Populate Study and Protocol Template</td>\n",
       "      <td>CA261277</td>\n",
       "      <td>Lipsitch</td>\n",
       "      <td>PMID_34250518</td>\n",
       "    </tr>\n",
       "    <tr>\n",
       "      <th>...</th>\n",
       "      <td>...</td>\n",
       "      <td>...</td>\n",
       "      <td>...</td>\n",
       "      <td>...</td>\n",
       "    </tr>\n",
       "    <tr>\n",
       "      <th>101</th>\n",
       "      <td>POC Request Reminders</td>\n",
       "      <td>Baric</td>\n",
       "      <td>CA260543</td>\n",
       "      <td>PMID_34431693</td>\n",
       "    </tr>\n",
       "    <tr>\n",
       "      <th>102</th>\n",
       "      <td>Data Request sent</td>\n",
       "      <td>Barouch</td>\n",
       "      <td>CA260476</td>\n",
       "      <td>PMID_34260834</td>\n",
       "    </tr>\n",
       "    <tr>\n",
       "      <th>103</th>\n",
       "      <td>ImmPort Informed</td>\n",
       "      <td>CA260582</td>\n",
       "      <td>Oltz</td>\n",
       "      <td>PMID_34353890</td>\n",
       "    </tr>\n",
       "    <tr>\n",
       "      <th>104</th>\n",
       "      <td>Determine other templates needed</td>\n",
       "      <td>CA260541</td>\n",
       "      <td>PMID_34230917</td>\n",
       "      <td>Sariol</td>\n",
       "    </tr>\n",
       "    <tr>\n",
       "      <th>105</th>\n",
       "      <td>Data Request sent</td>\n",
       "      <td>Barouch</td>\n",
       "      <td>CA260476</td>\n",
       "      <td>PMID_33207184</td>\n",
       "    </tr>\n",
       "  </tbody>\n",
       "</table>\n",
       "<p>106 rows × 4 columns</p>\n",
       "</div>"
      ],
      "text/plain": [
       "                                  Summary    Labels       Labels.1  \\\n",
       "0                   POC Request Reminders  CA260560         Hirsch   \n",
       "1                       Data Request sent   Barouch       CA260476   \n",
       "2                       Protocol Template  CA260492          Klein   \n",
       "3                       Protocol Template      Boyd       CA260517   \n",
       "4    Populate Study and Protocol Template  CA261277       Lipsitch   \n",
       "..                                    ...       ...            ...   \n",
       "101                 POC Request Reminders     Baric       CA260543   \n",
       "102                     Data Request sent   Barouch       CA260476   \n",
       "103                      ImmPort Informed  CA260582           Oltz   \n",
       "104      Determine other templates needed  CA260541  PMID_34230917   \n",
       "105                     Data Request sent   Barouch       CA260476   \n",
       "\n",
       "          Labels.2  \n",
       "0    PMID_33547084  \n",
       "1    PMID_34546094  \n",
       "2    PMID_34767812  \n",
       "3    PMID_34861167  \n",
       "4    PMID_34250518  \n",
       "..             ...  \n",
       "101  PMID_34431693  \n",
       "102  PMID_34260834  \n",
       "103  PMID_34353890  \n",
       "104         Sariol  \n",
       "105  PMID_33207184  \n",
       "\n",
       "[106 rows x 4 columns]"
      ]
     },
     "execution_count": 137,
     "metadata": {},
     "output_type": "execute_result"
    }
   ],
   "source": [
    "dfTracker[['Summary', 'Labels', 'Labels.1', 'Labels.2']]"
   ]
  },
  {
   "cell_type": "code",
   "execution_count": 138,
   "id": "71e96dd5",
   "metadata": {},
   "outputs": [
    {
     "data": {
      "text/plain": [
       "106"
      ]
     },
     "execution_count": 138,
     "metadata": {},
     "output_type": "execute_result"
    }
   ],
   "source": [
    "pmids = []\n",
    "for count in range(len(dfTracker)):\n",
    "    if re.match(\"PMID_.*\", dfTracker['Labels'][count]):\n",
    "        pmids.append(dfTracker['Labels'][count])\n",
    "        \n",
    "    elif re.match(\"PMID_.*\", dfTracker['Labels.1'][count]):\n",
    "        pmids.append(dfTracker['Labels.1'][count])\n",
    "        \n",
    "    elif re.match(\"PMID_.*\", dfTracker['Labels.2'][count]):\n",
    "        pmids.append(dfTracker['Labels.2'][count])\n",
    "    else:\n",
    "        print(f'{count}: no PMID')\n",
    "#     print(dfTracker['Labels'][count])\n",
    "#     print(value)\n",
    "\n",
    "# , 'Labels.1', 'Labels.2']]]\n",
    "len(pmids)"
   ]
  },
  {
   "cell_type": "code",
   "execution_count": 146,
   "id": "ef8506c5",
   "metadata": {},
   "outputs": [
    {
     "name": "stdout",
     "output_type": "stream",
     "text": [
      "file exists\n",
      "     Unnamed: 0           PMID                            2021-12-17\n",
      "0             0  PMID_33547084                 POC Request Reminders\n",
      "1             1  PMID_34546094                     Data Request sent\n",
      "2             2  PMID_34767812                     Protocol Template\n",
      "3             3  PMID_34861167                     Protocol Template\n",
      "4             4  PMID_34250518  Populate Study and Protocol Template\n",
      "..          ...            ...                                   ...\n",
      "101         101  PMID_34431693                 POC Request Reminders\n",
      "102         102  PMID_34260834                     Data Request sent\n",
      "103         103  PMID_34353890                      ImmPort Informed\n",
      "104         104  PMID_34230917      Determine other templates needed\n",
      "105         105  PMID_33207184                     Data Request sent\n",
      "\n",
      "[106 rows x 3 columns]\n"
     ]
    }
   ],
   "source": [
    "if exists(reporting_file):\n",
    "    print('file exists')\n",
    "    temp = pd.read_csv(reporting_file)\n",
    "    print(temp)\n",
    "else:\n",
    "    reporting_dict = {\n",
    "        'PMID':pmids,\n",
    "        today: dfTracker['Summary']\n",
    "    }\n",
    "    temp = pd.DataFrame(reporting_dict)\n",
    "    temp.to_csv(reporting_file)"
   ]
  },
  {
   "cell_type": "code",
   "execution_count": 157,
   "id": "4cd2a555",
   "metadata": {},
   "outputs": [
    {
     "data": {
      "text/plain": [
       "1"
      ]
     },
     "execution_count": 157,
     "metadata": {},
     "output_type": "execute_result"
    }
   ],
   "source": [
    "len(temp.loc[temp['PMID'] == 'PMID_34260834'])"
   ]
  },
  {
   "cell_type": "code",
   "execution_count": 141,
   "id": "cf24347d",
   "metadata": {},
   "outputs": [
    {
     "data": {
      "text/plain": [
       "Series([], Name: PMID, dtype: object)"
      ]
     },
     "execution_count": 141,
     "metadata": {},
     "output_type": "execute_result"
    }
   ],
   "source": [
    "temp['PMID'][temp['PMID'].duplicated()]"
   ]
  },
  {
   "cell_type": "code",
   "execution_count": 162,
   "id": "33c36e03",
   "metadata": {},
   "outputs": [
    {
     "name": "stdout",
     "output_type": "stream",
     "text": [
      "102\n"
     ]
    }
   ],
   "source": [
    "specific_PMID = 'PMID_34260834'\n",
    "new_pull = pd.DataFrame({\"PMID\":range(106)})\n",
    "new_column = ['']*len(new_pull['PMID'])\n",
    "\n",
    "if len(temp.loc[temp['PMID'] == specific_PMID]) > 0:\n",
    "    print(temp.loc[temp['PMID'] == specific_PMID].index[0])\n",
    "    "
   ]
  },
  {
   "cell_type": "code",
   "execution_count": 163,
   "id": "7bcefd78",
   "metadata": {},
   "outputs": [
    {
     "data": {
      "text/plain": [
       "106"
      ]
     },
     "execution_count": 163,
     "metadata": {},
     "output_type": "execute_result"
    }
   ],
   "source": [
    "len(new_column)"
   ]
  },
  {
   "cell_type": "code",
   "execution_count": 164,
   "id": "df94e1fe",
   "metadata": {},
   "outputs": [
    {
     "data": {
      "text/plain": [
       "['hi',\n",
       " '',\n",
       " '',\n",
       " '',\n",
       " '',\n",
       " '',\n",
       " '',\n",
       " '',\n",
       " '',\n",
       " '',\n",
       " '',\n",
       " '',\n",
       " '',\n",
       " '',\n",
       " '',\n",
       " '',\n",
       " '',\n",
       " '',\n",
       " '',\n",
       " '',\n",
       " '',\n",
       " '',\n",
       " '',\n",
       " '',\n",
       " '',\n",
       " '',\n",
       " '',\n",
       " '',\n",
       " '',\n",
       " '',\n",
       " '',\n",
       " '',\n",
       " '',\n",
       " '',\n",
       " '',\n",
       " '',\n",
       " '',\n",
       " '',\n",
       " '',\n",
       " '',\n",
       " '',\n",
       " '',\n",
       " '',\n",
       " '',\n",
       " '',\n",
       " '',\n",
       " '',\n",
       " '',\n",
       " '',\n",
       " '',\n",
       " '',\n",
       " '',\n",
       " '',\n",
       " '',\n",
       " '',\n",
       " '',\n",
       " '',\n",
       " '',\n",
       " '',\n",
       " '',\n",
       " '',\n",
       " '',\n",
       " '',\n",
       " '',\n",
       " '',\n",
       " '',\n",
       " '',\n",
       " '',\n",
       " '',\n",
       " '',\n",
       " '',\n",
       " '',\n",
       " '',\n",
       " '',\n",
       " '',\n",
       " '',\n",
       " '',\n",
       " '',\n",
       " '',\n",
       " '',\n",
       " '',\n",
       " '',\n",
       " '',\n",
       " '',\n",
       " '',\n",
       " '',\n",
       " '',\n",
       " '',\n",
       " '',\n",
       " '',\n",
       " '',\n",
       " '',\n",
       " '',\n",
       " '',\n",
       " '',\n",
       " '',\n",
       " '',\n",
       " '',\n",
       " '',\n",
       " '',\n",
       " '',\n",
       " '',\n",
       " '',\n",
       " '',\n",
       " '',\n",
       " '']"
      ]
     },
     "execution_count": 164,
     "metadata": {},
     "output_type": "execute_result"
    }
   ],
   "source": [
    "new_column[0] = 'hi'\n",
    "new_column"
   ]
  },
  {
   "cell_type": "code",
   "execution_count": null,
   "id": "bfe4bb9f",
   "metadata": {},
   "outputs": [],
   "source": []
  }
 ],
 "metadata": {
  "kernelspec": {
   "display_name": "Python 3",
   "language": "python",
   "name": "python3"
  },
  "language_info": {
   "codemirror_mode": {
    "name": "ipython",
    "version": 3
   },
   "file_extension": ".py",
   "mimetype": "text/x-python",
   "name": "python",
   "nbconvert_exporter": "python",
   "pygments_lexer": "ipython3",
   "version": "3.8.8"
  }
 },
 "nbformat": 4,
 "nbformat_minor": 5
}
